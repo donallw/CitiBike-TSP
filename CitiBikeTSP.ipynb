{
 "cells": [
  {
   "cell_type": "markdown",
   "metadata": {},
   "source": [
    "# CitiBike TSP\n",
    "**Algorithms Group 50**\\\n",
    "Donal Lowsley-Williams \\\n",
    "Joan La Rosa \\\n",
    "Isaac Lichter \\\n",
    "Weidong Gao \n",
    "\n",
    "We will be conducting the traveling salesman problem on New York City citibike data. We will be using each CitiBike station as the nodes in our graph, and represent the edge costs by the average time it takes to bike from one station to another. Edges will only include those rides in the CitiBike data that have actually occurred - in other words, if no ride in the data started at station A and ended at station B, we will not include that edge. This adds to the realism of the problem as it would be unlikely to take that edge anyways. Moreover, we will only have edges from one station to another - not one station to itself, as there are occurences of rides like this in the CitiBike data."
   ]
  },
  {
   "cell_type": "markdown",
   "metadata": {},
   "source": [
    "### Imports\n",
    "Will we be implementing these algorithms by hand, so we just need libraries for data loading and export, matrix manipulation functions, and some data exploration. "
   ]
  },
  {
   "cell_type": "code",
   "execution_count": 2,
   "metadata": {},
   "outputs": [],
   "source": [
    "import csv\n",
    "import json\n",
    "import numpy as np\n",
    "import pandas as pd\n",
    "import time\n",
    "import math\n",
    "from tqdm import tqdm\n",
    "import matplotlib.pyplot as plt"
   ]
  },
  {
   "cell_type": "markdown",
   "metadata": {},
   "source": [
    "# The Data\n",
    "We will get the data from CitiBike's openly available [System Data](https://s3.amazonaws.com/tripdata/index.html). The data we are using was the most recent as of this notebook's creation date, and was published by CitiBike on [**Oct 4th 2021, 01:26:29 pm**](https://s3.amazonaws.com/tripdata/202109-citibike-tripdata.csv.zip). This is the data of all rides taken on the CitiBike system during the month of September 2021. However, the preprocessing should work for any selection of the data from the system data, since they all should follow the same structure. \n",
    "\n",
    "Please store the data in a folder named **\"Data\"** with the name **\"citibike-data.csv\"**, like so: **\"Data/citibike-data.csv**"
   ]
  },
  {
   "cell_type": "code",
   "execution_count": 3,
   "metadata": {},
   "outputs": [
    {
     "name": "stderr",
     "output_type": "stream",
     "text": [
      "/Users/wdgao/opt/anaconda3/lib/python3.7/site-packages/IPython/core/interactiveshell.py:3058: DtypeWarning: Columns (7) have mixed types. Specify dtype option on import or set low_memory=False.\n",
      "  interactivity=interactivity, compiler=compiler, result=result)\n"
     ]
    }
   ],
   "source": [
    "df = pd.read_csv('Data/citibike-data.csv',\n",
    "                 parse_dates=['started_at','ended_at'])"
   ]
  },
  {
   "cell_type": "markdown",
   "metadata": {},
   "source": [
    "## Preprocessing\n",
    "In order to preprocess the data, \n",
    "\n",
    "### Data Cleaning\n",
    "\n",
    "First lets take a look at the length of our data."
   ]
  },
  {
   "cell_type": "code",
   "execution_count": 4,
   "metadata": {},
   "outputs": [
    {
     "data": {
      "text/plain": [
       "3280221"
      ]
     },
     "execution_count": 4,
     "metadata": {},
     "output_type": "execute_result"
    }
   ],
   "source": [
    "len(df)"
   ]
  },
  {
   "cell_type": "markdown",
   "metadata": {},
   "source": [
    "Now, lets see what the column was that caused data type issues. We can see from the error above that it was column 7, which corresponds to the `end_station_id`. "
   ]
  },
  {
   "cell_type": "code",
   "execution_count": 5,
   "metadata": {},
   "outputs": [
    {
     "data": {
      "text/plain": [
       "'end_station_id'"
      ]
     },
     "execution_count": 5,
     "metadata": {},
     "output_type": "execute_result"
    }
   ],
   "source": [
    "df.columns[7]"
   ]
  },
  {
   "cell_type": "markdown",
   "metadata": {},
   "source": [
    "In the data, we can see by looking at the csv file that these values are typically float values, so we can cast them to a numeric value. We set any values that can't be cast to a numeric value to `NaN` by setting `errors='coerce'`. "
   ]
  },
  {
   "cell_type": "code",
   "execution_count": 6,
   "metadata": {},
   "outputs": [],
   "source": [
    "df['end_station_id'] = df['end_station_id'].apply(pd.to_numeric, errors='coerce')"
   ]
  },
  {
   "cell_type": "markdown",
   "metadata": {},
   "source": [
    "We drop all null values. (those with `NaN`) This includes not just those with a faulty `end_station_id` value but those with errors elsewhere. We want to use only entries with full and complete data."
   ]
  },
  {
   "cell_type": "code",
   "execution_count": 7,
   "metadata": {},
   "outputs": [],
   "source": [
    "df = df.dropna()"
   ]
  },
  {
   "cell_type": "markdown",
   "metadata": {},
   "source": [
    "We can see that we dropped approx. 15K entries that had data issues or invalid end stations. This is negligible in the grand scheme of the project, given that we have about 3.2M entries. "
   ]
  },
  {
   "cell_type": "code",
   "execution_count": 8,
   "metadata": {},
   "outputs": [
    {
     "data": {
      "text/plain": [
       "3264732"
      ]
     },
     "execution_count": 8,
     "metadata": {},
     "output_type": "execute_result"
    }
   ],
   "source": [
    "len(df)"
   ]
  },
  {
   "cell_type": "markdown",
   "metadata": {},
   "source": [
    "Let's take a peek at our data and its types. We can see that many use the dtype object, which pandas uses to refer to strings with varying length. We can leave this be. We have a couple date items, which we set when reading the csv file. The remaining data is all float data. "
   ]
  },
  {
   "cell_type": "code",
   "execution_count": 9,
   "metadata": {},
   "outputs": [
    {
     "name": "stdout",
     "output_type": "stream",
     "text": [
      "<class 'pandas.core.frame.DataFrame'>\n",
      "Int64Index: 3264732 entries, 0 to 3280220\n",
      "Data columns (total 13 columns):\n",
      "ride_id               object\n",
      "rideable_type         object\n",
      "started_at            datetime64[ns]\n",
      "ended_at              datetime64[ns]\n",
      "start_station_name    object\n",
      "start_station_id      float64\n",
      "end_station_name      object\n",
      "end_station_id        float64\n",
      "start_lat             float64\n",
      "start_lng             float64\n",
      "end_lat               float64\n",
      "end_lng               float64\n",
      "member_casual         object\n",
      "dtypes: datetime64[ns](2), float64(6), object(5)\n",
      "memory usage: 348.7+ MB\n"
     ]
    }
   ],
   "source": [
    "df.info()"
   ]
  },
  {
   "cell_type": "markdown",
   "metadata": {},
   "source": [
    "Let's conduct a quick sanity check to ensure the data is properly cleaned:"
   ]
  },
  {
   "cell_type": "code",
   "execution_count": 10,
   "metadata": {
    "scrolled": true
   },
   "outputs": [
    {
     "data": {
      "text/plain": [
       "False"
      ]
     },
     "execution_count": 10,
     "metadata": {},
     "output_type": "execute_result"
    }
   ],
   "source": [
    "len(df['start_station_id'].unique()) == len(df['start_station_name'].unique())"
   ]
  },
  {
   "cell_type": "markdown",
   "metadata": {},
   "source": [
    "Uh-oh. Lets dig into this to see what the problem is. Lets look at these values. "
   ]
  },
  {
   "cell_type": "code",
   "execution_count": 11,
   "metadata": {},
   "outputs": [
    {
     "name": "stdout",
     "output_type": "stream",
     "text": [
      "start station id uniques:  1488\n",
      "start station name uniques:  1493\n",
      "False\n"
     ]
    }
   ],
   "source": [
    "print('start station id uniques: ',len(df['start_station_id'].unique()))\n",
    "print('start station name uniques: ',len(df['start_station_name'].unique()))\n",
    "print(len(df['start_station_id'].unique()) == len(df['start_station_name'].unique()))"
   ]
  },
  {
   "cell_type": "markdown",
   "metadata": {},
   "source": [
    "So we see that there are more names than there are id's. Lets make a copy of the columns in the data causing an issue. "
   ]
  },
  {
   "cell_type": "code",
   "execution_count": 12,
   "metadata": {},
   "outputs": [],
   "source": [
    "sample = df[['start_station_id', 'start_station_name']].copy().drop_duplicates()"
   ]
  },
  {
   "cell_type": "markdown",
   "metadata": {},
   "source": [
    "Next, we are going to pull each unique row by dropping the duplicates from this sample. This will let us examing all the unique start station id / name pairs. Next, we can count the frequency of each id occuring - since we know there are less id's than there are names. We can then sort this and view the id's that have more than one name."
   ]
  },
  {
   "cell_type": "code",
   "execution_count": 13,
   "metadata": {},
   "outputs": [
    {
     "data": {
      "text/html": [
       "<div>\n",
       "<style scoped>\n",
       "    .dataframe tbody tr th:only-of-type {\n",
       "        vertical-align: middle;\n",
       "    }\n",
       "\n",
       "    .dataframe tbody tr th {\n",
       "        vertical-align: top;\n",
       "    }\n",
       "\n",
       "    .dataframe thead th {\n",
       "        text-align: right;\n",
       "    }\n",
       "</style>\n",
       "<table border=\"1\" class=\"dataframe\">\n",
       "  <thead>\n",
       "    <tr style=\"text-align: right;\">\n",
       "      <th></th>\n",
       "      <th>start_station_name</th>\n",
       "    </tr>\n",
       "    <tr>\n",
       "      <th>start_station_id</th>\n",
       "      <th></th>\n",
       "    </tr>\n",
       "  </thead>\n",
       "  <tbody>\n",
       "    <tr>\n",
       "      <td>5303.08</td>\n",
       "      <td>1</td>\n",
       "    </tr>\n",
       "    <tr>\n",
       "      <td>5303.06</td>\n",
       "      <td>1</td>\n",
       "    </tr>\n",
       "    <tr>\n",
       "      <td>5300.06</td>\n",
       "      <td>1</td>\n",
       "    </tr>\n",
       "    <tr>\n",
       "      <td>5300.05</td>\n",
       "      <td>1</td>\n",
       "    </tr>\n",
       "    <tr>\n",
       "      <td>8841.03</td>\n",
       "      <td>1</td>\n",
       "    </tr>\n",
       "    <tr>\n",
       "      <td>5382.07</td>\n",
       "      <td>2</td>\n",
       "    </tr>\n",
       "    <tr>\n",
       "      <td>4488.09</td>\n",
       "      <td>2</td>\n",
       "    </tr>\n",
       "    <tr>\n",
       "      <td>5190.09</td>\n",
       "      <td>2</td>\n",
       "    </tr>\n",
       "    <tr>\n",
       "      <td>5422.04</td>\n",
       "      <td>2</td>\n",
       "    </tr>\n",
       "    <tr>\n",
       "      <td>4781.05</td>\n",
       "      <td>2</td>\n",
       "    </tr>\n",
       "  </tbody>\n",
       "</table>\n",
       "</div>"
      ],
      "text/plain": [
       "                  start_station_name\n",
       "start_station_id                    \n",
       "5303.08                            1\n",
       "5303.06                            1\n",
       "5300.06                            1\n",
       "5300.05                            1\n",
       "8841.03                            1\n",
       "5382.07                            2\n",
       "4488.09                            2\n",
       "5190.09                            2\n",
       "5422.04                            2\n",
       "4781.05                            2"
      ]
     },
     "execution_count": 13,
     "metadata": {},
     "output_type": "execute_result"
    }
   ],
   "source": [
    "sample.groupby('start_station_id').count().sort_values('start_station_name').tail(10)"
   ]
  },
  {
   "cell_type": "markdown",
   "metadata": {},
   "source": [
    "Now we see the problematic values are the last five entries in the above dataframe. We can iterate over these and observe what might be the problem by converting them to raw NumPy arrays. "
   ]
  },
  {
   "cell_type": "code",
   "execution_count": 14,
   "metadata": {},
   "outputs": [
    {
     "name": "stdout",
     "output_type": "stream",
     "text": [
      "Entry 0 ['Forsyth St\\\\t& Grand St' 'Forsyth St\\t& Grand St']\n",
      "Entry 1 ['Boerum Pl\\\\t& Pacific St' 'Boerum Pl\\t& Pacific St']\n",
      "Entry 2 ['Clinton St\\\\t& Cherry St' 'Clinton St\\t& Cherry St']\n",
      "Entry 3 ['Howard St & Lafayette St' 'Howard St & Centre St']\n",
      "Entry 4 ['Nassau St\\\\t& Duffield St' 'Nassau St\\t& Duffield St']\n"
     ]
    }
   ],
   "source": [
    "faulty_ids = np.array(\n",
    "    sample.groupby('start_station_id').count().sort_values('start_station_name').tail(5).T.columns\n",
    ")\n",
    "\n",
    "# iterate over the faulty station ids\n",
    "for idx, station_id in enumerate(faulty_ids):\n",
    "    faulty_entries = sample.loc[sample['start_station_id'] == station_id]\n",
    "    print('Entry',idx,np.array(faulty_entries['start_station_name']))\n",
    "del sample, faulty_entries, faulty_ids, idx, station_id"
   ]
  },
  {
   "cell_type": "markdown",
   "metadata": {},
   "source": [
    "The problem for most of these appear to be some sort of string parsing issue. This is good, because it means we can ignore it and **simply focus on the station_id's**. However, we see that entry 3 has actual different names. Let us examing this in [Google Maps](https://www.google.com/maps/place/Citi+Bike:+Howard+St+%26+Lafayette+St/@40.7191002,-73.9996465,20z/data=!4m13!1m7!3m6!1s0x89c2598992b42c11:0xa58f248cc38ef667!2sLafayette+St+%26+Howard+St,+New+York,+NY+10013!3b1!8m2!3d40.7192055!4d-73.9998472!3m4!1s0x89c25989ed219c2b:0x5828092994c0b427!8m2!3d40.7191053!4d-73.9997333). We can see that this station is nestled right between those two streets, so it refers to the same station. Again, we can ignore this and **simply focus on the station_id's**."
   ]
  },
  {
   "cell_type": "markdown",
   "metadata": {},
   "source": [
    "![title](./lafayettecentre.png)"
   ]
  },
  {
   "cell_type": "markdown",
   "metadata": {},
   "source": [
    "Let us perform one last sanity check before we start feature engineering, and ensure that there are the same number of start stations as there are end stations."
   ]
  },
  {
   "cell_type": "code",
   "execution_count": 15,
   "metadata": {},
   "outputs": [
    {
     "data": {
      "text/plain": [
       "True"
      ]
     },
     "execution_count": 15,
     "metadata": {},
     "output_type": "execute_result"
    }
   ],
   "source": [
    "len(df['start_station_id'].unique()) == len(df['end_station_id'].unique())"
   ]
  },
  {
   "cell_type": "markdown",
   "metadata": {},
   "source": [
    "We can ensure that all the entries in start_station_id are also present in end_station_id. This way, we know by iterating only over one of these lists ensures we are iterating across all potential station_ids. "
   ]
  },
  {
   "cell_type": "code",
   "execution_count": 16,
   "metadata": {},
   "outputs": [
    {
     "name": "stdout",
     "output_type": "stream",
     "text": [
      "data matches\n"
     ]
    }
   ],
   "source": [
    "is_complete = True\n",
    "for val in df['start_station_id'].unique():\n",
    "    if val not in df['end_station_id'].unique():\n",
    "        is_complete = False\n",
    "print('data matches') if is_complete else print('Error; data mistmatch')\n",
    "del val, is_complete"
   ]
  },
  {
   "cell_type": "markdown",
   "metadata": {},
   "source": [
    "Looks like we are good to go. Let's pull the necesary data for our algorithms into another dataframe to keep things clean."
   ]
  },
  {
   "cell_type": "markdown",
   "metadata": {},
   "source": [
    "### Edge Costs\n",
    "Now we need to compute edge costs between each station, and store this in a cost matrix. We can do this by first simply subtracting the start time from the end time. Since these are date objects, we can convert them to raw integers representing seconds by dividing by a 1 second numpy date time value to get total seconds and then casting to int32."
   ]
  },
  {
   "cell_type": "code",
   "execution_count": 17,
   "metadata": {},
   "outputs": [],
   "source": [
    "positions = df[['start_station_id', 'start_lat', 'start_lng']].drop_duplicates('start_station_id')[['start_lat', 'start_lng']].copy()"
   ]
  },
  {
   "cell_type": "code",
   "execution_count": 18,
   "metadata": {},
   "outputs": [],
   "source": [
    "stations = df['start_station_id'].unique().copy()"
   ]
  },
  {
   "cell_type": "code",
   "execution_count": 19,
   "metadata": {},
   "outputs": [],
   "source": [
    "station_to_idx = {k : v for v, k in enumerate(df['start_station_id'].unique())}"
   ]
  },
  {
   "cell_type": "code",
   "execution_count": 20,
   "metadata": {},
   "outputs": [
    {
     "name": "stderr",
     "output_type": "stream",
     "text": [
      "100%|██████████| 1488/1488 [03:47<00:00,  6.54it/s]\n"
     ]
    }
   ],
   "source": [
    "num_stations = len(df['start_station_id'].unique())\n",
    "edge_costs = np.zeros((num_stations, num_stations))\n",
    "\n",
    "for i in tqdm(range(num_stations)):\n",
    "    for j in range(num_stations):\n",
    "        pos1 = positions.iloc[i].to_numpy()\n",
    "        pos2 = positions.iloc[j].to_numpy()\n",
    "        edge_costs[i][j] = np.linalg.norm(pos2-pos1)"
   ]
  },
  {
   "cell_type": "code",
   "execution_count": 21,
   "metadata": {},
   "outputs": [],
   "source": [
    "def get_edge_cost(start_station_id, end_station_id):\n",
    "    idx1 = station_to_idx[start_station_id]\n",
    "    idx2 = station_to_idx[end_station_id]\n",
    "    return edge_costs[idx1][idx2]"
   ]
  },
  {
   "cell_type": "markdown",
   "metadata": {},
   "source": [
    "Next up is creating our actual cost data. What we want here is a DataFrame that contains average trip cost from each start station to each end station (when they are not the same), across all rides between those two stations. We can do this by pulling out only our relevant values - `start_station_id`, `end_station_id`, and `trip_cost`, and then dropping all the entries where the start station is equivalent to the end station. Then we group them by their `start_station_id` / `end_station_id` and take an average of the remaining columns - which is just `trip_cost`."
   ]
  },
  {
   "cell_type": "markdown",
   "metadata": {},
   "source": [
    "# The Algorithms\n",
    "Now that we have pulled and preprocessed our data, we can begin to test various algorithms against it. We will test the following algorithms:\n",
    "\n",
    "**Greedy**\n",
    "- Nearest Neighbor\n",
    "- Farthest First Traversal\n",
    "\n",
    "**?????**\n",
    "- Christofides Algorithm \n",
    "\n",
    "**K-opt Heuristic Algorithms**\n",
    "- 2-OPT\n",
    "- 3-OPT\n",
    "- Lin-Kernighan Heuristic"
   ]
  },
  {
   "cell_type": "markdown",
   "metadata": {},
   "source": [
    "### Helper Function\n",
    "Before we do anything, let's write a little function to time our algorithms and make for easy comparison. "
   ]
  },
  {
   "cell_type": "code",
   "execution_count": 22,
   "metadata": {},
   "outputs": [],
   "source": [
    "def check_performance(fn, station_ids, distances):\n",
    "    start = time.time()\n",
    "    _, _ = fn(station_ids, distances)\n",
    "    end = time.time()\n",
    "    return end - start\n",
    "\n",
    "def compare_algorithms(fn_list, station_ids, distances, num_iters=5):\n",
    "    results = {}\n",
    "    for algo in fn_list:\n",
    "        t = 0\n",
    "        print('testing algo: ',algo.__name__)\n",
    "        for _ in tqdm(range(num_iters)):\n",
    "            t += check_performance(algo, station_ids, distances)\n",
    "        results[algo.__name__] = t / num_iters\n",
    "    return results"
   ]
  },
  {
   "cell_type": "code",
   "execution_count": 23,
   "metadata": {},
   "outputs": [
    {
     "data": {
      "text/plain": [
       "array([[0.        , 0.07276445, 0.11477633, ..., 0.08772172, 0.11995613,\n",
       "        0.09322346],\n",
       "       [0.07276445, 0.        , 0.05830892, ..., 0.15964082, 0.10937608,\n",
       "        0.16469579],\n",
       "       [0.11477633, 0.05830892, 0.        , ..., 0.19201516, 0.07694175,\n",
       "        0.1956071 ],\n",
       "       ...,\n",
       "       [0.08772172, 0.15964082, 0.19201516, ..., 0.        , 0.16531649,\n",
       "        0.00686301],\n",
       "       [0.11995613, 0.10937608, 0.07694175, ..., 0.16531649, 0.        ,\n",
       "        0.1663306 ],\n",
       "       [0.09322346, 0.16469579, 0.1956071 , ..., 0.00686301, 0.1663306 ,\n",
       "        0.        ]])"
      ]
     },
     "execution_count": 23,
     "metadata": {},
     "output_type": "execute_result"
    }
   ],
   "source": [
    "edge_costs"
   ]
  },
  {
   "cell_type": "code",
   "execution_count": 24,
   "metadata": {},
   "outputs": [
    {
     "data": {
      "text/plain": [
       "(1488, 1488)"
      ]
     },
     "execution_count": 24,
     "metadata": {},
     "output_type": "execute_result"
    }
   ],
   "source": [
    "edge_costs.shape"
   ]
  },
  {
   "cell_type": "markdown",
   "metadata": {},
   "source": [
    "## Simulated Annealing"
   ]
  },
  {
   "cell_type": "code",
   "execution_count": 25,
   "metadata": {},
   "outputs": [],
   "source": [
    "def check_state_cost(state, swapped):\n",
    "    swap_1, swap_2 = swapped\n",
    "    state_len = len(state)\n",
    "    curr_cost = 0\n",
    "    swapped_cost = 0\n",
    "    for idx, station in enumerate(state):\n",
    "        if idx + 1 < state_len:\n",
    "            next_station = state[idx + 1]\n",
    "            cost = get_edge_cost(station, next_station)\n",
    "            curr_cost += cost\n",
    "            \n",
    "            swap_occurs = False\n",
    "            \n",
    "            if idx == swap_1:\n",
    "                station = state[swap_2]\n",
    "                swap_occurs = True\n",
    "            elif idx == swap_2:\n",
    "                station = state[swap_1]\n",
    "                swap_occurs = True\n",
    "            if idx + 1 == swap_1:\n",
    "                next_station = state[swap_2]\n",
    "                swap_occurs = True\n",
    "            elif idx + 1 == swap_2:\n",
    "                next_station = state[swap_1]\n",
    "                swap_occurs = True\n",
    "                \n",
    "            if swap_occurs:\n",
    "                cost = cost = get_edge_cost(station, next_station)\n",
    "            swapped_cost += cost\n",
    "            \n",
    "    return curr_cost, swapped_cost"
   ]
  },
  {
   "cell_type": "markdown",
   "metadata": {},
   "source": [
    "https://www.fourmilab.ch/documents/travelling/anneal/\n",
    "\n",
    "https://codecapsule.com/2010/04/06/simulated-annealing-traveling-salesman/\n",
    "\n",
    "https://en.wikipedia.org/wiki/Simulated_annealing"
   ]
  },
  {
   "cell_type": "code",
   "execution_count": 27,
   "metadata": {},
   "outputs": [],
   "source": [
    "def sim_annealing(edge_costs, k=1000):\n",
    "    cost_list = []\n",
    "    current_state = stations.copy()\n",
    "    np.random.shuffle(current_state)\n",
    "    size = len(current_state)-1\n",
    "    temperature = 1\n",
    "    \n",
    "    for i in tqdm(range(k)):\n",
    "        swapped = np.random.randint(low=0, high=size, size=2)\n",
    "        while swapped[0] == swapped[1]:\n",
    "            swapped = np.random.randint(low=0, high=size, size=2)\n",
    "\n",
    "        current_cost, swapped_cost = check_state_cost(current_state, swapped)\n",
    "        cost_list.append(current_cost)\n",
    "        \n",
    "        if (swapped_cost < current_cost):\n",
    "            keep_swap = 1\n",
    "        else:\n",
    "            keep_swap = math.exp(-(swapped_cost - current_cost) / temperature)\n",
    "        \n",
    "        temperature *= 0.9\n",
    "        \n",
    "        if (np.random.random() < keep_swap):\n",
    "            swap_1, swap_2 = swapped\n",
    "            current_state[swap_1], current_state[swap_2] = current_state[swap_2], current_state[swap_1]\n",
    "                \n",
    "    return current_state, current_cost, cost_list\n",
    "        "
   ]
  },
  {
   "cell_type": "code",
   "execution_count": 28,
   "metadata": {
    "scrolled": true
   },
   "outputs": [
    {
     "name": "stderr",
     "output_type": "stream",
     "text": [
      "  7%|▋         | 6741/100000 [00:17<04:03, 383.57it/s]/Users/wdgao/opt/anaconda3/lib/python3.7/site-packages/ipykernel_launcher.py:19: RuntimeWarning: overflow encountered in double_scalars\n",
      "100%|██████████| 100000/100000 [04:25<00:00, 376.40it/s]\n"
     ]
    }
   ],
   "source": [
    "path, cost, cost_list = sim_annealing(edge_costs, k=int(1e5))"
   ]
  },
  {
   "cell_type": "code",
   "execution_count": 29,
   "metadata": {},
   "outputs": [
    {
     "data": {
      "text/plain": [
       "34.469558768951686"
      ]
     },
     "execution_count": 29,
     "metadata": {},
     "output_type": "execute_result"
    }
   ],
   "source": [
    "cost"
   ]
  },
  {
   "cell_type": "code",
   "execution_count": 30,
   "metadata": {},
   "outputs": [
    {
     "data": {
      "image/png": "[encoded data removed]",
      "text/plain": [
       "<Figure size 432x288 with 1 Axes>"
      ]
     },
     "metadata": {
      "needs_background": "light"
     },
     "output_type": "display_data"
    }
   ],
   "source": [
    "plt.plot(cost_list)\n",
    "plt.ylabel('Cost')\n",
    "plt.xlabel('Num Iterations (k)')\n",
    "plt.title('Simulated Annealing Costs Across k-iterations (100,000)')\n",
    "plt.show()"
   ]
  },
  {
   "cell_type": "markdown",
   "metadata": {},
   "source": [
    "## Greedy Algorithms\n",
    "First, we will examine various greedy algorithms and their effectiveness on the data. "
   ]
  },
  {
   "cell_type": "markdown",
   "metadata": {},
   "source": [
    "### Nearest Neighbor\n",
    "\n",
    "The nearest neighbor algorithm is very simple and simply starts at a random node (or station in our example) and continues to visit unvisited nodes that are as close to the last visited node as possible .\n",
    "\n",
    "**Psuedocode:** \\\n",
    "These are the steps of the algorithm:\n",
    "\n",
    "    Initialize all vertices as unvisited.\n",
    "    Select an arbitrary vertex, set it as the current vertex u. Mark u as visited.\n",
    "    Find out the shortest edge connecting the current vertex u and an unvisited vertex v.\n",
    "    Set v as the current vertex u. Mark v as visited.\n",
    "    If all the vertices in the domain are visited, then terminate. Else, go to step 3.\n",
    "\n",
    "The sequence of the visited vertices is the output of the algorithm. \n",
    "\n",
    "**Time complexity:** Worst Case O(N^2)\n",
    "\n",
    "**Space complexity:** Worst Case O(N)\n",
    "\n",
    "[Source (wikipedia)](https://en.wikipedia.org/wiki/Nearest_neighbour_algorithm)"
   ]
  },
  {
   "cell_type": "code",
   "execution_count": 66,
   "metadata": {},
   "outputs": [],
   "source": [
    "# Nearest Neighbor\n",
    "def nearest_neighbor():\n",
    "    cost = 0\n",
    "    uniques = stations.copy()\n",
    "    start = uniques[np.random.randint(len(uniques))]\n",
    "    unvisited = set(uniques)\n",
    "    path = [start]\n",
    "    unvisited.remove(start)\n",
    "    for _ in tqdm(range(len(unvisited))):\n",
    "        last = path[-1]\n",
    "        idx1 = station_to_idx[last]\n",
    "        min_cost = np.Inf\n",
    "        for station in unvisited:\n",
    "            idx2 = station_to_idx[station]\n",
    "            dist = get_edge_cost(last, station)\n",
    "            if dist < min_cost:\n",
    "                min_cost = dist\n",
    "                min_station = station\n",
    "        unvisited.remove(min_station)\n",
    "        path.append(min_station)\n",
    "        cost += min_cost\n",
    "            \n",
    "    return path, cost"
   ]
  },
  {
   "cell_type": "code",
   "execution_count": 67,
   "metadata": {},
   "outputs": [
    {
     "name": "stderr",
     "output_type": "stream",
     "text": [
      "100%|██████████| 1487/1487 [00:00<00:00, 2071.72it/s]"
     ]
    },
    {
     "name": "stdout",
     "output_type": "stream",
     "text": [
      "cost:  5.1264798769535735\n"
     ]
    },
    {
     "name": "stderr",
     "output_type": "stream",
     "text": [
      "\n"
     ]
    }
   ],
   "source": [
    "nn_path, cost = nearest_neighbor()\n",
    "print('cost: ',cost)"
   ]
  },
  {
   "cell_type": "code",
   "execution_count": 68,
   "metadata": {},
   "outputs": [
    {
     "data": {
      "text/plain": [
       "5.1264798769535735"
      ]
     },
     "execution_count": 68,
     "metadata": {},
     "output_type": "execute_result"
    }
   ],
   "source": [
    "calPathDist(nn_path)"
   ]
  },
  {
   "cell_type": "markdown",
   "metadata": {},
   "source": [
    "### Farthest-First Traversal (Farthest Insertion)\n",
    "\n",
    "**PseudoCode:**\\\n",
    "The farthest-first traversal of a finite point set may be computed by a greedy algorithm that maintains the distance of each point from the previously selected points, performing the following steps:[3]\n",
    "\n",
    "    Initialize the sequence of selected points to the empty sequence, and the distances of each point to the selected points to infinity.\n",
    "    While not all points have been selected, repeat the following steps:\n",
    "        Scan the list of not-yet-selected points to find a point p that has maximum distance from the selected points.\n",
    "        Remove p from the not-yet-selected points and add it to the end of the sequence of selected points.\n",
    "        For each remaining not-yet-selected point q, replace the distance stored for q by the minimum of its old value and the distance from p to q.\n",
    "\n",
    "**Time complexity:** Worst Case O(N^2)\n",
    "\n",
    "**Space complexity:** Worst Case O(N)\n",
    "\n",
    "[Source (wikipedia)](https://en.wikipedia.org/wiki/Farthest-first_traversal)\n",
    "\n",
    "\n",
    "#### Farthest Insertion \n",
    "**PseudoCode:**\n",
    " 1. Start with a sub-graph consisting of node i only.\n",
    " 2. Find node r such that cir is maximal and form sub-tour i-r-i.\n",
    " 3. (Selection step) Given a sub-tour, find node r not in the sub-tour farthest from any node in the sub-tour; i.e. with maximal crj\n",
    " 4. (Insertion step) Find the arc (i, j) in the sub-tour which minimizes cir + crj - cij . Insert r between i and j.\n",
    " 5. If all the nodes are added to the tour, stop. Else go to step 3\n",
    "\n",
    "https://www2.isye.gatech.edu/~mgoetsch/cali/VEHICLE/TSP/TSP015__.HTM\n"
   ]
  },
  {
   "cell_type": "code",
   "execution_count": 63,
   "metadata": {},
   "outputs": [
    {
     "data": {
      "text/plain": [
       "-inf"
      ]
     },
     "execution_count": 63,
     "metadata": {},
     "output_type": "execute_result"
    }
   ],
   "source": [
    "np.NINF"
   ]
  },
  {
   "cell_type": "code",
   "execution_count": 50,
   "metadata": {},
   "outputs": [
    {
     "data": {
      "text/plain": [
       "inf"
      ]
     },
     "execution_count": 50,
     "metadata": {},
     "output_type": "execute_result"
    }
   ],
   "source": [
    "np.PINF"
   ]
  },
  {
   "cell_type": "code",
   "execution_count": 56,
   "metadata": {},
   "outputs": [],
   "source": [
    "# Farthest-First Traversal\n",
    "def farthest_first():\n",
    "    cost = 0\n",
    "    uniques = stations.copy()\n",
    "    start = uniques[np.random.randint(len(uniques))]\n",
    "    unvisited = set(uniques)\n",
    "    path = [start]\n",
    "    unvisited.remove(start)\n",
    "    for _ in tqdm(range(len(unvisited))):\n",
    "        last = path[-1]\n",
    "        idx1 = station_to_idx[last]\n",
    "        max_cost = np.NINF\n",
    "        # Selection Step\n",
    "        for station in unvisited:\n",
    "            idx2 = station_to_idx[station]\n",
    "            dist = get_edge_cost(last, station)\n",
    "            if dist > max_cost:\n",
    "                max_cost = dist\n",
    "                max_station = station\n",
    "        unvisited.remove(max_station)\n",
    "        # Insertion Step\n",
    "        cost_change = np.PINF\n",
    "        idx_to_insert = 0\n",
    "        for idx, station in enumerate(path):\n",
    "            if idx + 1 < len(path):\n",
    "                cij = get_edge_cost(station, path[idx + 1])\n",
    "                cir = get_edge_cost(station, max_station)\n",
    "                crj = get_edge_cost(max_station, path[idx + 1])\n",
    "                if (cir + crj - cij) < cost_change:\n",
    "                    cost_change = cir + crj - cij\n",
    "                    idx_to_insert = idx + 1\n",
    "        path.insert(idx_to_insert, max_station)\n",
    "        cost += max_cost\n",
    "        \n",
    "    return path, cost"
   ]
  },
  {
   "cell_type": "code",
   "execution_count": 57,
   "metadata": {},
   "outputs": [
    {
     "name": "stderr",
     "output_type": "stream",
     "text": [
      "100%|██████████| 1487/1487 [00:03<00:00, 477.44it/s]\n"
     ]
    },
    {
     "data": {
      "text/plain": [
       "5.197051302099863"
      ]
     },
     "execution_count": 57,
     "metadata": {},
     "output_type": "execute_result"
    }
   ],
   "source": [
    "path, cost = farthest_first()\n",
    "calPathDist(path)"
   ]
  },
  {
   "cell_type": "code",
   "execution_count": 64,
   "metadata": {},
   "outputs": [
    {
     "data": {
      "text/plain": [
       "(1488,)"
      ]
     },
     "execution_count": 64,
     "metadata": {},
     "output_type": "execute_result"
    }
   ],
   "source": [
    "np.unique(path).shape"
   ]
  },
  {
   "cell_type": "code",
   "execution_count": 66,
   "metadata": {},
   "outputs": [
    {
     "data": {
      "text/plain": [
       "189.39490628345885"
      ]
     },
     "execution_count": 66,
     "metadata": {},
     "output_type": "execute_result"
    }
   ],
   "source": [
    "cost"
   ]
  },
  {
   "cell_type": "markdown",
   "metadata": {},
   "source": [
    "### K-opt Agorithms\n",
    "\n",
    "#### 2-opt Algorithm\n",
    "\n",
    "The 2-opt algorithm works as follows: take 2 arcs from the route, reconnect these arcs with each other and calculate new travel distance. If this modification has led to a shorter total travel distance the current route is updated. The algorithm continues to build on the improved route and repeats the steps.\n",
    "\n",
    "```\n",
    "procedure 2optSwap(route, i, k) {\n",
    "    1. take route[0] to route[i-1] and add them in order to new_route\n",
    "    2. take route[i] to route[k] and add them in reverse order to new_route\n",
    "    3. take route[k+1] to end and add them in order to new_route\n",
    "    return new_route;\n",
    "}\n",
    "```"
   ]
  },
  {
   "cell_type": "code",
   "execution_count": null,
   "metadata": {},
   "outputs": [],
   "source": [
    "def two_opt(route):\n",
    "    # 2-opt implementation here\n",
    "    return"
   ]
  },
  {
   "cell_type": "code",
   "execution_count": 47,
   "metadata": {},
   "outputs": [
    {
     "name": "stdout",
     "output_type": "stream",
     "text": [
      "updated path costs to 2.4861529196742564\n",
      "updated path costs to 2.4861529196742564\n",
      "updated path costs to 2.4861529196742564\n",
      "updated path costs to 2.484051404253285\n",
      "updated path costs to 2.3447555332001526\n",
      "updated path costs to 2.3447555332001526\n",
      "updated path costs to 2.3447555332001526\n",
      "updated path costs to 2.3447555332001526\n",
      "updated path costs to 2.3447555332001526\n",
      "updated path costs to 2.3447555332001526\n",
      "updated path costs to 2.3447555332001526\n",
      "updated path costs to 2.3378845414780196\n",
      "updated path costs to 2.3248951746275797\n",
      "updated path costs to 2.2921765442738034\n",
      "updated path costs to 2.1172339252269765\n",
      "updated path costs to 2.1172339252269765\n",
      "updated path costs to 2.097813787985672\n",
      "updated path costs to 2.097813787985672\n",
      "updated path costs to 2.078601423718405\n",
      "updated path costs to 2.078601423718405\n",
      "updated path costs to 2.078601423718405\n",
      "updated path costs to 2.078601423718405\n",
      "updated path costs to 2.078601423718405\n",
      "updated path costs to 2.0528726299029216\n",
      "updated path costs to 2.0524301827550566\n",
      "updated path costs to 2.0524301827550566\n",
      "updated path costs to 2.0524301827550566\n",
      "updated path costs to 2.0524301827550566\n",
      "updated path costs to 2.0524301827550566\n",
      "updated path costs to 2.032188514920621\n",
      "updated path costs to 2.032188514920621\n",
      "updated path costs to 2.032188514920621\n",
      "updated path costs to 2.032188514920621\n",
      "updated path costs to 2.032188514920621\n",
      "updated path costs to 1.8463929313154586\n",
      "updated path costs to 1.8463929313154586\n",
      "updated path costs to 1.8463929313154586\n",
      "updated path costs to 1.8338045693960126\n",
      "updated path costs to 1.8338045693960126\n",
      "updated path costs to 1.8121059395648307\n",
      "updated path costs to 1.8121059395648307\n",
      "updated path costs to 1.8121059395648307\n",
      "updated path costs to 1.8121059395648307\n",
      "updated path costs to 1.8121059395648307\n",
      "updated path costs to 1.8121059395648307\n",
      "updated path costs to 1.8121059395648307\n",
      "updated path costs to 1.8121059395648307\n",
      "updated path costs to 1.8121059395648307\n",
      "updated path costs to 1.8121059395648307\n",
      "updated path costs to 1.8121059395648307\n",
      "updated path costs to 1.8121059395648307\n",
      "updated path costs to 1.7711223471837727\n",
      "updated path costs to 1.7592257220899463\n",
      "updated path costs to 1.7592257220899463\n",
      "updated path costs to 1.7592257220899463\n",
      "updated path costs to 1.7592257220899463\n",
      "updated path costs to 1.7592257220899463\n",
      "updated path costs to 1.7592257220899463\n",
      "updated path costs to 1.7592257220899463\n",
      "updated path costs to 1.7592257220899463\n",
      "updated path costs to 1.7486655627061898\n",
      "updated path costs to 1.7486655627061898\n",
      "updated path costs to 1.7486655627061898\n",
      "updated path costs to 1.7486655627061898\n",
      "updated path costs to 1.7486655627061898\n",
      "updated path costs to 1.7486655627061898\n",
      "updated path costs to 1.7486655627061898\n",
      "updated path costs to 1.7486655627061898\n",
      "updated path costs to 1.7486655627061898\n",
      "updated path costs to 1.7478602191220853\n",
      "updated path costs to 1.7478602191220853\n",
      "updated path costs to 1.7478602191220853\n",
      "updated path costs to 1.7478602191220853\n",
      "updated path costs to 1.7216434283189008\n",
      "updated path costs to 1.7216434283189008\n",
      "updated path costs to 1.7216434283189008\n",
      "updated path costs to 1.7216434283189008\n",
      "updated path costs to 1.7216434283189008\n",
      "updated path costs to 1.7216434283189008\n",
      "updated path costs to 1.7216434283189008\n",
      "updated path costs to 1.7216434283189008\n",
      "updated path costs to 1.7216434283189008\n",
      "updated path costs to 1.6534962090807748\n",
      "updated path costs to 1.6534962090807748\n",
      "updated path costs to 1.6534962090807748\n",
      "updated path costs to 1.6534962090807748\n",
      "updated path costs to 1.6164833418219213\n",
      "updated path costs to 1.6159888492786425\n",
      "updated path costs to 1.6159888492786425\n",
      "updated path costs to 1.6159888492786425\n",
      "updated path costs to 1.6159888492786425\n",
      "updated path costs to 1.6159888492786425\n",
      "updated path costs to 1.6159888492786425\n",
      "updated path costs to 1.6159888492786425\n",
      "updated path costs to 1.6117951199181428\n",
      "updated path costs to 1.5779847059365075\n",
      "updated path costs to 1.5779847059365075\n",
      "updated path costs to 1.5779847059365075\n",
      "updated path costs to 1.5779847059365075\n",
      "updated path costs to 1.5779847059365075\n",
      "updated path costs to 1.5779847059365075\n",
      "updated path costs to 1.5779847059365075\n",
      "updated path costs to 1.5659432754911258\n",
      "updated path costs to 1.5659432754911258\n",
      "updated path costs to 1.5659432754911258\n",
      "updated path costs to 1.5659432754911258\n",
      "updated path costs to 1.5659432754911258\n",
      "updated path costs to 1.534037160790928\n",
      "updated path costs to 1.4852725348030966\n",
      "updated path costs to 1.4852725348030966\n",
      "updated path costs to 1.4852725348030966\n",
      "updated path costs to 1.4852725348030966\n",
      "updated path costs to 1.4852725348030966\n",
      "updated path costs to 1.4852725348030966\n",
      "updated path costs to 1.4852725348030966\n",
      "updated path costs to 1.4540936922795524\n",
      "updated path costs to 1.4540936922795524\n",
      "updated path costs to 1.4540936922795524\n",
      "updated path costs to 1.4540936922795524\n",
      "updated path costs to 1.4540936922795524\n",
      "updated path costs to 1.4540936922795524\n",
      "updated path costs to 1.4540936922795524\n",
      "updated path costs to 1.4540936922795524\n",
      "updated path costs to 1.4540936922795524\n",
      "updated path costs to 1.4540936922795524\n",
      "updated path costs to 1.4540936922795524\n",
      "updated path costs to 1.4540936922795524\n",
      "updated path costs to 1.4540936922795524\n",
      "updated path costs to 1.4540936922795524\n",
      "updated path costs to 1.4540936922795524\n",
      "updated path costs to 1.4540936922795524\n",
      "updated path costs to 1.444138664813578\n",
      "updated path costs to 1.444138664813578\n",
      "updated path costs to 1.444138664813578\n",
      "updated path costs to 1.444138664813578\n",
      "updated path costs to 1.444138664813578\n",
      "updated path costs to 1.4187315309357416\n",
      "updated path costs to 1.4187315309357416\n",
      "updated path costs to 1.4187315309357416\n",
      "updated path costs to 1.4187315309357416\n",
      "updated path costs to 1.396056959447098\n",
      "updated path costs to 1.396056959447098\n",
      "updated path costs to 1.396056959447098\n",
      "updated path costs to 1.396056959447098\n",
      "updated path costs to 1.396056959447098\n",
      "updated path costs to 1.396056959447098\n",
      "updated path costs to 1.396056959447098\n",
      "updated path costs to 1.396056959447098\n",
      "updated path costs to 1.396056959447098\n",
      "updated path costs to 1.396056959447098\n",
      "updated path costs to 1.396056959447098\n",
      "updated path costs to 1.396056959447098\n",
      "updated path costs to 1.3001419746985037\n",
      "updated path costs to 1.3001419746985037\n",
      "updated path costs to 1.3001419746985037\n",
      "updated path costs to 1.3001419746985037\n",
      "updated path costs to 1.3001419746985037\n",
      "updated path costs to 1.3001419746985037\n",
      "updated path costs to 1.3001419746985037\n",
      "updated path costs to 1.3001419746985037\n",
      "updated path costs to 1.3001419746985037\n",
      "updated path costs to 1.3001419746985037\n",
      "updated path costs to 1.3001419746985037\n",
      "updated path costs to 1.3001419746985037\n",
      "updated path costs to 1.3001419746985037\n",
      "updated path costs to 1.3001419746985037\n",
      "updated path costs to 1.3001419746985037\n",
      "updated path costs to 1.22315546559058\n",
      "updated path costs to 1.2209083238912959\n",
      "updated path costs to 1.2209083238912959\n",
      "updated path costs to 1.2209083238912959\n",
      "updated path costs to 1.2209083238912959\n",
      "updated path costs to 1.2209083238912959\n",
      "updated path costs to 1.2209083238912959\n",
      "updated path costs to 1.2209083238912959\n",
      "updated path costs to 1.2209083238912959\n",
      "updated path costs to 1.2123389330098882\n",
      "updated path costs to 1.2123389330098882\n",
      "updated path costs to 1.2123389330098882\n",
      "updated path costs to 1.2123389330098882\n",
      "updated path costs to 1.2123389330098882\n",
      "updated path costs to 1.178512152836898\n",
      "updated path costs to 1.178512152836898\n",
      "updated path costs to 1.178512152836898\n",
      "updated path costs to 1.178512152836898\n",
      "updated path costs to 1.178512152836898\n",
      "updated path costs to 1.178512152836898\n",
      "updated path costs to 1.178512152836898\n",
      "updated path costs to 1.178512152836898\n",
      "updated path costs to 1.178512152836898\n",
      "updated path costs to 1.178512152836898\n",
      "updated path costs to 1.178512152836898\n",
      "updated path costs to 1.178512152836898\n",
      "updated path costs to 1.178512152836898\n",
      "updated path costs to 1.178512152836898\n",
      "updated path costs to 1.178512152836898\n",
      "updated path costs to 1.178512152836898\n",
      "updated path costs to 1.178512152836898\n",
      "updated path costs to 1.178512152836898\n",
      "updated path costs to 1.178512152836898\n",
      "updated path costs to 1.178512152836898\n",
      "updated path costs to 1.178512152836898\n",
      "updated path costs to 1.178512152836898\n",
      "updated path costs to 1.178512152836898\n",
      "updated path costs to 1.178512152836898\n",
      "updated path costs to 1.178512152836898\n",
      "updated path costs to 1.178512152836898\n",
      "updated path costs to 1.178512152836898\n",
      "updated path costs to 1.178512152836898\n",
      "updated path costs to 1.178512152836898\n",
      "updated path costs to 1.1756130937517835\n",
      "updated path costs to 1.1756130937517835\n",
      "updated path costs to 1.1756130937517835\n",
      "updated path costs to 1.1756130937517835\n",
      "updated path costs to 1.1681142452612108\n",
      "updated path costs to 1.1681142452612108\n",
      "updated path costs to 1.1681142452612108\n",
      "updated path costs to 1.1681142452612108\n",
      "updated path costs to 1.1681142452612108\n",
      "updated path costs to 1.1681142452612108\n",
      "updated path costs to 1.1681142452612108\n",
      "updated path costs to 1.1681142452612108\n",
      "updated path costs to 1.1681142452612108\n",
      "updated path costs to 1.1681142452612108\n",
      "updated path costs to 1.1681142452612108\n",
      "updated path costs to 1.1681142452612108\n",
      "updated path costs to 1.1681142452612108\n",
      "updated path costs to 1.1681142452612108\n",
      "updated path costs to 1.1681142452612108\n",
      "updated path costs to 1.1340770282717072\n",
      "updated path costs to 1.1340770282717072\n",
      "updated path costs to 1.1340770282717072\n",
      "updated path costs to 1.1340770282717072\n",
      "updated path costs to 1.1340770282717072\n",
      "updated path costs to 1.1340770282717072\n",
      "updated path costs to 1.1340770282717072\n",
      "updated path costs to 1.1340770282717072\n",
      "updated path costs to 1.1340770282717072\n",
      "updated path costs to 1.1340770282717072\n",
      "updated path costs to 1.1340770282717072\n",
      "updated path costs to 1.1340770282717072\n",
      "updated path costs to 1.1340770282717072\n",
      "updated path costs to 1.1340770282717072\n",
      "updated path costs to 1.1340770282717072\n",
      "updated path costs to 1.1340770282717072\n",
      "updated path costs to 1.1340770282717072\n",
      "updated path costs to 1.1340770282717072\n",
      "updated path costs to 1.1340770282717072\n",
      "updated path costs to 1.1340770282717072\n",
      "updated path costs to 1.1340770282717072\n",
      "updated path costs to 1.1340770282717072\n",
      "updated path costs to 1.1340770282717072\n",
      "updated path costs to 1.1340770282717072\n",
      "updated path costs to 1.1340770282717072\n",
      "updated path costs to 1.1340770282717072\n",
      "updated path costs to 1.1340770282717072\n",
      "updated path costs to 1.1340770282717072\n",
      "updated path costs to 1.1340770282717072\n",
      "updated path costs to 1.1340770282717072\n",
      "updated path costs to 1.1340770282717072\n",
      "updated path costs to 1.115968959742496\n",
      "updated path costs to 1.115968959742496\n",
      "updated path costs to 1.115968959742496\n",
      "updated path costs to 1.115968959742496\n",
      "updated path costs to 1.115968959742496\n",
      "updated path costs to 1.115968959742496\n",
      "updated path costs to 1.115968959742496\n",
      "updated path costs to 1.115968959742496\n",
      "updated path costs to 1.115968959742496\n",
      "updated path costs to 1.115968959742496\n",
      "updated path costs to 1.115968959742496\n",
      "updated path costs to 1.115968959742496\n",
      "updated path costs to 1.114052183232739\n",
      "updated path costs to 1.114052183232739\n",
      "updated path costs to 1.114052183232739\n",
      "updated path costs to 1.114052183232739\n",
      "updated path costs to 1.114052183232739\n",
      "updated path costs to 1.114052183232739\n",
      "updated path costs to 1.114052183232739\n",
      "updated path costs to 1.114052183232739\n",
      "updated path costs to 1.114052183232739\n",
      "updated path costs to 1.114052183232739\n",
      "updated path costs to 1.114052183232739\n",
      "updated path costs to 1.114052183232739\n",
      "updated path costs to 1.114052183232739\n",
      "updated path costs to 1.114052183232739\n",
      "updated path costs to 1.114052183232739\n",
      "updated path costs to 1.114052183232739\n",
      "updated path costs to 1.114052183232739\n",
      "updated path costs to 1.114052183232739\n",
      "updated path costs to 1.114052183232739\n",
      "updated path costs to 1.114052183232739\n",
      "updated path costs to 1.114052183232739\n",
      "updated path costs to 1.114052183232739\n",
      "updated path costs to 1.114052183232739\n",
      "updated path costs to 1.114052183232739\n",
      "updated path costs to 1.114052183232739\n",
      "updated path costs to 1.0987369884031777\n",
      "updated path costs to 1.0987369884031777\n",
      "updated path costs to 1.0987369884031777\n",
      "updated path costs to 1.0987369884031777\n",
      "updated path costs to 1.0987369884031777\n",
      "updated path costs to 1.0987369884031777\n",
      "updated path costs to 1.0987369884031777\n",
      "updated path costs to 1.0987369884031777\n",
      "updated path costs to 1.0987369884031777\n",
      "updated path costs to 1.0987369884031777\n",
      "updated path costs to 1.0987369884031777\n",
      "updated path costs to 1.0987369884031777\n",
      "updated path costs to 1.0987369884031777\n",
      "updated path costs to 1.0987369884031777\n",
      "updated path costs to 1.0987369884031777\n",
      "updated path costs to 1.0987369884031777\n",
      "updated path costs to 1.0987369884031777\n",
      "updated path costs to 1.0987369884031777\n",
      "updated path costs to 1.0987369884031777\n",
      "updated path costs to 1.0987369884031777\n",
      "updated path costs to 1.0987369884031777\n",
      "updated path costs to 1.0987369884031777\n",
      "updated path costs to 1.0987369884031777\n",
      "updated path costs to 1.089938135241875\n",
      "updated path costs to 1.089938135241875\n",
      "updated path costs to 1.089938135241875\n",
      "updated path costs to 1.089938135241875\n",
      "updated path costs to 1.089938135241875\n",
      "updated path costs to 1.089938135241875\n",
      "updated path costs to 1.0886752589653457\n",
      "updated path costs to 1.0886752589653457\n",
      "updated path costs to 1.0886752589653457\n",
      "updated path costs to 1.0886752589653457\n",
      "updated path costs to 1.0886752589653457\n",
      "updated path costs to 1.0886752589653457\n",
      "updated path costs to 1.0886752589653457\n",
      "updated path costs to 1.0886752589653457\n",
      "updated path costs to 1.0886752589653457\n",
      "updated path costs to 1.0886752589653457\n",
      "updated path costs to 1.0886752589653457\n",
      "updated path costs to 1.0857988793357565\n",
      "updated path costs to 1.0506851570887785\n",
      "updated path costs to 1.0506851570887785\n",
      "updated path costs to 1.0506851570887785\n",
      "updated path costs to 1.0506851570887785\n",
      "updated path costs to 1.0506851570887785\n",
      "updated path costs to 1.0506851570887785\n",
      "updated path costs to 1.0506851570887785\n",
      "updated path costs to 1.0506851570887785\n",
      "updated path costs to 1.0506851570887785\n",
      "updated path costs to 1.0465066079283711\n",
      "updated path costs to 1.0465066079283711\n",
      "updated path costs to 1.0465066079283711\n",
      "updated path costs to 1.0465066079283711\n",
      "updated path costs to 1.0465066079283711\n",
      "updated path costs to 1.0465066079283711\n",
      "updated path costs to 1.0465066079283711\n",
      "updated path costs to 1.0465066079283711\n",
      "updated path costs to 1.0465066079283711\n",
      "updated path costs to 1.0465066079283711\n",
      "updated path costs to 1.0465066079283711\n",
      "updated path costs to 1.0465066079283711\n",
      "updated path costs to 1.0465066079283711\n",
      "updated path costs to 1.0465066079283711\n",
      "updated path costs to 1.0465066079283711\n",
      "updated path costs to 1.0465066079283711\n",
      "updated path costs to 1.0465066079283711\n",
      "updated path costs to 1.0465066079283711\n",
      "updated path costs to 1.0465066079283711\n",
      "updated path costs to 1.0465066079283711\n",
      "updated path costs to 1.0465066079283711\n",
      "updated path costs to 1.0465066079283711\n",
      "updated path costs to 1.0465066079283711\n",
      "updated path costs to 1.0465066079283711\n",
      "updated path costs to 1.0465066079283711\n",
      "updated path costs to 1.0465066079283711\n",
      "updated path costs to 1.0465066079283711\n",
      "updated path costs to 1.0465066079283711\n",
      "updated path costs to 1.0465066079283711\n",
      "updated path costs to 1.0455181200440458\n",
      "updated path costs to 1.0455181200440458\n",
      "updated path costs to 1.0455181200440458\n",
      "updated path costs to 1.0455181200440458\n",
      "updated path costs to 1.0455181200440458\n",
      "updated path costs to 1.0455181200440458\n",
      "updated path costs to 1.0455181200440458\n",
      "updated path costs to 1.0455181200440458\n",
      "updated path costs to 1.0455181200440458\n",
      "updated path costs to 1.0455181200440458\n",
      "updated path costs to 1.0455181200440458\n",
      "updated path costs to 1.0455181200440458\n",
      "updated path costs to 1.0455181200440458\n",
      "updated path costs to 1.0455181200440458\n",
      "updated path costs to 1.0455181200440458\n",
      "updated path costs to 1.0455181200440458\n",
      "updated path costs to 1.0455181200440458\n",
      "updated path costs to 1.0455181200440458\n",
      "updated path costs to 1.0455181200440458\n",
      "updated path costs to 1.0455181200440458\n",
      "updated path costs to 1.0455181200440458\n",
      "updated path costs to 1.0455181200440458\n",
      "updated path costs to 1.0455181200440458\n",
      "updated path costs to 1.0455181200440458\n",
      "updated path costs to 1.0455181200440458\n",
      "updated path costs to 1.0455181200440458\n",
      "updated path costs to 1.0455181200440458\n",
      "updated path costs to 1.0455181200440458\n",
      "updated path costs to 1.0455181200440458\n",
      "updated path costs to 1.0455181200440458\n",
      "updated path costs to 1.0455181200440458\n",
      "updated path costs to 1.0261578326545884\n",
      "updated path costs to 1.0261578326545884\n",
      "updated path costs to 1.0261578326545884\n",
      "updated path costs to 1.0261578326545884\n",
      "updated path costs to 1.0261578326545884\n",
      "updated path costs to 1.0261578326545884\n",
      "updated path costs to 1.0261578326545884\n",
      "updated path costs to 1.0261578326545884\n",
      "updated path costs to 1.0261578326545884\n",
      "updated path costs to 1.0261578326545884\n",
      "updated path costs to 1.0261578326545884\n",
      "updated path costs to 1.0048398441814763\n",
      "updated path costs to 1.0048398441814763\n",
      "updated path costs to 1.0048398441814763\n",
      "updated path costs to 1.0048398441814763\n",
      "updated path costs to 1.0048398441814763\n",
      "updated path costs to 1.0048398441814763\n",
      "updated path costs to 1.0048398441814763\n",
      "updated path costs to 1.0048398441814763\n",
      "updated path costs to 1.0048398441814763\n",
      "updated path costs to 1.0048398441814763\n",
      "updated path costs to 1.0048398441814763\n",
      "updated path costs to 1.0048398441814763\n",
      "updated path costs to 1.0048398441814763\n",
      "updated path costs to 1.0048398441814763\n",
      "updated path costs to 1.0048398441814763\n",
      "updated path costs to 1.0048398441814763\n",
      "updated path costs to 1.0048398441814763\n",
      "updated path costs to 0.9718270819966696\n",
      "updated path costs to 0.9718270819966696\n",
      "updated path costs to 0.9718270819966696\n",
      "updated path costs to 0.9718270819966696\n",
      "updated path costs to 0.9718270819966696\n",
      "updated path costs to 0.9718270819966696\n",
      "updated path costs to 0.9718270819966696\n",
      "updated path costs to 0.9718270819966696\n",
      "updated path costs to 0.9718270819966696\n",
      "updated path costs to 0.9718270819966696\n",
      "updated path costs to 0.9718270819966696\n",
      "updated path costs to 0.9718270819966696\n",
      "updated path costs to 0.9718270819966696\n",
      "updated path costs to 0.9718270819966696\n",
      "updated path costs to 0.9718270819966696\n",
      "updated path costs to 0.9718270819966696\n",
      "updated path costs to 0.9718270819966696\n",
      "updated path costs to 0.9718270819966696\n",
      "updated path costs to 0.9718270819966696\n",
      "updated path costs to 0.9718270819966696\n",
      "updated path costs to 0.9718270819966696\n",
      "updated path costs to 0.9718270819966696\n",
      "updated path costs to 0.9718270819966696\n",
      "updated path costs to 0.9718270819966696\n",
      "updated path costs to 0.9718270819966696\n",
      "updated path costs to 0.9718270819966696\n",
      "updated path costs to 0.9718270819966696\n",
      "updated path costs to 0.9718270819966696\n",
      "updated path costs to 0.9718270819966696\n",
      "updated path costs to 0.9718270819966696\n",
      "updated path costs to 0.9718270819966696\n",
      "updated path costs to 0.9718270819966696\n",
      "updated path costs to 0.9718270819966696\n",
      "updated path costs to 0.9718270819966696\n",
      "updated path costs to 0.9718270819966696\n",
      "updated path costs to 0.9718270819966696\n",
      "updated path costs to 0.9718270819966696\n",
      "updated path costs to 0.9718270819966696\n",
      "updated path costs to 0.9718270819966696\n",
      "updated path costs to 0.9718270819966696\n",
      "updated path costs to 0.9718270819966696\n",
      "updated path costs to 0.9718270819966696\n",
      "updated path costs to 0.9718270819966696\n",
      "updated path costs to 0.9574250340586624\n",
      "updated path costs to 0.9574250340586624\n",
      "updated path costs to 0.9574250340586624\n",
      "updated path costs to 0.9574250340586624\n",
      "updated path costs to 0.9574250340586624\n",
      "updated path costs to 0.9574250340586624\n",
      "updated path costs to 0.9574250340586624\n",
      "updated path costs to 0.9574250340586624\n",
      "updated path costs to 0.9574250340586624\n",
      "updated path costs to 0.9574250340586624\n",
      "updated path costs to 0.9574250340586624\n",
      "updated path costs to 0.9574250340586624\n",
      "updated path costs to 0.9574250340586624\n",
      "updated path costs to 0.9574250340586624\n",
      "updated path costs to 0.9574250340586624\n",
      "updated path costs to 0.9574250340586624\n",
      "updated path costs to 0.9574250340586624\n",
      "updated path costs to 0.9574250340586624\n",
      "updated path costs to 0.9574250340586624\n",
      "updated path costs to 0.9574250340586624\n",
      "updated path costs to 0.9574250340586624\n",
      "updated path costs to 0.9574250340586624\n",
      "updated path costs to 0.9574250340586624\n",
      "updated path costs to 0.9574250340586624\n",
      "updated path costs to 0.9574250340586624\n",
      "updated path costs to 0.9513562229521747\n",
      "updated path costs to 0.9513562229521747\n",
      "updated path costs to 0.9513562229521747\n",
      "updated path costs to 0.9513562229521747\n",
      "updated path costs to 0.928955857897551\n",
      "updated path costs to 0.928955857897551\n",
      "updated path costs to 0.928955857897551\n",
      "updated path costs to 0.928955857897551\n",
      "updated path costs to 0.928955857897551\n",
      "updated path costs to 0.928955857897551\n",
      "updated path costs to 0.928955857897551\n",
      "updated path costs to 0.928955857897551\n",
      "updated path costs to 0.928955857897551\n",
      "updated path costs to 0.928955857897551\n",
      "updated path costs to 0.928955857897551\n",
      "updated path costs to 0.928955857897551\n",
      "updated path costs to 0.928955857897551\n",
      "updated path costs to 0.928955857897551\n",
      "updated path costs to 0.928955857897551\n",
      "updated path costs to 0.928955857897551\n",
      "updated path costs to 0.928955857897551\n",
      "updated path costs to 0.928955857897551\n",
      "updated path costs to 0.928955857897551\n",
      "updated path costs to 0.928955857897551\n",
      "updated path costs to 0.928955857897551\n",
      "updated path costs to 0.928955857897551\n",
      "updated path costs to 0.928955857897551\n",
      "updated path costs to 0.928955857897551\n",
      "updated path costs to 0.928955857897551\n",
      "updated path costs to 0.928955857897551\n",
      "updated path costs to 0.928955857897551\n",
      "updated path costs to 0.928955857897551\n",
      "updated path costs to 0.928955857897551\n",
      "updated path costs to 0.9262469997600342\n",
      "updated path costs to 0.9262469997600342\n",
      "updated path costs to 0.9262469997600342\n",
      "updated path costs to 0.9262469997600342\n",
      "updated path costs to 0.9262469997600342\n",
      "updated path costs to 0.9262469997600342\n",
      "updated path costs to 0.9262469997600342\n",
      "updated path costs to 0.9262469997600342\n",
      "updated path costs to 0.9262469997600342\n",
      "updated path costs to 0.9262469997600342\n",
      "updated path costs to 0.9262469997600342\n",
      "updated path costs to 0.9262469997600342\n",
      "updated path costs to 0.9262469997600342\n",
      "updated path costs to 0.9262469997600342\n",
      "updated path costs to 0.9262469997600342\n",
      "updated path costs to 0.9262469997600342\n",
      "updated path costs to 0.9262469997600342\n",
      "updated path costs to 0.9262469997600342\n",
      "updated path costs to 0.9262469997600342\n",
      "updated path costs to 0.9262469997600342\n",
      "updated path costs to 0.9262469997600342\n",
      "updated path costs to 0.9262469997600342\n",
      "updated path costs to 0.9262469997600342\n",
      "updated path costs to 0.9262469997600342\n",
      "updated path costs to 0.9262469997600342\n",
      "updated path costs to 0.9262469997600342\n",
      "updated path costs to 0.9262469997600342\n",
      "updated path costs to 0.9262469997600342\n",
      "updated path costs to 0.9262469997600342\n",
      "updated path costs to 0.9262469997600342\n",
      "updated path costs to 0.9262469997600342\n",
      "updated path costs to 0.9262469997600342\n",
      "updated path costs to 0.9262469997600342\n",
      "updated path costs to 0.9262469997600342\n",
      "updated path costs to 0.9262469997600342\n",
      "updated path costs to 0.9262469997600342\n",
      "updated path costs to 0.9262469997600342\n",
      "updated path costs to 0.9262469997600342\n",
      "updated path costs to 0.9262469997600342\n",
      "updated path costs to 0.9262469997600342\n",
      "updated path costs to 0.9262469997600342\n",
      "updated path costs to 0.9262469997600342\n",
      "updated path costs to 0.9262469997600342\n",
      "updated path costs to 0.9262469997600342\n",
      "updated path costs to 0.9262469997600342\n",
      "updated path costs to 0.9262469997600342\n",
      "updated path costs to 0.9262469997600342\n",
      "updated path costs to 0.9262469997600342\n",
      "updated path costs to 0.9262469997600342\n",
      "updated path costs to 0.9262469997600342\n",
      "updated path costs to 0.9262469997600342\n",
      "updated path costs to 0.9262469997600342\n",
      "updated path costs to 0.9262469997600342\n",
      "updated path costs to 0.9262469997600342\n",
      "updated path costs to 0.9262469997600342\n",
      "updated path costs to 0.9262469997600342\n",
      "updated path costs to 0.9262469997600342\n",
      "updated path costs to 0.9262469997600342\n",
      "updated path costs to 0.9262469997600342\n",
      "updated path costs to 0.9262469997600342\n",
      "updated path costs to 0.9262469997600342\n",
      "updated path costs to 0.9262469997600342\n",
      "updated path costs to 0.9262469997600342\n",
      "updated path costs to 0.9262469997600342\n",
      "updated path costs to 0.9262469997600342\n",
      "updated path costs to 0.9262469997600342\n",
      "updated path costs to 0.9262469997600342\n",
      "updated path costs to 0.9262469997600342\n",
      "updated path costs to 0.9262469997600342\n",
      "updated path costs to 0.9262469997600342\n",
      "updated path costs to 0.9262469997600342\n",
      "updated path costs to 0.856382478556114\n",
      "updated path costs to 0.856382478556114\n",
      "updated path costs to 0.856382478556114\n",
      "updated path costs to 0.856382478556114\n",
      "updated path costs to 0.856382478556114\n",
      "updated path costs to 0.856382478556114\n",
      "updated path costs to 0.856382478556114\n",
      "updated path costs to 0.856382478556114\n",
      "updated path costs to 0.8536515620487952\n",
      "updated path costs to 0.8536515620487952\n",
      "updated path costs to 0.8536515620487952\n",
      "updated path costs to 0.8536515620487952\n",
      "updated path costs to 0.8536515620487952\n",
      "updated path costs to 0.8536515620487952\n",
      "updated path costs to 0.8536515620487952\n",
      "updated path costs to 0.8536515620487952\n",
      "updated path costs to 0.8536515620487952\n",
      "updated path costs to 0.8536515620487952\n",
      "updated path costs to 0.8536515620487952\n",
      "updated path costs to 0.8536515620487952\n",
      "updated path costs to 0.8536515620487952\n",
      "updated path costs to 0.8536515620487952\n",
      "updated path costs to 0.8536515620487952\n",
      "updated path costs to 0.8536515620487952\n",
      "updated path costs to 0.8536515620487952\n",
      "updated path costs to 0.8536515620487952\n",
      "updated path costs to 0.8536515620487952\n",
      "updated path costs to 0.8268196211228392\n",
      "updated path costs to 0.8268196211228392\n",
      "updated path costs to 0.8268196211228392\n",
      "updated path costs to 0.8268196211228392\n",
      "updated path costs to 0.8268196211228392\n",
      "updated path costs to 0.8268196211228392\n",
      "updated path costs to 0.8268196211228392\n",
      "updated path costs to 0.8268196211228392\n",
      "updated path costs to 0.8268196211228392\n",
      "updated path costs to 0.8268196211228392\n",
      "updated path costs to 0.8268196211228392\n",
      "updated path costs to 0.8268196211228392\n",
      "updated path costs to 0.8268196211228392\n",
      "updated path costs to 0.8268196211228392\n",
      "updated path costs to 0.8268196211228392\n",
      "updated path costs to 0.8268196211228392\n",
      "updated path costs to 0.8268196211228392\n",
      "updated path costs to 0.8268196211228392\n",
      "updated path costs to 0.8268196211228392\n",
      "updated path costs to 0.8268196211228392\n",
      "updated path costs to 0.8268196211228392\n",
      "updated path costs to 0.8268196211228392\n",
      "updated path costs to 0.8268196211228392\n",
      "updated path costs to 0.8268196211228392\n",
      "updated path costs to 0.8268196211228392\n",
      "updated path costs to 0.8268196211228392\n",
      "updated path costs to 0.8268196211228392\n",
      "updated path costs to 0.8268196211228392\n",
      "updated path costs to 0.8268196211228392\n",
      "updated path costs to 0.8268196211228392\n",
      "updated path costs to 0.8268196211228392\n",
      "updated path costs to 0.8268196211228392\n",
      "updated path costs to 0.8268196211228392\n",
      "updated path costs to 0.8268196211228392\n",
      "updated path costs to 0.8268196211228392\n",
      "updated path costs to 0.8268196211228392\n",
      "updated path costs to 0.8268196211228392\n",
      "updated path costs to 0.8268196211228392\n",
      "updated path costs to 0.7987035053721091\n",
      "updated path costs to 0.7987035053721091\n",
      "updated path costs to 0.7987035053721091\n",
      "updated path costs to 0.7987035053721091\n",
      "updated path costs to 0.7987035053721091\n",
      "updated path costs to 0.7987035053721091\n",
      "updated path costs to 0.7987035053721091\n",
      "updated path costs to 0.7987035053721091\n",
      "updated path costs to 0.7987035053721091\n",
      "updated path costs to 0.7987035053721091\n",
      "updated path costs to 0.7987035053721091\n",
      "updated path costs to 0.7987035053721091\n",
      "updated path costs to 0.7987035053721091\n",
      "updated path costs to 0.7987035053721091\n",
      "updated path costs to 0.7987035053721091\n",
      "updated path costs to 0.7987035053721091\n",
      "updated path costs to 0.7987035053721091\n",
      "updated path costs to 0.7987035053721091\n",
      "updated path costs to 0.7987035053721091\n",
      "updated path costs to 0.7987035053721091\n",
      "updated path costs to 0.7987035053721091\n",
      "updated path costs to 0.7987035053721091\n",
      "updated path costs to 0.7987035053721091\n",
      "updated path costs to 0.7987035053721091\n",
      "updated path costs to 0.7987035053721091\n",
      "updated path costs to 0.7987035053721091\n",
      "updated path costs to 0.7987035053721091\n",
      "updated path costs to 0.7987035053721091\n",
      "updated path costs to 0.7987035053721091\n",
      "updated path costs to 0.7987035053721091\n",
      "updated path costs to 0.7987035053721091\n",
      "updated path costs to 0.7987035053721091\n",
      "updated path costs to 0.7987035053721091\n",
      "updated path costs to 0.7987035053721091\n",
      "updated path costs to 0.7987035053721091\n",
      "updated path costs to 0.7987035053721091\n",
      "updated path costs to 0.7987035053721091\n",
      "updated path costs to 0.7987035053721091\n",
      "updated path costs to 0.7987035053721091\n",
      "updated path costs to 0.7987035053721091\n",
      "updated path costs to 0.7987035053721091\n",
      "updated path costs to 0.7987035053721091\n",
      "updated path costs to 0.7987035053721091\n",
      "updated path costs to 0.7987035053721091\n",
      "updated path costs to 0.7987035053721091\n",
      "updated path costs to 0.7987035053721091\n",
      "updated path costs to 0.7987035053721091\n",
      "updated path costs to 0.7987035053721091\n",
      "updated path costs to 0.7987035053721091\n",
      "updated path costs to 0.7987035053721091\n",
      "updated path costs to 0.7987035053721091\n",
      "updated path costs to 0.7987035053721091\n",
      "updated path costs to 0.7987035053721091\n",
      "updated path costs to 0.7987035053721091\n",
      "updated path costs to 0.7987035053721091\n",
      "updated path costs to 0.7987035053721091\n",
      "updated path costs to 0.7987035053721091\n",
      "updated path costs to 0.7987035053721091\n",
      "updated path costs to 0.7987035053721091\n",
      "updated path costs to 0.7987035053721091\n",
      "updated path costs to 0.7987035053721091\n",
      "updated path costs to 0.7987035053721091\n",
      "updated path costs to 0.7987035053721091\n",
      "updated path costs to 0.7987035053721091\n",
      "updated path costs to 0.7987035053721091\n",
      "updated path costs to 0.7987035053721091\n",
      "updated path costs to 0.7987035053721091\n",
      "updated path costs to 0.7987035053721091\n",
      "updated path costs to 0.7987035053721091\n",
      "updated path costs to 0.7987035053721091\n",
      "updated path costs to 0.7987035053721091\n",
      "updated path costs to 0.7987035053721091\n",
      "updated path costs to 0.7987035053721091\n",
      "updated path costs to 0.7987035053721091\n",
      "updated path costs to 0.7987035053721091\n",
      "updated path costs to 0.7987035053721091\n",
      "updated path costs to 0.7987035053721091\n",
      "updated path costs to 0.7987035053721091\n",
      "updated path costs to 0.7987035053721091\n",
      "updated path costs to 0.7987035053721091\n",
      "updated path costs to 0.7987035053721091\n",
      "updated path costs to 0.7987035053721091\n",
      "updated path costs to 0.7987035053721091\n",
      "updated path costs to 0.7987035053721091\n",
      "updated path costs to 0.7987035053721091\n",
      "updated path costs to 0.7987035053721091\n",
      "updated path costs to 0.7987035053721091\n",
      "updated path costs to 0.7987035053721091\n",
      "updated path costs to 0.7987035053721091\n",
      "updated path costs to 0.7987035053721091\n",
      "updated path costs to 0.7987035053721091\n",
      "updated path costs to 0.7987035053721091\n",
      "updated path costs to 0.7987035053721091\n",
      "updated path costs to 0.7987035053721091\n",
      "updated path costs to 0.7987035053721091\n",
      "updated path costs to 0.7987035053721091\n",
      "updated path costs to 0.7987035053721091\n",
      "updated path costs to 0.7987035053721091\n",
      "updated path costs to 0.7987035053721091\n",
      "updated path costs to 0.7987035053721091\n"
     ]
    },
    {
     "data": {
      "image/png": "[encoded data removed]",
      "text/plain": [
       "<Figure size 432x288 with 1 Axes>"
      ]
     },
     "metadata": {
      "needs_background": "light"
     },
     "output_type": "display_data"
    }
   ],
   "source": [
    "import matplotlib.pyplot as plt\n",
    "\n",
    "MAXCOUNT = 100\n",
    "\n",
    "def calPathDist(path):\n",
    "    sum = 0.0\n",
    "    for i in range(1, len(path)):\n",
    "        sum += get_edge_cost(path[i], path[i - 1])\n",
    "    return sum    \n",
    "\n",
    "def pathCompare(path1, path2):\n",
    "    if calPathDist(path1) <= calPathDist(path2):\n",
    "        return True\n",
    "    return False\n",
    "    \n",
    "def generateRandomPath(path):\n",
    "    a = np.random.randint(len(path))\n",
    "    while True:\n",
    "        b = np.random.randint(len(path))\n",
    "        if np.abs(a - b) > 1:\n",
    "            break\n",
    "    if a > b:\n",
    "        return b, a, path[b:a+1]\n",
    "    else:\n",
    "        return a, b, path[a:b+1]\n",
    "    \n",
    "def reversePath(path):\n",
    "    rePath = path.copy()\n",
    "    rePath[1:-1] = rePath[-2:0:-1]\n",
    "    return rePath\n",
    "    \n",
    "def updateBestPath(bestPath):\n",
    "    count = 0\n",
    "    costs = []\n",
    "    while count < MAXCOUNT:\n",
    "        print(\"updated path costs to\", calPathDist(bestPath))\n",
    "#         print(bestPath.tolist())\n",
    "        costs.append(calPathDist(bestPath))\n",
    "        start, end, path = generateRandomPath(bestPath)\n",
    "        rePath = reversePath(path)\n",
    "        if pathCompare(path, rePath):\n",
    "            count += 1\n",
    "            continue\n",
    "        else:\n",
    "            count = 0\n",
    "            bestPath[start:end+1] = rePath\n",
    "    plot_costs(costs)\n",
    "    return bestPath\n",
    "    \n",
    "def two_opt(stations):\n",
    "    bestPath = stations\n",
    "    bestPath = np.append(bestPath, stations[0])\n",
    "    bestPath = updateBestPath(bestPath)\n",
    "\n",
    "def plot_costs(cost_list):\n",
    "    plt.plot(cost_list)\n",
    "    plt.ylabel('Cost')\n",
    "    plt.xlabel('Num Iterations (k)')\n",
    "    plt.title('2-opt Costs')\n",
    "    plt.show()\n",
    "    \n",
    "two_opt(stations[:30])\n"
   ]
  },
  {
   "cell_type": "markdown",
   "metadata": {},
   "source": [
    "#### 3-opt Algorithm\n",
    "3-opt analysis involves deleting 3 connections (or edges) in a network (or tour), to create 3 sub-tours. Then the 7 different ways of reconnecting the network are analysed to find the optimum one. This process is then repeated for a different set of 3 connections, until all possible combinations have been tried in a network. A single execution of 3-opt has a time complexity of $O(n^{3})$.\n"
   ]
  },
  {
   "cell_type": "code",
   "execution_count": 39,
   "metadata": {},
   "outputs": [],
   "source": [
    "def exchange(path, mode, a, c, e):\n",
    "    \"\"\"\n",
    "    path: sequence of station_id with i th being starting and i + 1 th being ending staions\n",
    "    mode: mode of exchanging\n",
    "    a, c, e: index of stations\n",
    "    \"\"\"\n",
    "    b, d, f = a + 1, c + 1, e + 1\n",
    "    \n",
    "    \n",
    "    \n",
    "    if mode == 0:\n",
    "        # remain unchanged\n",
    "        return path, 0\n",
    "    elif mode == 1:\n",
    "        # 2-opt (a, e)[d, c](b, f)\n",
    "        sol = np.concatenate((path[: a + 1], path[e: d - 1: -1], path[c: b - 1: -1], path[f:]))\n",
    "    elif mode == 2:\n",
    "        # 2-opt [a, c](b, d)[e, f]\n",
    "        sol = np.concatenate((path[: a + 1], path[b: c + 1], path[e:d - 1: -1], path[f:]))\n",
    "    elif mode == 3:\n",
    "        # 2-opt (a, c)(b, d)[e, f]\n",
    "        sol = np.concatenate((path[: a + 1], path[c: b - 1: -1], path[d: e + 1], path[f:]))\n",
    "    elif mode == 4:\n",
    "        # 3-opt (a, c)(b, e)(d, f)\n",
    "        sol = np.concatenate((path[: a + 1], path[c: b - 1: -1], path[e: d - 1: -1], path[f:]))\n",
    "    elif mode == 5:\n",
    "        # 3-opt (a, e)(d, b)(c, f)\n",
    "        sol = np.concatenate((path[: a + 1], path[e: d - 1: -1], path[b: c + 1], path[f:]))\n",
    "    elif mode == 6:\n",
    "        # 3-opt (a, d)(e, c)(b, f)\n",
    "        sol = np.concatenate((path[: a + 1], path[d: e + 1], path[c: b - 1: -1], path[f:]))\n",
    "    elif mode == 7:\n",
    "        # 3-opt (a, d)(e, b)(c, f)\n",
    "        sol = np.concatenate((path[: a + 1], path[d: e + 1], path[b: c + 1], path[f:]))\n",
    "    \n",
    "    base = calPathDist(path)\n",
    "    newCost = calPathDist(sol)\n",
    "    return sol, base - newCost\n",
    "\n",
    "def three_opt_search(bestPath):\n",
    "    size = len(bestPath)\n",
    "    bestCost = calPathDist(bestPath)\n",
    "    bestChange = 1\n",
    "    costs = []\n",
    "    while bestChange > 0:\n",
    "        saved, bestChange = three_opt_update(bestPath, size)\n",
    "        print(\"current route cost is\", bestCost)\n",
    "        costs.append(bestCost)\n",
    "        if bestChange > 0:\n",
    "            a, c, e, mode = saved\n",
    "            bestPath, change = exchange(bestPath, mode, a, c, e)\n",
    "            bestCost -= change\n",
    "    plot_costs(costs)\n",
    "\n",
    "def three_opt_update(bestPath, size):\n",
    "    bestChange = 0\n",
    "    saved = None\n",
    "    for a in range(size - 5):\n",
    "        for c in range(a + 2, size - 3):\n",
    "            for e in range(c + 2, size - 1):\n",
    "                change = 0\n",
    "#                 print(a, c, e, change, bestChange)\n",
    "                for i in range(8):\n",
    "                    path, change = exchange(bestPath, i, a, c, e)\n",
    "                    \n",
    "                    if change > bestChange:\n",
    "                        saved = a, c, e, i\n",
    "                        bestChange = change\n",
    "    return saved, bestChange\n",
    "        \n",
    "        "
   ]
  },
  {
   "cell_type": "code",
   "execution_count": 40,
   "metadata": {},
   "outputs": [],
   "source": [
    "import random\n",
    "import numpy as np\n",
    "import matplotlib.pyplot as plt\n",
    "# import TWOPT\n",
    "from itertools import combinations, permutations\n",
    "\n",
    "def three_opt(stations):\n",
    "    bestPath = stations\n",
    "    bestPath = np.append(bestPath, stations[0])\n",
    "    bestPath = three_opt_search(bestPath)"
   ]
  },
  {
   "cell_type": "code",
   "execution_count": 45,
   "metadata": {},
   "outputs": [
    {
     "name": "stdout",
     "output_type": "stream",
     "text": [
      "current route cost is 2.4861529196742564\n",
      "current route cost is 2.1631587652532933\n",
      "current route cost is 1.8805393390980931\n",
      "current route cost is 1.616535042061203\n",
      "current route cost is 1.3894868766822919\n",
      "current route cost is 1.191853351867872\n",
      "current route cost is 1.041269139388937\n",
      "current route cost is 0.9409516243773951\n",
      "current route cost is 0.881096944172058\n",
      "current route cost is 0.8352571161015572\n",
      "current route cost is 0.8040343758569792\n",
      "current route cost is 0.7758688558060005\n",
      "current route cost is 0.7538439456979291\n",
      "current route cost is 0.7405604611368518\n",
      "current route cost is 0.7305117861102227\n",
      "current route cost is 0.7257973670555752\n",
      "current route cost is 0.7129125130807261\n"
     ]
    },
    {
     "data": {
      "image/png": "[encoded data removed]",
      "text/plain": [
       "<Figure size 432x288 with 1 Axes>"
      ]
     },
     "metadata": {
      "needs_background": "light"
     },
     "output_type": "display_data"
    }
   ],
   "source": [
    "three_opt(stations[:30])"
   ]
  },
  {
   "cell_type": "markdown",
   "metadata": {},
   "source": [
    "### Christofides-Serdyukov algorithm\n",
    "\n",
    "The Christofides-Serdyukov algorithm works as follows: first, a minimum spanning tree is created. Then, we take the set of vertices with odd degree, which we'll call O. The number of elements in O will always be even. We then find the minimum-weight perfect matching, which we'll call M, in the induced subgraph constructed from O. Then, we combine the edges of M with the edges from the minimum spanning tree, creating a connected multigraph (for which every vertex will have even degree). We then form an Eulerian circuit in that multigraph, and then turn that circuit into a Hamiltonian circuit by skipping any vertices that are repeated.\n",
    "\n",
    "This algorithm has O(N^2 log n) runtime, which is relatively efficient, and it is guaranteed to produce a solution that is at most 1.5x the length of the optimal solution, making it a very powerful travelling salesman approximation algorithm.\n",
    "\n",
    "The following code is from here: https://github.com/Retsediv/ChristofidesAlgorithm/blob/99ad2eb37451f5ebd274a497dd823a0b427599fe/christofides.py"
   ]
  },
  {
   "cell_type": "code",
   "execution_count": null,
   "metadata": {},
   "outputs": [],
   "source": [
    "def tsp(data):\n",
    "    # build a graph\n",
    "    G = build_graph(data)\n",
    "    print(\"Graph: \", G)\n",
    "\n",
    "    # build a minimum spanning tree\n",
    "    MSTree = minimum_spanning_tree(G)\n",
    "    print(\"MSTree: \", MSTree)\n",
    "\n",
    "    # find odd vertexes\n",
    "    odd_vertexes = find_odd_vertexes(MSTree)\n",
    "    print(\"Odd vertexes in MSTree: \", odd_vertexes)\n",
    "\n",
    "    # add minimum weight matching edges to MST\n",
    "    minimum_weight_matching(MSTree, G, odd_vertexes)\n",
    "    print(\"Minimum weight matching: \", MSTree)\n",
    "\n",
    "    # find an eulerian tour\n",
    "    eulerian_tour = find_eulerian_tour(MSTree, G)\n",
    "\n",
    "    print(\"Eulerian tour: \", eulerian_tour)\n",
    "\n",
    "    current = eulerian_tour[0]\n",
    "    path = [current]\n",
    "    visited = [False] * len(eulerian_tour)\n",
    "    visited[0] = True\n",
    "\n",
    "    length = 0\n",
    "\n",
    "    for v in eulerian_tour[1:]:\n",
    "        if not visited[v]:\n",
    "            path.append(v)\n",
    "            visited[v] = True\n",
    "\n",
    "            length += G[current][v]\n",
    "            current = v\n",
    "\n",
    "    path.append(path[0])\n",
    "\n",
    "    print(\"Result path: \", path)\n",
    "    print(\"Result length of the path: \", length)\n",
    "\n",
    "    return length, path\n",
    "\n",
    "\n",
    "def get_length(x1, y1, x2, y2):\n",
    "    return ((x1 - x2) ** 2 + (y1 - y2) ** 2) ** (1.0 / 2.0)\n",
    "\n",
    "\n",
    "def build_graph(data):\n",
    "    graph = {}\n",
    "    for this in range(len(data)):\n",
    "        for another_point in range(len(data)):\n",
    "            if this != another_point:\n",
    "                if this not in graph:\n",
    "                    graph[this] = {}\n",
    "\n",
    "                graph[this][another_point] = get_length(data[this][0], data[this][1], data[another_point][0],\n",
    "                                                        data[another_point][1])\n",
    "\n",
    "    return graph\n",
    "\n",
    "\n",
    "class UnionFind:\n",
    "    def __init__(self):\n",
    "        self.weights = {}\n",
    "        self.parents = {}\n",
    "\n",
    "    def __getitem__(self, object):\n",
    "        if object not in self.parents:\n",
    "            self.parents[object] = object\n",
    "            self.weights[object] = 1\n",
    "            return object\n",
    "\n",
    "        # find path of objects leading to the root\n",
    "        path = [object]\n",
    "        root = self.parents[object]\n",
    "        while root != path[-1]:\n",
    "            path.append(root)\n",
    "            root = self.parents[root]\n",
    "\n",
    "        # compress the path and return\n",
    "        for ancestor in path:\n",
    "            self.parents[ancestor] = root\n",
    "        return root\n",
    "\n",
    "    def __iter__(self):\n",
    "        return iter(self.parents)\n",
    "\n",
    "    def union(self, *objects):\n",
    "        roots = [self[x] for x in objects]\n",
    "        heaviest = max([(self.weights[r], r) for r in roots])[1]\n",
    "        for r in roots:\n",
    "            if r != heaviest:\n",
    "                self.weights[heaviest] += self.weights[r]\n",
    "                self.parents[r] = heaviest\n",
    "\n",
    "\n",
    "def minimum_spanning_tree(G):\n",
    "    tree = []\n",
    "    subtrees = UnionFind()\n",
    "    for W, u, v in sorted((G[u][v], u, v) for u in G for v in G[u]):\n",
    "        if subtrees[u] != subtrees[v]:\n",
    "            tree.append((u, v, W))\n",
    "            subtrees.union(u, v)\n",
    "\n",
    "    return tree\n",
    "\n",
    "\n",
    "def find_odd_vertexes(MST):\n",
    "    tmp_g = {}\n",
    "    vertexes = []\n",
    "    for edge in MST:\n",
    "        if edge[0] not in tmp_g:\n",
    "            tmp_g[edge[0]] = 0\n",
    "\n",
    "        if edge[1] not in tmp_g:\n",
    "            tmp_g[edge[1]] = 0\n",
    "\n",
    "        tmp_g[edge[0]] += 1\n",
    "        tmp_g[edge[1]] += 1\n",
    "\n",
    "    for vertex in tmp_g:\n",
    "        if tmp_g[vertex] % 2 == 1:\n",
    "            vertexes.append(vertex)\n",
    "\n",
    "    return vertexes\n",
    "\n",
    "\n",
    "def minimum_weight_matching(MST, G, odd_vert):\n",
    "    import random\n",
    "    random.shuffle(odd_vert)\n",
    "\n",
    "    while odd_vert:\n",
    "        v = odd_vert.pop()\n",
    "        length = float(\"inf\")\n",
    "        u = 1\n",
    "        closest = 0\n",
    "        for u in odd_vert:\n",
    "            if v != u and G[v][u] < length:\n",
    "                length = G[v][u]\n",
    "                closest = u\n",
    "\n",
    "        MST.append((v, closest, length))\n",
    "        odd_vert.remove(closest)\n",
    "\n",
    "\n",
    "def find_eulerian_tour(MatchedMSTree, G):\n",
    "    # find neigbours\n",
    "    neighbours = {}\n",
    "    for edge in MatchedMSTree:\n",
    "        if edge[0] not in neighbours:\n",
    "            neighbours[edge[0]] = []\n",
    "\n",
    "        if edge[1] not in neighbours:\n",
    "            neighbours[edge[1]] = []\n",
    "\n",
    "        neighbours[edge[0]].append(edge[1])\n",
    "        neighbours[edge[1]].append(edge[0])\n",
    "\n",
    "    # print(\"Neighbours: \", neighbours)\n",
    "\n",
    "    # finds the hamiltonian circuit\n",
    "    start_vertex = MatchedMSTree[0][0]\n",
    "    EP = [neighbours[start_vertex][0]]\n",
    "\n",
    "    while len(MatchedMSTree) > 0:\n",
    "        for i, v in enumerate(EP):\n",
    "            if len(neighbours[v]) > 0:\n",
    "                break\n",
    "\n",
    "        while len(neighbours[v]) > 0:\n",
    "            w = neighbours[v][0]\n",
    "\n",
    "            remove_edge_from_matchedMST(MatchedMSTree, v, w)\n",
    "\n",
    "            del neighbours[v][(neighbours[v].index(w))]\n",
    "            del neighbours[w][(neighbours[w].index(v))]\n",
    "\n",
    "            i += 1\n",
    "            EP.insert(i, w)\n",
    "\n",
    "            v = w\n",
    "\n",
    "    return EP\n",
    "\n",
    "\n",
    "def remove_edge_from_matchedMST(MatchedMST, v1, v2):\n",
    "\n",
    "    for i, item in enumerate(MatchedMST):\n",
    "        if (item[0] == v2 and item[1] == v1) or (item[0] == v1 and item[1] == v2):\n",
    "            del MatchedMST[i]\n",
    "\n",
    "    return MatchedMST"
   ]
  }
 ],
 "metadata": {
  "kernelspec": {
   "display_name": "Python 3",
   "language": "python",
   "name": "python3"
  },
  "language_info": {
   "codemirror_mode": {
    "name": "ipython",
    "version": 3
   },
   "file_extension": ".py",
   "mimetype": "text/x-python",
   "name": "python",
   "nbconvert_exporter": "python",
   "pygments_lexer": "ipython3",
   "version": "3.7.4"
  }
 },
 "nbformat": 4,
 "nbformat_minor": 5
}
