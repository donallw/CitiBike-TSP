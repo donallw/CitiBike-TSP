{
 "cells": [
  {
   "cell_type": "markdown",
   "metadata": {},
   "source": [
    "# CitiBike TSP\n",
    "**Algorithms Group 50**\\\n",
    "Donal Lowsley-Williams \\\n",
    "Joan La Rosa \\\n",
    "Isaac Lichter \\\n",
    "Weidong Gao \n",
    "\n",
    "We will be conducting the traveling salesman problem on New York City citibike data. We will be using each CitiBike station as the nodes in our graph, and represent the edge costs by the average time it takes to bike from one station to another. Edges will only include those rides in the CitiBike data that have actually occurred - in other words, if no ride in the data started at station A and ended at station B, we will not include that edge. This adds to the realism of the problem as it would be unlikely to take that edge anyways. Moreover, we will only have edges from one station to another - not one station to itself, as there are occurences of rides like this in the CitiBike data."
   ]
  },
  {
   "cell_type": "markdown",
   "metadata": {},
   "source": [
    "### Imports\n",
    "Will we be implementing these algorithms by hand, so we just need libraries for data loading and export, matrix manipulation functions, and some data exploration. "
   ]
  },
  {
   "cell_type": "code",
   "execution_count": 1,
   "metadata": {},
   "outputs": [],
   "source": [
    "import csv\n",
    "import json\n",
    "import numpy as np\n",
    "import pandas as pd\n",
    "import time\n",
    "import math\n",
    "from tqdm import tqdm\n",
    "import matplotlib.pyplot as plt"
   ]
  },
  {
   "cell_type": "markdown",
   "metadata": {},
   "source": [
    "# The Data\n",
    "We will get the data from CitiBike's openly available [System Data](https://s3.amazonaws.com/tripdata/index.html). The data we are using was the most recent as of this notebook's creation date, and was published by CitiBike on [**Oct 4th 2021, 01:26:29 pm**](https://s3.amazonaws.com/tripdata/202109-citibike-tripdata.csv.zip). This is the data of all rides taken on the CitiBike system during the month of September 2021. However, the preprocessing should work for any selection of the data from the system data, since they all should follow the same structure. \n",
    "\n",
    "Please store the data in a folder named **\"Data\"** with the name **\"citibike-data.csv\"**, like so: **\"Data/citibike-data.csv**"
   ]
  },
  {
   "cell_type": "code",
   "execution_count": 2,
   "metadata": {},
   "outputs": [
    {
     "name": "stderr",
     "output_type": "stream",
     "text": [
      "/Users/wdgao/opt/anaconda3/lib/python3.7/site-packages/IPython/core/interactiveshell.py:3058: DtypeWarning: Columns (7) have mixed types. Specify dtype option on import or set low_memory=False.\n",
      "  interactivity=interactivity, compiler=compiler, result=result)\n"
     ]
    }
   ],
   "source": [
    "df = pd.read_csv('Data/citibike-data.csv',\n",
    "                 parse_dates=['started_at','ended_at'])"
   ]
  },
  {
   "cell_type": "markdown",
   "metadata": {},
   "source": [
    "## Preprocessing\n",
    "In order to preprocess the data, \n",
    "\n",
    "### Data Cleaning\n",
    "\n",
    "First lets take a look at the length of our data."
   ]
  },
  {
   "cell_type": "code",
   "execution_count": 3,
   "metadata": {},
   "outputs": [
    {
     "data": {
      "text/plain": [
       "3280221"
      ]
     },
     "execution_count": 3,
     "metadata": {},
     "output_type": "execute_result"
    }
   ],
   "source": [
    "len(df)"
   ]
  },
  {
   "cell_type": "markdown",
   "metadata": {},
   "source": [
    "Now, lets see what the column was that caused data type issues. We can see from the error above that it was column 7, which corresponds to the `end_station_id`. "
   ]
  },
  {
   "cell_type": "code",
   "execution_count": 4,
   "metadata": {},
   "outputs": [
    {
     "data": {
      "text/plain": [
       "'end_station_id'"
      ]
     },
     "execution_count": 4,
     "metadata": {},
     "output_type": "execute_result"
    }
   ],
   "source": [
    "df.columns[7]"
   ]
  },
  {
   "cell_type": "markdown",
   "metadata": {},
   "source": [
    "In the data, we can see by looking at the csv file that these values are typically float values, so we can cast them to a numeric value. We set any values that can't be cast to a numeric value to `NaN` by setting `errors='coerce'`. "
   ]
  },
  {
   "cell_type": "code",
   "execution_count": 5,
   "metadata": {},
   "outputs": [],
   "source": [
    "df['end_station_id'] = df['end_station_id'].apply(pd.to_numeric, errors='coerce')"
   ]
  },
  {
   "cell_type": "markdown",
   "metadata": {},
   "source": [
    "We drop all null values. (those with `NaN`) This includes not just those with a faulty `end_station_id` value but those with errors elsewhere. We want to use only entries with full and complete data."
   ]
  },
  {
   "cell_type": "code",
   "execution_count": 6,
   "metadata": {},
   "outputs": [],
   "source": [
    "df = df.dropna()"
   ]
  },
  {
   "cell_type": "markdown",
   "metadata": {},
   "source": [
    "We can see that we dropped approx. 15K entries that had data issues or invalid end stations. This is negligible in the grand scheme of the project, given that we have about 3.2M entries. "
   ]
  },
  {
   "cell_type": "code",
   "execution_count": 7,
   "metadata": {},
   "outputs": [
    {
     "data": {
      "text/plain": [
       "3264732"
      ]
     },
     "execution_count": 7,
     "metadata": {},
     "output_type": "execute_result"
    }
   ],
   "source": [
    "len(df)"
   ]
  },
  {
   "cell_type": "markdown",
   "metadata": {},
   "source": [
    "Let's take a peek at our data and its types. We can see that many use the dtype object, which pandas uses to refer to strings with varying length. We can leave this be. We have a couple date items, which we set when reading the csv file. The remaining data is all float data. "
   ]
  },
  {
   "cell_type": "code",
   "execution_count": 8,
   "metadata": {},
   "outputs": [
    {
     "name": "stdout",
     "output_type": "stream",
     "text": [
      "<class 'pandas.core.frame.DataFrame'>\n",
      "Int64Index: 3264732 entries, 0 to 3280220\n",
      "Data columns (total 13 columns):\n",
      "ride_id               object\n",
      "rideable_type         object\n",
      "started_at            datetime64[ns]\n",
      "ended_at              datetime64[ns]\n",
      "start_station_name    object\n",
      "start_station_id      float64\n",
      "end_station_name      object\n",
      "end_station_id        float64\n",
      "start_lat             float64\n",
      "start_lng             float64\n",
      "end_lat               float64\n",
      "end_lng               float64\n",
      "member_casual         object\n",
      "dtypes: datetime64[ns](2), float64(6), object(5)\n",
      "memory usage: 348.7+ MB\n"
     ]
    }
   ],
   "source": [
    "df.info()"
   ]
  },
  {
   "cell_type": "markdown",
   "metadata": {},
   "source": [
    "Let's conduct a quick sanity check to ensure the data is properly cleaned:"
   ]
  },
  {
   "cell_type": "code",
   "execution_count": 9,
   "metadata": {
    "scrolled": true
   },
   "outputs": [
    {
     "data": {
      "text/plain": [
       "False"
      ]
     },
     "execution_count": 9,
     "metadata": {},
     "output_type": "execute_result"
    }
   ],
   "source": [
    "len(df['start_station_id'].unique()) == len(df['start_station_name'].unique())"
   ]
  },
  {
   "cell_type": "markdown",
   "metadata": {},
   "source": [
    "Uh-oh. Lets dig into this to see what the problem is. Lets look at these values. "
   ]
  },
  {
   "cell_type": "code",
   "execution_count": 10,
   "metadata": {},
   "outputs": [
    {
     "name": "stdout",
     "output_type": "stream",
     "text": [
      "start station id uniques:  1488\n",
      "start station name uniques:  1493\n",
      "False\n"
     ]
    }
   ],
   "source": [
    "print('start station id uniques: ',len(df['start_station_id'].unique()))\n",
    "print('start station name uniques: ',len(df['start_station_name'].unique()))\n",
    "print(len(df['start_station_id'].unique()) == len(df['start_station_name'].unique()))"
   ]
  },
  {
   "cell_type": "markdown",
   "metadata": {},
   "source": [
    "So we see that there are more names than there are id's. Lets make a copy of the columns in the data causing an issue. "
   ]
  },
  {
   "cell_type": "code",
   "execution_count": 11,
   "metadata": {},
   "outputs": [],
   "source": [
    "sample = df[['start_station_id', 'start_station_name']].copy().drop_duplicates()"
   ]
  },
  {
   "cell_type": "markdown",
   "metadata": {},
   "source": [
    "Next, we are going to pull each unique row by dropping the duplicates from this sample. This will let us examing all the unique start station id / name pairs. Next, we can count the frequency of each id occuring - since we know there are less id's than there are names. We can then sort this and view the id's that have more than one name."
   ]
  },
  {
   "cell_type": "code",
   "execution_count": 12,
   "metadata": {},
   "outputs": [
    {
     "data": {
      "text/html": [
       "<div>\n",
       "<style scoped>\n",
       "    .dataframe tbody tr th:only-of-type {\n",
       "        vertical-align: middle;\n",
       "    }\n",
       "\n",
       "    .dataframe tbody tr th {\n",
       "        vertical-align: top;\n",
       "    }\n",
       "\n",
       "    .dataframe thead th {\n",
       "        text-align: right;\n",
       "    }\n",
       "</style>\n",
       "<table border=\"1\" class=\"dataframe\">\n",
       "  <thead>\n",
       "    <tr style=\"text-align: right;\">\n",
       "      <th></th>\n",
       "      <th>start_station_name</th>\n",
       "    </tr>\n",
       "    <tr>\n",
       "      <th>start_station_id</th>\n",
       "      <th></th>\n",
       "    </tr>\n",
       "  </thead>\n",
       "  <tbody>\n",
       "    <tr>\n",
       "      <td>5303.08</td>\n",
       "      <td>1</td>\n",
       "    </tr>\n",
       "    <tr>\n",
       "      <td>5303.06</td>\n",
       "      <td>1</td>\n",
       "    </tr>\n",
       "    <tr>\n",
       "      <td>5300.06</td>\n",
       "      <td>1</td>\n",
       "    </tr>\n",
       "    <tr>\n",
       "      <td>5300.05</td>\n",
       "      <td>1</td>\n",
       "    </tr>\n",
       "    <tr>\n",
       "      <td>8841.03</td>\n",
       "      <td>1</td>\n",
       "    </tr>\n",
       "    <tr>\n",
       "      <td>5382.07</td>\n",
       "      <td>2</td>\n",
       "    </tr>\n",
       "    <tr>\n",
       "      <td>4488.09</td>\n",
       "      <td>2</td>\n",
       "    </tr>\n",
       "    <tr>\n",
       "      <td>5190.09</td>\n",
       "      <td>2</td>\n",
       "    </tr>\n",
       "    <tr>\n",
       "      <td>5422.04</td>\n",
       "      <td>2</td>\n",
       "    </tr>\n",
       "    <tr>\n",
       "      <td>4781.05</td>\n",
       "      <td>2</td>\n",
       "    </tr>\n",
       "  </tbody>\n",
       "</table>\n",
       "</div>"
      ],
      "text/plain": [
       "                  start_station_name\n",
       "start_station_id                    \n",
       "5303.08                            1\n",
       "5303.06                            1\n",
       "5300.06                            1\n",
       "5300.05                            1\n",
       "8841.03                            1\n",
       "5382.07                            2\n",
       "4488.09                            2\n",
       "5190.09                            2\n",
       "5422.04                            2\n",
       "4781.05                            2"
      ]
     },
     "execution_count": 12,
     "metadata": {},
     "output_type": "execute_result"
    }
   ],
   "source": [
    "sample.groupby('start_station_id').count().sort_values('start_station_name').tail(10)"
   ]
  },
  {
   "cell_type": "markdown",
   "metadata": {},
   "source": [
    "Now we see the problematic values are the last five entries in the above dataframe. We can iterate over these and observe what might be the problem by converting them to raw NumPy arrays. "
   ]
  },
  {
   "cell_type": "code",
   "execution_count": 13,
   "metadata": {},
   "outputs": [
    {
     "name": "stdout",
     "output_type": "stream",
     "text": [
      "Entry 0 ['Forsyth St\\\\t& Grand St' 'Forsyth St\\t& Grand St']\n",
      "Entry 1 ['Boerum Pl\\\\t& Pacific St' 'Boerum Pl\\t& Pacific St']\n",
      "Entry 2 ['Clinton St\\\\t& Cherry St' 'Clinton St\\t& Cherry St']\n",
      "Entry 3 ['Howard St & Lafayette St' 'Howard St & Centre St']\n",
      "Entry 4 ['Nassau St\\\\t& Duffield St' 'Nassau St\\t& Duffield St']\n"
     ]
    }
   ],
   "source": [
    "faulty_ids = np.array(\n",
    "    sample.groupby('start_station_id').count().sort_values('start_station_name').tail(5).T.columns\n",
    ")\n",
    "\n",
    "# iterate over the faulty station ids\n",
    "for idx, station_id in enumerate(faulty_ids):\n",
    "    faulty_entries = sample.loc[sample['start_station_id'] == station_id]\n",
    "    print('Entry',idx,np.array(faulty_entries['start_station_name']))\n",
    "del sample, faulty_entries, faulty_ids, idx, station_id"
   ]
  },
  {
   "cell_type": "markdown",
   "metadata": {},
   "source": [
    "The problem for most of these appear to be some sort of string parsing issue. This is good, because it means we can ignore it and **simply focus on the station_id's**. However, we see that entry 3 has actual different names. Let us examing this in [Google Maps](https://www.google.com/maps/place/Citi+Bike:+Howard+St+%26+Lafayette+St/@40.7191002,-73.9996465,20z/data=!4m13!1m7!3m6!1s0x89c2598992b42c11:0xa58f248cc38ef667!2sLafayette+St+%26+Howard+St,+New+York,+NY+10013!3b1!8m2!3d40.7192055!4d-73.9998472!3m4!1s0x89c25989ed219c2b:0x5828092994c0b427!8m2!3d40.7191053!4d-73.9997333). We can see that this station is nestled right between those two streets, so it refers to the same station. Again, we can ignore this and **simply focus on the station_id's**."
   ]
  },
  {
   "cell_type": "markdown",
   "metadata": {},
   "source": [
    "![title](./lafayettecentre.png)"
   ]
  },
  {
   "cell_type": "markdown",
   "metadata": {},
   "source": [
    "Let us perform one last sanity check before we start feature engineering, and ensure that there are the same number of start stations as there are end stations."
   ]
  },
  {
   "cell_type": "code",
   "execution_count": 14,
   "metadata": {},
   "outputs": [
    {
     "data": {
      "text/plain": [
       "True"
      ]
     },
     "execution_count": 14,
     "metadata": {},
     "output_type": "execute_result"
    }
   ],
   "source": [
    "len(df['start_station_id'].unique()) == len(df['end_station_id'].unique())"
   ]
  },
  {
   "cell_type": "markdown",
   "metadata": {},
   "source": [
    "We can ensure that all the entries in start_station_id are also present in end_station_id. This way, we know by iterating only over one of these lists ensures we are iterating across all potential station_ids. "
   ]
  },
  {
   "cell_type": "code",
   "execution_count": 15,
   "metadata": {},
   "outputs": [
    {
     "name": "stdout",
     "output_type": "stream",
     "text": [
      "data matches\n"
     ]
    }
   ],
   "source": [
    "is_complete = True\n",
    "for val in df['start_station_id'].unique():\n",
    "    if val not in df['end_station_id'].unique():\n",
    "        is_complete = False\n",
    "print('data matches') if is_complete else print('Error; data mistmatch')\n",
    "del val, is_complete"
   ]
  },
  {
   "cell_type": "markdown",
   "metadata": {},
   "source": [
    "Looks like we are good to go. Let's pull the necesary data for our algorithms into another dataframe to keep things clean."
   ]
  },
  {
   "cell_type": "markdown",
   "metadata": {},
   "source": [
    "### Edge Costs\n",
    "Now we need to compute edge costs between each station, and store this in a cost matrix. We can do this by first simply subtracting the start time from the end time. Since these are date objects, we can convert them to raw integers representing seconds by dividing by a 1 second numpy date time value to get total seconds and then casting to int32."
   ]
  },
  {
   "cell_type": "code",
   "execution_count": 16,
   "metadata": {},
   "outputs": [],
   "source": [
    "positions = df[['start_station_id', 'start_lat', 'start_lng']].drop_duplicates('start_station_id')[['start_lat', 'start_lng']].copy()"
   ]
  },
  {
   "cell_type": "code",
   "execution_count": 17,
   "metadata": {},
   "outputs": [],
   "source": [
    "stations = df['start_station_id'].unique().copy()"
   ]
  },
  {
   "cell_type": "code",
   "execution_count": 18,
   "metadata": {},
   "outputs": [],
   "source": [
    "station_to_idx = {k : v for v, k in enumerate(df['start_station_id'].unique())}"
   ]
  },
  {
   "cell_type": "code",
   "execution_count": 19,
   "metadata": {},
   "outputs": [
    {
     "name": "stderr",
     "output_type": "stream",
     "text": [
      "100%|██████████| 1488/1488 [03:49<00:00,  6.48it/s]\n"
     ]
    }
   ],
   "source": [
    "num_stations = len(df['start_station_id'].unique())\n",
    "edge_costs = np.zeros((num_stations, num_stations))\n",
    "\n",
    "for i in tqdm(range(num_stations)):\n",
    "    for j in range(num_stations):\n",
    "        pos1 = positions.iloc[i].to_numpy()\n",
    "        pos2 = positions.iloc[j].to_numpy()\n",
    "        edge_costs[i][j] = np.linalg.norm(pos2-pos1)"
   ]
  },
  {
   "cell_type": "code",
   "execution_count": 20,
   "metadata": {},
   "outputs": [],
   "source": [
    "def get_edge_cost(start_station_id, end_station_id):\n",
    "    idx1 = station_to_idx[start_station_id]\n",
    "    idx2 = station_to_idx[end_station_id]\n",
    "    return edge_costs[idx1][idx2]"
   ]
  },
  {
   "cell_type": "markdown",
   "metadata": {},
   "source": [
    "Next up is creating our actual cost data. What we want here is a DataFrame that contains average trip cost from each start station to each end station (when they are not the same), across all rides between those two stations. We can do this by pulling out only our relevant values - `start_station_id`, `end_station_id`, and `trip_cost`, and then dropping all the entries where the start station is equivalent to the end station. Then we group them by their `start_station_id` / `end_station_id` and take an average of the remaining columns - which is just `trip_cost`."
   ]
  },
  {
   "cell_type": "markdown",
   "metadata": {},
   "source": [
    "# The Algorithms\n",
    "Now that we have pulled and preprocessed our data, we can begin to test various algorithms against it. We will test the following algorithms:\n",
    "\n",
    "**Greedy**\n",
    "- Nearest Neighbor\n",
    "- Farthest First Traversal\n",
    "\n",
    "**?????**\n",
    "- Christofides Algorithm \n",
    "\n",
    "**K-opt Heuristic Algorithms**\n",
    "- 2-OPT\n",
    "- 3-OPT\n",
    "- Lin-Kernighan Heuristic"
   ]
  },
  {
   "cell_type": "markdown",
   "metadata": {},
   "source": [
    "### Helper Function\n",
    "Before we do anything, let's write a little function to time our algorithms and make for easy comparison. "
   ]
  },
  {
   "cell_type": "code",
   "execution_count": 21,
   "metadata": {},
   "outputs": [],
   "source": [
    "def check_performance(fn, station_ids, distances):\n",
    "    start = time.time()\n",
    "    _, _ = fn(station_ids, distances)\n",
    "    end = time.time()\n",
    "    return end - start\n",
    "\n",
    "def compare_algorithms(fn_list, station_ids, distances, num_iters=5):\n",
    "    results = {}\n",
    "    for algo in fn_list:\n",
    "        t = 0\n",
    "        print('testing algo: ',algo.__name__)\n",
    "        for _ in tqdm(range(num_iters)):\n",
    "            t += check_performance(algo, station_ids, distances)\n",
    "        results[algo.__name__] = t / num_iters\n",
    "    return results"
   ]
  },
  {
   "cell_type": "code",
   "execution_count": 22,
   "metadata": {},
   "outputs": [
    {
     "data": {
      "text/plain": [
       "array([[0.        , 0.07276445, 0.11477633, ..., 0.08772172, 0.11995613,\n",
       "        0.09322346],\n",
       "       [0.07276445, 0.        , 0.05830892, ..., 0.15964082, 0.10937608,\n",
       "        0.16469579],\n",
       "       [0.11477633, 0.05830892, 0.        , ..., 0.19201516, 0.07694175,\n",
       "        0.1956071 ],\n",
       "       ...,\n",
       "       [0.08772172, 0.15964082, 0.19201516, ..., 0.        , 0.16531649,\n",
       "        0.00686301],\n",
       "       [0.11995613, 0.10937608, 0.07694175, ..., 0.16531649, 0.        ,\n",
       "        0.1663306 ],\n",
       "       [0.09322346, 0.16469579, 0.1956071 , ..., 0.00686301, 0.1663306 ,\n",
       "        0.        ]])"
      ]
     },
     "execution_count": 22,
     "metadata": {},
     "output_type": "execute_result"
    }
   ],
   "source": [
    "edge_costs"
   ]
  },
  {
   "cell_type": "code",
   "execution_count": 23,
   "metadata": {},
   "outputs": [
    {
     "data": {
      "text/plain": [
       "(1488, 1488)"
      ]
     },
     "execution_count": 23,
     "metadata": {},
     "output_type": "execute_result"
    }
   ],
   "source": [
    "edge_costs.shape"
   ]
  },
  {
   "cell_type": "markdown",
   "metadata": {},
   "source": [
    "## Simulated Annealing"
   ]
  },
  {
   "cell_type": "code",
   "execution_count": 24,
   "metadata": {},
   "outputs": [],
   "source": [
    "def check_state_cost(state, swapped):\n",
    "    swap_1, swap_2 = swapped\n",
    "    state_len = len(state)\n",
    "    curr_cost = 0\n",
    "    swapped_cost = 0\n",
    "    for idx, station in enumerate(state):\n",
    "        if idx + 1 < state_len:\n",
    "            next_station = state[idx + 1]\n",
    "            cost = get_edge_cost(station, next_station)\n",
    "            curr_cost += cost\n",
    "            \n",
    "            swap_occurs = False\n",
    "            \n",
    "            if idx == swap_1:\n",
    "                station = state[swap_2]\n",
    "                swap_occurs = True\n",
    "            elif idx == swap_2:\n",
    "                station = state[swap_1]\n",
    "                swap_occurs = True\n",
    "            if idx + 1 == swap_1:\n",
    "                next_station = state[swap_2]\n",
    "                swap_occurs = True\n",
    "            elif idx + 1 == swap_2:\n",
    "                next_station = state[swap_1]\n",
    "                swap_occurs = True\n",
    "                \n",
    "            if swap_occurs:\n",
    "                cost = cost = get_edge_cost(station, next_station)\n",
    "            swapped_cost += cost\n",
    "            \n",
    "    return curr_cost, swapped_cost"
   ]
  },
  {
   "cell_type": "markdown",
   "metadata": {},
   "source": [
    "https://www.fourmilab.ch/documents/travelling/anneal/\n",
    "\n",
    "https://codecapsule.com/2010/04/06/simulated-annealing-traveling-salesman/\n",
    "\n",
    "https://en.wikipedia.org/wiki/Simulated_annealing"
   ]
  },
  {
   "cell_type": "code",
   "execution_count": 25,
   "metadata": {},
   "outputs": [],
   "source": [
    "def sim_annealing(edge_costs, k=1000):\n",
    "    cost_list = []\n",
    "    current_state = stations.copy()\n",
    "    np.random.shuffle(current_state)\n",
    "    size = len(current_state)-1\n",
    "    temperature = 1\n",
    "    \n",
    "    for i in tqdm(range(k)):\n",
    "        swapped = np.random.randint(low=0, high=size, size=2)\n",
    "        while swapped[0] == swapped[1]:\n",
    "            swapped = np.random.randint(low=0, high=size, size=2)\n",
    "\n",
    "        current_cost, swapped_cost = check_state_cost(current_state, swapped)\n",
    "        cost_list.append(current_cost)\n",
    "        \n",
    "        if (swapped_cost < current_cost):\n",
    "            keep_swap = 1\n",
    "        else:\n",
    "            keep_swap = math.exp(-(swapped_cost - current_cost) / temperature)\n",
    "        \n",
    "        temperature *= 0.9\n",
    "        \n",
    "        if (np.random.random() < keep_swap):\n",
    "            swap_1, swap_2 = swapped\n",
    "            current_state[swap_1], current_state[swap_2] = current_state[swap_2], current_state[swap_1]\n",
    "                \n",
    "    return current_state, current_cost, cost_list\n",
    "        "
   ]
  },
  {
   "cell_type": "code",
   "execution_count": 26,
   "metadata": {
    "scrolled": true
   },
   "outputs": [
    {
     "name": "stderr",
     "output_type": "stream",
     "text": [
      "  7%|▋         | 6727/100000 [00:16<03:50, 404.88it/s]/Users/wdgao/opt/anaconda3/lib/python3.7/site-packages/ipykernel_launcher.py:19: RuntimeWarning: overflow encountered in double_scalars\n",
      "100%|██████████| 100000/100000 [04:09<00:00, 400.77it/s]\n"
     ]
    }
   ],
   "source": [
    "path, cost, cost_list = sim_annealing(edge_costs, k=int(1e5))"
   ]
  },
  {
   "cell_type": "code",
   "execution_count": 27,
   "metadata": {},
   "outputs": [
    {
     "data": {
      "text/plain": [
       "34.982888989539724"
      ]
     },
     "execution_count": 27,
     "metadata": {},
     "output_type": "execute_result"
    }
   ],
   "source": [
    "cost"
   ]
  },
  {
   "cell_type": "code",
   "execution_count": 28,
   "metadata": {},
   "outputs": [
    {
     "data": {
      "image/png": "[encoded data removed]",
      "text/plain": [
       "<Figure size 432x288 with 1 Axes>"
      ]
     },
     "metadata": {
      "needs_background": "light"
     },
     "output_type": "display_data"
    }
   ],
   "source": [
    "plt.plot(cost_list)\n",
    "plt.ylabel('Cost')\n",
    "plt.xlabel('Num Iterations (k)')\n",
    "plt.title('Simulated Annealing Costs Across k-iterations (100,000)')\n",
    "plt.show()"
   ]
  },
  {
   "cell_type": "markdown",
   "metadata": {},
   "source": [
    "## Greedy Algorithms\n",
    "First, we will examine various greedy algorithms and their effectiveness on the data. "
   ]
  },
  {
   "cell_type": "markdown",
   "metadata": {},
   "source": [
    "### Nearest Neighbor\n",
    "\n",
    "The nearest neighbor algorithm is very simple and simply starts at a random node (or station in our example) and continues to visit unvisited nodes that are as close to the last visited node as possible .\n",
    "\n",
    "**Psuedocode:** \\\n",
    "These are the steps of the algorithm:\n",
    "\n",
    "    Initialize all vertices as unvisited.\n",
    "    Select an arbitrary vertex, set it as the current vertex u. Mark u as visited.\n",
    "    Find out the shortest edge connecting the current vertex u and an unvisited vertex v.\n",
    "    Set v as the current vertex u. Mark v as visited.\n",
    "    If all the vertices in the domain are visited, then terminate. Else, go to step 3.\n",
    "\n",
    "The sequence of the visited vertices is the output of the algorithm. \n",
    "\n",
    "**Time complexity:** Worst Case O(N^2)\n",
    "\n",
    "**Space complexity:** Worst Case O(N)\n",
    "\n",
    "[Source (wikipedia)](https://en.wikipedia.org/wiki/Nearest_neighbour_algorithm)"
   ]
  },
  {
   "cell_type": "code",
   "execution_count": 29,
   "metadata": {},
   "outputs": [],
   "source": [
    "# Nearest Neighbor\n",
    "def nearest_neighbor():\n",
    "    cost = 0\n",
    "    uniques = stations.copy()\n",
    "    start = uniques[np.random.randint(len(uniques))]\n",
    "    unvisited = set(uniques)\n",
    "    path = [start]\n",
    "    unvisited.remove(start)\n",
    "    for _ in tqdm(range(len(unvisited))):\n",
    "        last = path[-1]\n",
    "        idx1 = station_to_idx[last]\n",
    "        min_cost = np.Inf\n",
    "        for station in unvisited:\n",
    "            idx2 = station_to_idx[station]\n",
    "            dist = get_edge_cost(last, station)\n",
    "            if dist < min_cost:\n",
    "                min_cost = dist\n",
    "                min_station = station\n",
    "        unvisited.remove(min_station)\n",
    "        path.append(min_station)\n",
    "        cost += min_cost\n",
    "            \n",
    "    return path, cost"
   ]
  },
  {
   "cell_type": "code",
   "execution_count": 30,
   "metadata": {},
   "outputs": [
    {
     "name": "stderr",
     "output_type": "stream",
     "text": [
      "100%|██████████| 1487/1487 [00:00<00:00, 2371.50it/s]"
     ]
    },
    {
     "name": "stdout",
     "output_type": "stream",
     "text": [
      "cost:  5.0401215219184845\n"
     ]
    },
    {
     "name": "stderr",
     "output_type": "stream",
     "text": [
      "\n"
     ]
    }
   ],
   "source": [
    "nn_path, cost = nearest_neighbor()\n",
    "print('cost: ',cost)"
   ]
  },
  {
   "cell_type": "markdown",
   "metadata": {},
   "source": [
    "### Farthest-First Traversal (Farthest Insertion)\n",
    "\n",
    "**PseudoCode:**\\\n",
    "The farthest-first traversal of a finite point set may be computed by a greedy algorithm that maintains the distance of each point from the previously selected points, performing the following steps:[3]\n",
    "\n",
    "    Initialize the sequence of selected points to the empty sequence, and the distances of each point to the selected points to infinity.\n",
    "    While not all points have been selected, repeat the following steps:\n",
    "        Scan the list of not-yet-selected points to find a point p that has maximum distance from the selected points.\n",
    "        Remove p from the not-yet-selected points and add it to the end of the sequence of selected points.\n",
    "        For each remaining not-yet-selected point q, replace the distance stored for q by the minimum of its old value and the distance from p to q.\n",
    "\n",
    "**Time complexity:** Worst Case O(N^2)\n",
    "\n",
    "**Space complexity:** Worst Case O(N)\n",
    "\n",
    "[Source (wikipedia)](https://en.wikipedia.org/wiki/Farthest-first_traversal)\n",
    "\n",
    "\n",
    "#### Farthest Insertion \n",
    "**PseudoCode:**\n",
    " 1. Start with a sub-graph consisting of node i only.\n",
    " 2. Find node r such that cir is maximal and form sub-tour i-r-i.\n",
    " 3. (Selection step) Given a sub-tour, find node r not in the sub-tour farthest from any node in the sub-tour; i.e. with maximal crj\n",
    " 4. (Insertion step) Find the arc (i, j) in the sub-tour which minimizes cir + crj - cij . Insert r between i and j.\n",
    " 5. If all the nodes are added to the tour, stop. Else go to step 3\n",
    "\n",
    "https://www2.isye.gatech.edu/~mgoetsch/cali/VEHICLE/TSP/TSP015__.HTM\n"
   ]
  },
  {
   "cell_type": "code",
   "execution_count": 32,
   "metadata": {},
   "outputs": [
    {
     "data": {
      "text/plain": [
       "-inf"
      ]
     },
     "execution_count": 32,
     "metadata": {},
     "output_type": "execute_result"
    }
   ],
   "source": [
    "np.NINF"
   ]
  },
  {
   "cell_type": "code",
   "execution_count": 33,
   "metadata": {},
   "outputs": [
    {
     "data": {
      "text/plain": [
       "inf"
      ]
     },
     "execution_count": 33,
     "metadata": {},
     "output_type": "execute_result"
    }
   ],
   "source": [
    "np.PINF"
   ]
  },
  {
   "cell_type": "code",
   "execution_count": 34,
   "metadata": {},
   "outputs": [],
   "source": [
    "# Farthest-First Traversal\n",
    "def farthest_first():\n",
    "    cost = 0\n",
    "    uniques = stations.copy()\n",
    "    start = uniques[np.random.randint(len(uniques))]\n",
    "    unvisited = set(uniques)\n",
    "    path = [start]\n",
    "    unvisited.remove(start)\n",
    "    for _ in tqdm(range(len(unvisited))):\n",
    "        last = path[-1]\n",
    "        idx1 = station_to_idx[last]\n",
    "        max_cost = np.NINF\n",
    "        # Selection Step\n",
    "        for station in unvisited:\n",
    "            idx2 = station_to_idx[station]\n",
    "            dist = get_edge_cost(last, station)\n",
    "            if dist > max_cost:\n",
    "                max_cost = dist\n",
    "                max_station = station\n",
    "        unvisited.remove(max_station)\n",
    "        # Insertion Step\n",
    "        cost_change = np.PINF\n",
    "        idx_to_insert = 0\n",
    "        for idx, station in enumerate(path):\n",
    "            if idx + 1 < len(path):\n",
    "                cij = get_edge_cost(station, path[idx + 1])\n",
    "                cir = get_edge_cost(station, max_station)\n",
    "                crj = get_edge_cost(max_station, path[idx + 1])\n",
    "                if (cir + crj - cij) < cost_change:\n",
    "                    cost_change = cir + crj - cij\n",
    "                    idx_to_insert = idx + 1\n",
    "        path.insert(idx_to_insert, max_station)\n",
    "        cost += max_cost\n",
    "        \n",
    "    return path, cost"
   ]
  },
  {
   "cell_type": "code",
   "execution_count": 35,
   "metadata": {},
   "outputs": [
    {
     "name": "stderr",
     "output_type": "stream",
     "text": [
      "100%|██████████| 1487/1487 [00:02<00:00, 525.06it/s]\n"
     ]
    },
    {
     "ename": "NameError",
     "evalue": "name 'calPathDist' is not defined",
     "output_type": "error",
     "traceback": [
      "\u001b[0;31m---------------------------------------------------------------------------\u001b[0m",
      "\u001b[0;31mNameError\u001b[0m                                 Traceback (most recent call last)",
      "\u001b[0;32m<ipython-input-35-0095a22e3540>\u001b[0m in \u001b[0;36m<module>\u001b[0;34m\u001b[0m\n\u001b[1;32m      1\u001b[0m \u001b[0mpath\u001b[0m\u001b[0;34m,\u001b[0m \u001b[0mcost\u001b[0m \u001b[0;34m=\u001b[0m \u001b[0mfarthest_first\u001b[0m\u001b[0;34m(\u001b[0m\u001b[0;34m)\u001b[0m\u001b[0;34m\u001b[0m\u001b[0;34m\u001b[0m\u001b[0m\n\u001b[0;32m----> 2\u001b[0;31m \u001b[0mcalPathDist\u001b[0m\u001b[0;34m(\u001b[0m\u001b[0mpath\u001b[0m\u001b[0;34m)\u001b[0m\u001b[0;34m\u001b[0m\u001b[0;34m\u001b[0m\u001b[0m\n\u001b[0m",
      "\u001b[0;31mNameError\u001b[0m: name 'calPathDist' is not defined"
     ]
    }
   ],
   "source": [
    "path, cost = farthest_first()\n",
    "calPathDist(path)"
   ]
  },
  {
   "cell_type": "code",
   "execution_count": null,
   "metadata": {},
   "outputs": [],
   "source": [
    "np.unique(path).shape"
   ]
  },
  {
   "cell_type": "code",
   "execution_count": null,
   "metadata": {},
   "outputs": [],
   "source": [
    "cost"
   ]
  },
  {
   "cell_type": "markdown",
   "metadata": {},
   "source": [
    "### K-opt Agorithms\n",
    "\n",
    "#### 2-opt Algorithm\n",
    "\n",
    "The 2-opt algorithm works as follows: take 2 arcs from the route, reconnect these arcs with each other and calculate new travel distance. If this modification has led to a shorter total travel distance the current route is updated. The algorithm continues to build on the improved route and repeats the steps.\n",
    "\n",
    "```\n",
    "procedure 2optSwap(route, i, k) {\n",
    "    1. take route[0] to route[i-1] and add them in order to new_route\n",
    "    2. take route[i] to route[k] and add them in reverse order to new_route\n",
    "    3. take route[k+1] to end and add them in order to new_route\n",
    "    return new_route;\n",
    "}\n",
    "```"
   ]
  },
  {
   "cell_type": "code",
   "execution_count": null,
   "metadata": {},
   "outputs": [],
   "source": [
    "def two_opt(route):\n",
    "    # 2-opt implementation here\n",
    "    return"
   ]
  },
  {
   "cell_type": "code",
   "execution_count": 36,
   "metadata": {},
   "outputs": [
    {
     "name": "stdout",
     "output_type": "stream",
     "text": [
      "updated path costs to 5.100702316183739\n",
      "updated path costs to 5.100702316183739\n",
      "updated path costs to 5.100702316183739\n",
      "updated path costs to 5.100702316183739\n",
      "updated path costs to 5.100702316183739\n",
      "updated path costs to 5.100702316183739\n",
      "updated path costs to 5.100702316183739\n",
      "updated path costs to 5.100702316183739\n",
      "updated path costs to 5.100702316183739\n",
      "updated path costs to 5.100702316183739\n",
      "updated path costs to 5.100702316183739\n",
      "updated path costs to 5.100702316183739\n",
      "updated path costs to 5.100702316183739\n",
      "updated path costs to 5.100702316183739\n",
      "updated path costs to 5.100702316183739\n",
      "updated path costs to 5.100702316183739\n",
      "updated path costs to 5.100702316183739\n",
      "updated path costs to 5.100702316183739\n",
      "updated path costs to 5.100702316183739\n",
      "updated path costs to 5.100702316183739\n",
      "updated path costs to 5.100702316183739\n",
      "updated path costs to 5.100702316183739\n",
      "updated path costs to 5.100702316183739\n",
      "updated path costs to 5.100702316183739\n",
      "updated path costs to 5.100702316183739\n",
      "updated path costs to 5.100702316183739\n",
      "updated path costs to 5.100702316183739\n",
      "updated path costs to 5.100702316183739\n",
      "updated path costs to 5.100702316183739\n",
      "updated path costs to 5.100702316183739\n",
      "updated path costs to 5.100702316183739\n",
      "updated path costs to 5.100702316183739\n",
      "updated path costs to 5.100702316183739\n",
      "updated path costs to 5.100702316183739\n",
      "updated path costs to 5.100702316183739\n",
      "updated path costs to 5.100702316183739\n",
      "updated path costs to 5.100702316183739\n",
      "updated path costs to 5.100702316183739\n",
      "updated path costs to 5.100702316183739\n",
      "updated path costs to 5.100702316183739\n",
      "updated path costs to 5.100702316183739\n",
      "updated path costs to 5.100702316183739\n",
      "updated path costs to 5.100702316183739\n",
      "updated path costs to 5.100702316183739\n",
      "updated path costs to 5.100702316183739\n",
      "updated path costs to 5.100702316183739\n",
      "updated path costs to 5.100702316183739\n",
      "updated path costs to 5.100702316183739\n",
      "updated path costs to 5.100702316183739\n",
      "updated path costs to 5.100702316183739\n",
      "updated path costs to 5.100702316183739\n",
      "updated path costs to 5.100702316183739\n",
      "updated path costs to 5.100702316183739\n",
      "updated path costs to 5.100702316183739\n",
      "updated path costs to 5.100702316183739\n",
      "updated path costs to 5.100702316183739\n",
      "updated path costs to 5.100702316183739\n",
      "updated path costs to 5.100702316183739\n",
      "updated path costs to 5.100702316183739\n",
      "updated path costs to 5.100702316183739\n",
      "updated path costs to 5.100702316183739\n",
      "updated path costs to 5.100702316183739\n",
      "updated path costs to 5.100702316183739\n",
      "updated path costs to 5.100702316183739\n",
      "updated path costs to 5.100702316183739\n",
      "updated path costs to 5.100702316183739\n",
      "updated path costs to 5.100702316183739\n",
      "updated path costs to 5.100702316183739\n",
      "updated path costs to 5.100702316183739\n",
      "updated path costs to 5.100702316183739\n",
      "updated path costs to 5.100702316183739\n",
      "updated path costs to 5.100702316183739\n",
      "updated path costs to 5.100702316183739\n",
      "updated path costs to 5.100702316183739\n",
      "updated path costs to 5.100702316183739\n",
      "updated path costs to 5.100702316183739\n",
      "updated path costs to 5.100702316183739\n",
      "updated path costs to 5.100702316183739\n",
      "updated path costs to 5.100702316183739\n",
      "updated path costs to 5.100702316183739\n",
      "updated path costs to 5.100702316183739\n",
      "updated path costs to 5.100702316183739\n",
      "updated path costs to 5.100702316183739\n",
      "updated path costs to 5.100702316183739\n",
      "updated path costs to 5.100702316183739\n",
      "updated path costs to 5.100702316183739\n",
      "updated path costs to 5.100702316183739\n",
      "updated path costs to 5.100702316183739\n",
      "updated path costs to 5.100702316183739\n",
      "updated path costs to 5.100702316183739\n",
      "updated path costs to 5.100702316183739\n",
      "updated path costs to 5.100702316183739\n",
      "updated path costs to 5.100702316183739\n",
      "updated path costs to 5.100702316183739\n",
      "updated path costs to 5.100702316183739\n",
      "updated path costs to 5.100702316183739\n",
      "updated path costs to 5.100702316183739\n",
      "updated path costs to 5.100702316183739\n",
      "updated path costs to 5.100702316183739\n",
      "updated path costs to 5.100702316183739\n"
     ]
    },
    {
     "data": {
      "image/png": "[encoded data removed]",
      "text/plain": [
       "<Figure size 432x288 with 1 Axes>"
      ]
     },
     "metadata": {
      "needs_background": "light"
     },
     "output_type": "display_data"
    }
   ],
   "source": [
    "import matplotlib.pyplot as plt\n",
    "\n",
    "MAXCOUNT = 100\n",
    "\n",
    "def calPathDist(path):\n",
    "    sum = 0.0\n",
    "    for i in range(1, len(path)):\n",
    "        sum += get_edge_cost(path[i], path[i - 1])\n",
    "    return sum    \n",
    "\n",
    "def pathCompare(path1, path2):\n",
    "    if calPathDist(path1) <= calPathDist(path2):\n",
    "        return True\n",
    "    return False\n",
    "    \n",
    "def generateRandomPath(path):\n",
    "    a = np.random.randint(len(path))\n",
    "    while True:\n",
    "        b = np.random.randint(len(path))\n",
    "        if np.abs(a - b) > 1:\n",
    "            break\n",
    "    if a > b:\n",
    "        return b, a, path[b:a+1]\n",
    "    else:\n",
    "        return a, b, path[a:b+1]\n",
    "    \n",
    "def reversePath(path):\n",
    "    rePath = path.copy()\n",
    "    rePath[1:-1] = rePath[-2:0:-1]\n",
    "    return rePath\n",
    "    \n",
    "def updateBestPath(bestPath):\n",
    "    count = 0\n",
    "    costs = []\n",
    "    while count < MAXCOUNT:\n",
    "        print(\"updated path costs to\", calPathDist(bestPath))\n",
    "#         print(bestPath.tolist())\n",
    "        costs.append(calPathDist(bestPath))\n",
    "        start, end, path = generateRandomPath(bestPath)\n",
    "        rePath = reversePath(path)\n",
    "        if pathCompare(path, rePath):\n",
    "            count += 1\n",
    "            continue\n",
    "        else:\n",
    "            count = 0\n",
    "            bestPath[start:end+1] = rePath\n",
    "    plot_costs(costs)\n",
    "    return bestPath\n",
    "    \n",
    "def two_opt(stations):\n",
    "    bestPath = stations\n",
    "    bestPath = np.append(bestPath, stations[0])\n",
    "    bestPath = updateBestPath(bestPath)\n",
    "\n",
    "def plot_costs(cost_list):\n",
    "    plt.plot(cost_list)\n",
    "    plt.ylabel('Cost')\n",
    "    plt.xlabel('Num Iterations (k)')\n",
    "    plt.title('2-opt Costs')\n",
    "    plt.show()\n",
    "    \n",
    "two_opt(nn_path)\n"
   ]
  },
  {
   "cell_type": "markdown",
   "metadata": {},
   "source": [
    "#### 3-opt Algorithm\n",
    "3-opt analysis involves deleting 3 connections (or edges) in a network (or tour), to create 3 sub-tours. Then the 7 different ways of reconnecting the network are analysed to find the optimum one. This process is then repeated for a different set of 3 connections, until all possible combinations have been tried in a network. A single execution of 3-opt has a time complexity of $O(n^{3})$.\n"
   ]
  },
  {
   "cell_type": "code",
   "execution_count": 37,
   "metadata": {},
   "outputs": [],
   "source": [
    "def exchange(path, mode, a, c, e):\n",
    "    \"\"\"\n",
    "    path: sequence of station_id with i th being starting and i + 1 th being ending staions\n",
    "    mode: mode of exchanging\n",
    "    a, c, e: index of stations\n",
    "    \"\"\"\n",
    "    b, d, f = a + 1, c + 1, e + 1\n",
    "    \n",
    "    \n",
    "    \n",
    "    if mode == 0:\n",
    "        # remain unchanged\n",
    "        return path, 0\n",
    "    elif mode == 1:\n",
    "        # 2-opt (a, e)[d, c](b, f)\n",
    "        sol = np.concatenate((path[: a + 1], path[e: d - 1: -1], path[c: b - 1: -1], path[f:]))\n",
    "    elif mode == 2:\n",
    "        # 2-opt [a, c](b, d)[e, f]\n",
    "        sol = np.concatenate((path[: a + 1], path[b: c + 1], path[e:d - 1: -1], path[f:]))\n",
    "    elif mode == 3:\n",
    "        # 2-opt (a, c)(b, d)[e, f]\n",
    "        sol = np.concatenate((path[: a + 1], path[c: b - 1: -1], path[d: e + 1], path[f:]))\n",
    "    elif mode == 4:\n",
    "        # 3-opt (a, c)(b, e)(d, f)\n",
    "        sol = np.concatenate((path[: a + 1], path[c: b - 1: -1], path[e: d - 1: -1], path[f:]))\n",
    "    elif mode == 5:\n",
    "        # 3-opt (a, e)(d, b)(c, f)\n",
    "        sol = np.concatenate((path[: a + 1], path[e: d - 1: -1], path[b: c + 1], path[f:]))\n",
    "    elif mode == 6:\n",
    "        # 3-opt (a, d)(e, c)(b, f)\n",
    "        sol = np.concatenate((path[: a + 1], path[d: e + 1], path[c: b - 1: -1], path[f:]))\n",
    "    elif mode == 7:\n",
    "        # 3-opt (a, d)(e, b)(c, f)\n",
    "        sol = np.concatenate((path[: a + 1], path[d: e + 1], path[b: c + 1], path[f:]))\n",
    "    \n",
    "    base = calPathDist(path)\n",
    "    newCost = calPathDist(sol)\n",
    "    return sol, base - newCost\n",
    "\n",
    "def three_opt_search(bestPath):\n",
    "    size = len(bestPath)\n",
    "    bestCost = calPathDist(bestPath)\n",
    "    bestChange = 1\n",
    "    costs = []\n",
    "    while bestChange > 0:\n",
    "        saved, bestChange = three_opt_update(bestPath, size)\n",
    "        print(\"current route cost is\", bestCost)\n",
    "        costs.append(bestCost)\n",
    "        if bestChange > 0:\n",
    "            a, c, e, mode = saved\n",
    "            bestPath, change = exchange(bestPath, mode, a, c, e)\n",
    "            bestCost -= change\n",
    "    plot_costs(costs)\n",
    "\n",
    "def three_opt_update(bestPath, size):\n",
    "    bestChange = 0\n",
    "    saved = None\n",
    "    for a in range(size - 5):\n",
    "        for c in range(a + 2, size - 3):\n",
    "            for e in range(c + 2, size - 1):\n",
    "                change = 0\n",
    "                print(a, c, e, change, bestChange)\n",
    "                for i in range(8):\n",
    "                    path, change = exchange(bestPath, i, a, c, e)\n",
    "                    \n",
    "                    if change > bestChange:\n",
    "                        saved = a, c, e, i\n",
    "                        bestChange = change\n",
    "    return saved, bestChange\n",
    "        \n",
    "        "
   ]
  },
  {
   "cell_type": "code",
   "execution_count": 38,
   "metadata": {},
   "outputs": [],
   "source": [
    "import random\n",
    "import numpy as np\n",
    "import matplotlib.pyplot as plt\n",
    "# import TWOPT\n",
    "from itertools import combinations, permutations\n",
    "\n",
    "def three_opt(stations):\n",
    "    bestPath = stations\n",
    "    bestPath = np.append(bestPath, stations[0])\n",
    "    bestPath = three_opt_search(bestPath)"
   ]
  },
  {
   "cell_type": "code",
   "execution_count": null,
   "metadata": {},
   "outputs": [],
   "source": [
    "three_opt(nn_path)"
   ]
  },
  {
   "cell_type": "markdown",
   "metadata": {},
   "source": [
    "### Christofides-Serdyukov algorithm\n",
    "\n",
    "The Christofides-Serdyukov algorithm works as follows: first, a minimum spanning tree is created. Then, we take the set of vertices with odd degree, which we'll call O. The number of elements in O will always be even. We then find the minimum-weight perfect matching, which we'll call M, in the induced subgraph constructed from O. Then, we combine the edges of M with the edges from the minimum spanning tree, creating a connected multigraph (for which every vertex will have even degree). We then form an Eulerian circuit in that multigraph, and then turn that circuit into a Hamiltonian circuit by skipping any vertices that are repeated.\n",
    "\n",
    "This algorithm has O(N^2 log n) runtime, which is relatively efficient, and it is guaranteed to produce a solution that is at most 1.5x the length of the optimal solution, making it a very powerful travelling salesman approximation algorithm.\n",
    "\n",
    "The following code is from here: https://github.com/Retsediv/ChristofidesAlgorithm/blob/99ad2eb37451f5ebd274a497dd823a0b427599fe/christofides.py"
   ]
  },
  {
   "cell_type": "code",
   "execution_count": null,
   "metadata": {},
   "outputs": [],
   "source": [
    "def tsp(data):\n",
    "    # build a graph\n",
    "    G = build_graph(data)\n",
    "    print(\"Graph: \", G)\n",
    "\n",
    "    # build a minimum spanning tree\n",
    "    MSTree = minimum_spanning_tree(G)\n",
    "    print(\"MSTree: \", MSTree)\n",
    "\n",
    "    # find odd vertexes\n",
    "    odd_vertexes = find_odd_vertexes(MSTree)\n",
    "    print(\"Odd vertexes in MSTree: \", odd_vertexes)\n",
    "\n",
    "    # add minimum weight matching edges to MST\n",
    "    minimum_weight_matching(MSTree, G, odd_vertexes)\n",
    "    print(\"Minimum weight matching: \", MSTree)\n",
    "\n",
    "    # find an eulerian tour\n",
    "    eulerian_tour = find_eulerian_tour(MSTree, G)\n",
    "\n",
    "    print(\"Eulerian tour: \", eulerian_tour)\n",
    "\n",
    "    current = eulerian_tour[0]\n",
    "    path = [current]\n",
    "    visited = [False] * len(eulerian_tour)\n",
    "    visited[0] = True\n",
    "\n",
    "    length = 0\n",
    "\n",
    "    for v in eulerian_tour[1:]:\n",
    "        if not visited[v]:\n",
    "            path.append(v)\n",
    "            visited[v] = True\n",
    "\n",
    "            length += G[current][v]\n",
    "            current = v\n",
    "\n",
    "    path.append(path[0])\n",
    "\n",
    "    print(\"Result path: \", path)\n",
    "    print(\"Result length of the path: \", length)\n",
    "\n",
    "    return length, path\n",
    "\n",
    "\n",
    "def get_length(x1, y1, x2, y2):\n",
    "    return ((x1 - x2) ** 2 + (y1 - y2) ** 2) ** (1.0 / 2.0)\n",
    "\n",
    "\n",
    "def build_graph(data):\n",
    "    graph = {}\n",
    "    for this in range(len(data)):\n",
    "        for another_point in range(len(data)):\n",
    "            if this != another_point:\n",
    "                if this not in graph:\n",
    "                    graph[this] = {}\n",
    "\n",
    "                graph[this][another_point] = get_length(data[this][0], data[this][1], data[another_point][0],\n",
    "                                                        data[another_point][1])\n",
    "\n",
    "    return graph\n",
    "\n",
    "\n",
    "class UnionFind:\n",
    "    def __init__(self):\n",
    "        self.weights = {}\n",
    "        self.parents = {}\n",
    "\n",
    "    def __getitem__(self, object):\n",
    "        if object not in self.parents:\n",
    "            self.parents[object] = object\n",
    "            self.weights[object] = 1\n",
    "            return object\n",
    "\n",
    "        # find path of objects leading to the root\n",
    "        path = [object]\n",
    "        root = self.parents[object]\n",
    "        while root != path[-1]:\n",
    "            path.append(root)\n",
    "            root = self.parents[root]\n",
    "\n",
    "        # compress the path and return\n",
    "        for ancestor in path:\n",
    "            self.parents[ancestor] = root\n",
    "        return root\n",
    "\n",
    "    def __iter__(self):\n",
    "        return iter(self.parents)\n",
    "\n",
    "    def union(self, *objects):\n",
    "        roots = [self[x] for x in objects]\n",
    "        heaviest = max([(self.weights[r], r) for r in roots])[1]\n",
    "        for r in roots:\n",
    "            if r != heaviest:\n",
    "                self.weights[heaviest] += self.weights[r]\n",
    "                self.parents[r] = heaviest\n",
    "\n",
    "\n",
    "def minimum_spanning_tree(G):\n",
    "    tree = []\n",
    "    subtrees = UnionFind()\n",
    "    for W, u, v in sorted((G[u][v], u, v) for u in G for v in G[u]):\n",
    "        if subtrees[u] != subtrees[v]:\n",
    "            tree.append((u, v, W))\n",
    "            subtrees.union(u, v)\n",
    "\n",
    "    return tree\n",
    "\n",
    "\n",
    "def find_odd_vertexes(MST):\n",
    "    tmp_g = {}\n",
    "    vertexes = []\n",
    "    for edge in MST:\n",
    "        if edge[0] not in tmp_g:\n",
    "            tmp_g[edge[0]] = 0\n",
    "\n",
    "        if edge[1] not in tmp_g:\n",
    "            tmp_g[edge[1]] = 0\n",
    "\n",
    "        tmp_g[edge[0]] += 1\n",
    "        tmp_g[edge[1]] += 1\n",
    "\n",
    "    for vertex in tmp_g:\n",
    "        if tmp_g[vertex] % 2 == 1:\n",
    "            vertexes.append(vertex)\n",
    "\n",
    "    return vertexes\n",
    "\n",
    "\n",
    "def minimum_weight_matching(MST, G, odd_vert):\n",
    "    import random\n",
    "    random.shuffle(odd_vert)\n",
    "\n",
    "    while odd_vert:\n",
    "        v = odd_vert.pop()\n",
    "        length = float(\"inf\")\n",
    "        u = 1\n",
    "        closest = 0\n",
    "        for u in odd_vert:\n",
    "            if v != u and G[v][u] < length:\n",
    "                length = G[v][u]\n",
    "                closest = u\n",
    "\n",
    "        MST.append((v, closest, length))\n",
    "        odd_vert.remove(closest)\n",
    "\n",
    "\n",
    "def find_eulerian_tour(MatchedMSTree, G):\n",
    "    # find neigbours\n",
    "    neighbours = {}\n",
    "    for edge in MatchedMSTree:\n",
    "        if edge[0] not in neighbours:\n",
    "            neighbours[edge[0]] = []\n",
    "\n",
    "        if edge[1] not in neighbours:\n",
    "            neighbours[edge[1]] = []\n",
    "\n",
    "        neighbours[edge[0]].append(edge[1])\n",
    "        neighbours[edge[1]].append(edge[0])\n",
    "\n",
    "    # print(\"Neighbours: \", neighbours)\n",
    "\n",
    "    # finds the hamiltonian circuit\n",
    "    start_vertex = MatchedMSTree[0][0]\n",
    "    EP = [neighbours[start_vertex][0]]\n",
    "\n",
    "    while len(MatchedMSTree) > 0:\n",
    "        for i, v in enumerate(EP):\n",
    "            if len(neighbours[v]) > 0:\n",
    "                break\n",
    "\n",
    "        while len(neighbours[v]) > 0:\n",
    "            w = neighbours[v][0]\n",
    "\n",
    "            remove_edge_from_matchedMST(MatchedMSTree, v, w)\n",
    "\n",
    "            del neighbours[v][(neighbours[v].index(w))]\n",
    "            del neighbours[w][(neighbours[w].index(v))]\n",
    "\n",
    "            i += 1\n",
    "            EP.insert(i, w)\n",
    "\n",
    "            v = w\n",
    "\n",
    "    return EP\n",
    "\n",
    "\n",
    "def remove_edge_from_matchedMST(MatchedMST, v1, v2):\n",
    "\n",
    "    for i, item in enumerate(MatchedMST):\n",
    "        if (item[0] == v2 and item[1] == v1) or (item[0] == v1 and item[1] == v2):\n",
    "            del MatchedMST[i]\n",
    "\n",
    "    return MatchedMST"
   ]
  },
  {
   "cell_type": "code",
   "execution_count": 43,
   "metadata": {},
   "outputs": [
    {
     "name": "stderr",
     "output_type": "stream",
     "text": [
      "IOPub data rate exceeded.\n",
      "The notebook server will temporarily stop sending output\n",
      "to the client in order to avoid crashing it.\n",
      "To change this limit, set the config variable\n",
      "`--NotebookApp.iopub_data_rate_limit`.\n",
      "\n",
      "Current values:\n",
      "NotebookApp.iopub_data_rate_limit=1000000.0 (bytes/sec)\n",
      "NotebookApp.rate_limit_window=3.0 (secs)\n",
      "\n"
     ]
    },
    {
     "name": "stdout",
     "output_type": "stream",
     "text": [
      "MSTree:  [(730, 1482, 0.0), (1082, 1139, 0.0003530682337615679), (682, 727, 0.0003562021897597687), (91, 220, 0.0003594154549637354), (230, 935, 0.0004439096411535705), (425, 825, 0.0006421013431371006), (246, 555, 0.0006804770976245766), (115, 1410, 0.0007276764390931203), (875, 957, 0.0007371458154869868), (793, 824, 0.0007434076223509423), (362, 642, 0.000743786955878044), (1183, 1212, 0.0007586096009160818), (37, 606, 0.0007627616577919861), (300, 998, 0.0007676731075111235), (537, 1126, 0.0007861894889016774), (479, 942, 0.0008159241659863194), (275, 845, 0.0008189830233285897), (123, 987, 0.0008615708227429481), (189, 466, 0.0008664108704667751), (1008, 1379, 0.0008860348489524659), (876, 981, 0.0008956232466785522), (701, 856, 0.0008997913330458619), (26, 234, 0.0009071829005016591), (793, 878, 0.0009498823749160963), (42, 447, 0.0009532177086059948), (1272, 1439, 0.0009574016920869951), (733, 1376, 0.0009648887382172823), (1179, 1445, 0.000982173609905206), (1241, 1415, 0.0010040926252116312), (438, 581, 0.0010374222862524836), (457, 879, 0.0010375221172788762), (767, 822, 0.0010462205232625462), (161, 1019, 0.0010603442837159322), (1066, 1229, 0.0010640924094530758), (44, 422, 0.001064585876331061), (709, 952, 0.0010973416739025335), (1156, 1232, 0.0011032696859704933), (270, 694, 0.001111509163331549), (968, 1222, 0.0011164264418145496), (911, 1379, 0.001142655238382979), (417, 863, 0.0011482241042692677), (206, 560, 0.0011581990329710013), (664, 898, 0.0011633640874678655), (32, 617, 0.0011804924548928762), (467, 1114, 0.0011870566161693056), (260, 1437, 0.0011908964451440858), (191, 937, 0.0011988377681370066), (318, 1384, 0.0012037369978595367), (769, 1227, 0.001204327091783969), (509, 1252, 0.0012225829215249885), (375, 1375, 0.0012231964069519972), (559, 788, 0.0012262805120230743), (363, 378, 0.0012273394498829688), (411, 421, 0.0012294295425136455), (1061, 1071, 0.0012399973084715027), (715, 859, 0.0012449942326325156), (748, 974, 0.0012472337523085518), (1400, 1458, 0.0012550219121616833), (451, 1183, 0.0012603402897680108), (672, 859, 0.0012643861498754095), (847, 1021, 0.001274907216785876), (208, 1448, 0.0012762954203520286), (226, 767, 0.0012793626160326668), (1296, 1317, 0.0012807611018520572), (22, 1405, 0.0012830541687739458), (734, 979, 0.0012836455897187403), (237, 1130, 0.0012971871666988442), (284, 1255, 0.001297210854098488), (7, 977, 0.0013075488941489458), (307, 817, 0.0013152946437970366), (1141, 1393, 0.0013186739551565739), (154, 647, 0.0013245833630596993), (419, 968, 0.0013366323353858614), (921, 1087, 0.0013382735422972363), (559, 617, 0.001340169619871872), (999, 1127, 0.001343053982530533), (199, 476, 0.0013433687735662676), (549, 1486, 0.0013509256086155022), (191, 401, 0.0013636810657981773), (360, 707, 0.001370112479065098), (151, 416, 0.001378932759638757), (841, 1023, 0.0013802940848332119), (924, 991, 0.0013857290499995891), (984, 1066, 0.0013879889859228934), (37, 1212, 0.0013944380482847228), (89, 826, 0.0013950669641266758), (136, 586, 0.0013982206549639853), (652, 1449, 0.0014012497992824079), (812, 1028, 0.0014048237455968197), (344, 1176, 0.0014064867578375993), (293, 972, 0.001409848483801551), (878, 1030, 0.001420067948207879), (457, 758, 0.0014221603604945834), (127, 614, 0.0014365831885783827), (502, 638, 0.0014373879086755947), (132, 420, 0.0014375614332882774), (571, 760, 0.0014419267623623543), (95, 405, 0.0014439506387121427), (970, 1271, 0.001445448373347154), (27, 516, 0.0014468493356167703), (1149, 1196, 0.0014482668952872171), (245, 1210, 0.0014533762011569352), (229, 379, 0.0014636090905724665), (390, 1315, 0.0014689595514334349), (552, 1069, 0.0014698838452108628), (92, 1454, 0.0014725206280426584), (1084, 1224, 0.0014774305398312113), (609, 903, 0.0014828642762876741), (4, 821, 0.0014896302421595466), (765, 974, 0.001490523751095134), (381, 1470, 0.001490605246200154), (696, 1191, 0.0014945820695089784), (293, 675, 0.0014947090588385706), (505, 574, 0.0014968045964698063), (489, 515, 0.0014996666296250324), (771, 1037, 0.0015025004561539815), (28, 1437, 0.0015043892295099838), (295, 1453, 0.0015055802868066933), (800, 986, 0.001508411619310486), (599, 1030, 0.001510150045328056), (38, 1020, 0.0015142698655611422), (575, 1174, 0.0015184991852519078), (389, 1251, 0.0015185519418162623), (653, 1427, 0.0015300369276521177), (300, 765, 0.001534174208831067), (892, 1028, 0.001534679771151694), (320, 1397, 0.0015381173557370527), (1, 824, 0.0015433672065295512), (76, 683, 0.001546868396991983), (350, 772, 0.0015470404364783426), (255, 694, 0.001547534879513826), (102, 843, 0.001549998471862597), (634, 666, 0.0015513492792160468), (1023, 1059, 0.0015527526883751322), (24, 1146, 0.0015539552760600289), (167, 518, 0.0015546996510802991), (328, 1058, 0.001557889718081489), (4, 954, 0.0015587830966759177), (954, 1114, 0.001559896956631479), (251, 298, 0.001562086486527081), (741, 960, 0.001564235915702938), (922, 975, 0.0015656454711365398), (18, 171, 0.0015718277026314648), (124, 373, 0.0015720561863336025), (315, 772, 0.0015750050793619363), (680, 690, 0.0015770811646953996), (59, 827, 0.0015791770008447175), (190, 943, 0.0015862187743122184), (240, 931, 0.0015931468858756562), (41, 1213, 0.0015987904893757408), (348, 1426, 0.001599190107529218), (531, 598, 0.0016005641559279492), (1284, 1432, 0.0016034004490476103), (795, 1016, 0.0016064891480589538), (325, 1349, 0.001608968223582229), (92, 1205, 0.0016116007570094238), (1144, 1387, 0.00161296157926353), (102, 1022, 0.001616781768736689), (118, 323, 0.0016208762087233412), (1289, 1411, 0.0016221857127422443), (53, 705, 0.0016233613929801918), (611, 695, 0.0016252665446625614), (582, 702, 0.0016326862833979283), (573, 756, 0.001633110529022328), (1018, 1127, 0.0016346929375310475), (533, 1313, 0.0016350016935193664), (175, 1484, 0.001638526626788853), (1144, 1253, 0.0016405486887046416), (173, 543, 0.0016481580628127516), (472, 910, 0.0016505343819842794), (833, 1239, 0.0016507574019245486), (1270, 1418, 0.001655643983472362), (864, 975, 0.0016566114971478837), (582, 905, 0.001663635272531151), (228, 539, 0.0016637249764649784), (41, 169, 0.0016662713320804434), (281, 1418, 0.0016694555998905604), (1119, 1279, 0.0016743755659090107), (344, 991, 0.001678573799393324), (79, 980, 0.0016817794729396644), (217, 1132, 0.0016833418649252736), (810, 1121, 0.001683856359660131), (677, 705, 0.0016876522343784032), (1017, 1348, 0.001687711403058075), (182, 1037, 0.0016879944873154442), (354, 1128, 0.0016881230502323265), (880, 949, 0.0016911290320780373), (21, 288, 0.001697354533528939), (274, 1129, 0.0016995587662664415), (100, 406, 0.0017003602559493816), (504, 1278, 0.0017016333330008193), (144, 423, 0.0017033762283806234), (365, 453, 0.00170366692754208), (159, 204, 0.001704417088953991), (816, 1307, 0.0017050354834975824), (663, 672, 0.0017067013154385133), (59, 1105, 0.0017092533621184355), (64, 403, 0.001709864885563348), (460, 785, 0.0017135641188623615), (979, 1055, 0.0017136860856035133), (860, 1244, 0.0017146599023103116), (1045, 1158, 0.0017150104955919495), (2, 48, 0.0017161651044531607), (341, 1431, 0.001716662544758133), (1091, 1429, 0.0017189252456120945), (382, 444, 0.001720528116600206), (249, 939, 0.0017215667515426193), (262, 1074, 0.0017240939649469304), (545, 1364, 0.001725537830529863), (840, 1181, 0.001727346230495465), (185, 675, 0.0017343963849351764), (131, 386, 0.001738605619371429), (309, 787, 0.0017405849450072047), (418, 899, 0.0017419879448516214), (612, 951, 0.0017420390799774135), (36, 833, 0.001744161689749102), (588, 1078, 0.001749002287013966), (1073, 1129, 0.001750942603278281), (327, 854, 0.0017551191624866891), (323, 686, 0.0017624319613631014), (419, 577, 0.0017661418402829347), (117, 677, 0.001769887423192866), (1154, 1332, 0.00177455149264047), (672, 1021, 0.0017746903326833242), (39, 193, 0.0017750608440323622), (207, 287, 0.001776600405271076), (24, 761, 0.0017792709181079509), (657, 1003, 0.0017799157283542929), (28, 646, 0.0017805349560874302), (152, 242, 0.0017815997181029719), (147, 1478, 0.0017845261187691892), (286, 570, 0.001788179241578086), (313, 464, 0.0017886984171178518), (29, 386, 0.0017891782836269704), (318, 361, 0.001789601452831526), (508, 1142, 0.0017915236532067764), (56, 850, 0.0017929266577281144), (51, 762, 0.0017932005643578283), (1205, 1255, 0.0017940596422654383), (1041, 1221, 0.0017954850303607455), (16, 407, 0.0017972082244617272), (454, 749, 0.001801329573203367), (466, 1380, 0.001804608559568705), (167, 860, 0.0018115569847285912), (625, 1226, 0.0018161773041162795), (950, 1168, 0.001816907863511576), (89, 179, 0.001818063766757364), (483, 1222, 0.0018186242052744142), (30, 218, 0.0018222497084632776), (552, 722, 0.0018231050580790609), (385, 1474, 0.0018241724150986865), (331, 854, 0.0018247790274342464), (253, 551, 0.0018295586899601333), (59, 775, 0.0018298907071185762), (150, 599, 0.0018309582200590935), (677, 695, 0.0018314386347224364), (465, 1121, 0.0018378925367340108), (247, 440, 0.0018400133151634218), (642, 993, 0.0018407152816848583), (477, 757, 0.0018419134072939422), (873, 948, 0.00184361058794615), (1269, 1309, 0.001843632284376466), (158, 1351, 0.0018444123725568527), (630, 1423, 0.001846386672224545), (535, 1463, 0.0018468529990214313), (385, 592, 0.001854060408941966), (1170, 1371, 0.0018572258727983465), (288, 572, 0.0018578779368460755), (186, 1027, 0.0018591594992921642), (634, 993, 0.001859166748335829), (95, 1052, 0.001859969091090022), (469, 782, 0.0018626814310876607), (1001, 1385, 0.0018657336171030553), (118, 951, 0.00186593353046319), (493, 1274, 0.0018664774308848376), (488, 719, 0.0018668707640649917), (302, 1242, 0.0018686256580669387), (215, 286, 0.0018706089917404113), (724, 1047, 0.001871534761204549), (910, 1082, 0.0018722374467705827), (1060, 1248, 0.001878563280797142), (349, 1363, 0.001879761060374932), (72, 1355, 0.0018854201441286169), (1289, 1449, 0.001885806324941953), (1378, 1480, 0.001888988353586523), (319, 526, 0.0018913238749648416), (50, 492, 0.0018958645949792826), (536, 1358, 0.001898619761829088), (150, 601, 0.0018999236228018767), (1412, 1448, 0.0019003631231940875), (59, 1350, 0.0019006577808743637), (647, 1324, 0.001902115426427827), (1249, 1353, 0.0019026234519749277), (1029, 1340, 0.0019034255702309083), (397, 1265, 0.0019047711148712928), (297, 1048, 0.001906461156828729), (271, 615, 0.0019097620091757432), (129, 1276, 0.0019101248650266074), (54, 456, 0.001912054829580866), (182, 670, 0.0019128374833765436), (656, 808, 0.0019132407062444157), (787, 957, 0.0019148203233789384), (668, 1007, 0.0019167031319053355), (1439, 1478, 0.0019188216888494994), (199, 1081, 0.0019190641759587292), (524, 1403, 0.0019204442194475518), (533, 984, 0.0019210567968727002), (154, 769, 0.0019215005268197198), (760, 1116, 0.0019223529540477401), (1197, 1354, 0.0019234159716450291), (100, 394, 0.0019296113598313571), (31, 111, 0.0019340325395649336), (65, 1346, 0.001941203824611301), (149, 1006, 0.001942905213246706), (655, 1295, 0.0019455847450002024), (1279, 1385, 0.0019497756281186705), (1209, 1300, 0.0019498717906595053), (717, 838, 0.0019501678467545986), (722, 942, 0.0019530896971042607), (337, 1257, 0.0019552417881146034), (227, 1443, 0.0019573617447968886), (146, 778, 0.0019577295523061536), (734, 991, 0.0019615700344356546), (569, 1463, 0.001965020610584504), (377, 887, 0.0019673489725233083), (797, 1483, 0.0019708409283382294), (601, 863, 0.0019737178974584724), (499, 775, 0.0019743606560058942), (758, 890, 0.001975889462699835), (144, 1087, 0.0019759543518239066), (1382, 1406, 0.0019780647107809344), (446, 562, 0.0019786068331020348), (1152, 1166, 0.0019787023391821404), (491, 1123, 0.0019788484024665944), (538, 1326, 0.00198080614901886), (547, 780, 0.001980814293520633), (730, 737, 0.0019872569454219293), (649, 1207, 0.0019881432791924135), (1386, 1465, 0.0019921947695824105), (200, 1116, 0.0019987005266678994), (226, 707, 0.0020009095395136173), (550, 1172, 0.0020012655995543544), (26, 763, 0.0020028126290500257), (1460, 1475, 0.0020051336514208475), (128, 978, 0.0020095265611557826), (760, 1213, 0.0020106096375325953), (869, 994, 0.002012005559532786), (667, 798, 0.0020131343125517546), (189, 467, 0.0020133275881786664), (77, 88, 0.002016323578833617), (624, 1302, 0.0020183032922800946), (565, 1079, 0.002020600960113048), (588, 1339, 0.002021410646061254), (635, 794, 0.002021787575391584), (3, 1206, 0.0020220816890488456), (116, 818, 0.0020229928324120732), (34, 80, 0.00202392810702941), (216, 1200, 0.002026720466660539), (131, 142, 0.0020276760034421697), (556, 1199, 0.002032411867706765), (525, 1265, 0.0020332596981223433), (404, 574, 0.002034246051974185), (1290, 1336, 0.002035541335859683), (478, 1093, 0.002036413513999544), (557, 1154, 0.0020377968495552327), (897, 1186, 0.002038287726414267), (145, 225, 0.0020417320410162994), (189, 864, 0.0020418171930946536), (661, 922, 0.0020447631575764586), (1323, 1330, 0.0020466730589051418), (301, 1340, 0.002047057812356232), (213, 1311, 0.002047521672658885), (172, 1183, 0.0020478653752873436), (663, 841, 0.00205155939228626), (860, 1218, 0.0020556052483017397), (805, 874, 0.002056263670107989), (135, 1125, 0.0020602672156749004), (479, 1218, 0.0020624656036148034), (852, 914, 0.0020640009689966926), (204, 1267, 0.002064021559964863), (152, 803, 0.0020661948485334227), (660, 665, 0.002067437037130546), (495, 1465, 0.0020682601383907226), (639, 1368, 0.0020694293899565356), (131, 974, 0.002069474891489194), (639, 1444, 0.0020695864321177834), (809, 927, 0.002071514667646034), (1312, 1433, 0.002071626426273198), (154, 1066, 0.0020727338095059057), (534, 1347, 0.002074148017851669), (439, 721, 0.002074823378028865), (1200, 1223, 0.002075729635665108), (512, 801, 0.002077511289981001), (347, 1319, 0.002080865204660934), (906, 1464, 0.0020815191567743383), (196, 1484, 0.0020827662325869946), (953, 1200, 0.002083771324422511), (538, 577, 0.00208744820295564), (681, 1163, 0.0020879839558686428), (266, 1153, 0.002088446312458041), (388, 540, 0.002089142994150103), (524, 999, 0.0020919909177666163), (431, 622, 0.0020922848146830396), (727, 785, 0.002095059496098828), (301, 980, 0.0020976359349482105), (268, 1163, 0.002099414442173703), (289, 1054, 0.002099711968472771), (90, 1384, 0.0021006601343366107), (79, 1343, 0.002102185516481048), (456, 735, 0.002103439941554239), (215, 1096, 0.002104642487457503), (823, 1020, 0.0021127399319318487), (996, 1333, 0.002113030998346639), (407, 917, 0.0021181645030442587), (762, 1030, 0.002119984344495821), (519, 671, 0.002121292530513847), (694, 1133, 0.0021219153857038467), (66, 709, 0.002122772884885863), (1325, 1409, 0.002127103789194213), (1290, 1479, 0.002127848002662371), (636, 1093, 0.002128015037532745), (372, 1079, 0.0021286923803164864), (431, 834, 0.002134842748781602), (902, 1469, 0.00213665688725069), (445, 1119, 0.0021393770395126722), (1391, 1458, 0.002139609543822629), (42, 539, 0.0021409783698614626), (674, 715, 0.0021442391059419605), (442, 1006, 0.002145408078555673), (62, 1305, 0.0021466357399490977), (263, 1359, 0.00214697741022676), (242, 330, 0.0021480658695698174), (919, 1328, 0.002148706124619968), (274, 965, 0.002150968386555952), (406, 1197, 0.0021520418211573443), (219, 725, 0.0021530146307026997), (519, 1075, 0.002153529660819383), (510, 1041, 0.002153731430538315), (195, 926, 0.0021550669626674793), (115, 1462, 0.0021552617010390865), (943, 1335, 0.0021552995151525624), (1077, 1288, 0.002156153983366266), (347, 1358, 0.0021567375825463646), (867, 1064, 0.0021567403645373112), (237, 518, 0.0021608685674662995), (790, 1036, 0.0021612908153365714), (437, 774, 0.0021616644037560136), (313, 315, 0.0021646820796551213), (379, 619, 0.0021683913784187403), (686, 1027, 0.0021692969212253185), (239, 749, 0.002169902087983453), (347, 1290, 0.0021699991082936706), (33, 512, 0.0021702858060611884), (737, 982, 0.0021715606503317528), (600, 727, 0.0021722108736167106), (316, 875, 0.0021733503027666933), (1315, 1454, 0.0021745125890657584), (648, 722, 0.0021764339499609235), (275, 1024, 0.0021773535000040234), (207, 1057, 0.0021777322538051665), (320, 624, 0.0021784297096801067), (777, 883, 0.0021789892152098036), (7, 1227, 0.0021798279748652897), (745, 779, 0.002180779236918239), (426, 542, 0.0021843233015511098), (742, 1321, 0.0021843509853937113), (260, 1468, 0.002185067187771021), (359, 448, 0.0021874763973658024), (515, 768, 0.0021912890682785962), (185, 774, 0.0021925448582926226), (708, 1064, 0.002193490937883618), (899, 1078, 0.0021944675891849143), (10, 1004, 0.0021946174311253687), (112, 1161, 0.002194735747202134), (98, 1094, 0.0021949487465617134), (73, 1469, 0.0021989994771797012), (340, 754, 0.0022031976585205303), (484, 1392, 0.0022065569651457625), (1289, 1318, 0.00220798427101679), (591, 645, 0.002211163105134162), (560, 985, 0.0022124627695839292), (162, 589, 0.0022132012575405693), (667, 1010, 0.0022196228133553597), (128, 883, 0.0022202207097529337), (811, 1294, 0.002220623808414172), (373, 845, 0.002221865996161795), (90, 650, 0.00222291155694567), (943, 1193, 0.002224377665776086), (102, 322, 0.0022277438246387114), (561, 638, 0.002228444524778703), (338, 1442, 0.0022298881712627086), (370, 565, 0.0022320373264717087), (195, 503, 0.0022329588054601493), (1286, 1313, 0.002235241602681129), (278, 618, 0.0022367326617166367), (1034, 1282, 0.0022372126272632337), (691, 741, 0.0022392768922149917), (436, 1137, 0.0022392811435809237), (1182, 1419, 0.002239416218567552), (471, 774, 0.0022396552633290093), (674, 749, 0.0022432248372594677), (74, 995, 0.002243825750808383), (301, 1045, 0.0022439915329689262), (18, 780, 0.0022440696468878575), (167, 1292, 0.0022443431020304884), (1430, 1474, 0.0022448284086675017), (2, 250, 0.0022466874310959656), (254, 1051, 0.002247282282688046), (138, 339, 0.002249464534912957), (283, 1361, 0.0022495675162096784), (579, 1445, 0.00224999734222008), (631, 1464, 0.0022514764044980645), (285, 1135, 0.0022522877258425145), (473, 1088, 0.0022526360114408276), (176, 322, 0.002252916849810068), (376, 1371, 0.002253199028051566), (264, 1394, 0.002253739337182747), (40, 971, 0.0022538105837797404), (1036, 1043, 0.002254645355818057), (737, 927, 0.002255392299969203), (1374, 1389, 0.002255896495847773), (605, 1278, 0.002257327845038912), (619, 1035, 0.0022582685845590864), (248, 649, 0.0022601914531768523), (818, 1117, 0.0022643321311151773), (447, 1101, 0.002268451032968448), (801, 857, 0.0022706212806149987), (308, 784, 0.002272406189070378), (1162, 1234, 0.0022736897325693864), (513, 964, 0.0022743130831076506), (439, 640, 0.002274504616401641), (1088, 1357, 0.0022759387074354942), (26, 248, 0.002276766095613299), (623, 830, 0.002277432984752525), (365, 1304, 0.002281622229905393), (527, 1430, 0.0022823504508291217), (828, 1158, 0.002284271792057949), (503, 523, 0.0022866264212523225), (279, 1270, 0.002287630433438548), (530, 844, 0.002288530317465849), (81, 475, 0.0022887034903252947), (484, 1480, 0.0022889316285159425), (163, 1367, 0.0022890579055314633), (56, 497, 0.0022910735474863586), (355, 921, 0.0022918861371793845), (1254, 1455, 0.002293949650715674), (145, 451, 0.0022952797653688368), (335, 567, 0.002295374479249932), (240, 526, 0.0022963666954587333), (364, 1228, 0.0022982867532079314), (1026, 1039, 0.002298853068345499), (433, 999, 0.0022989475853110635), (433, 868, 0.0022999452167399943), (414, 572, 0.002303017658304821), (134, 1097, 0.002304242816384938), (69, 900, 0.0023047871455870897), (597, 811, 0.002304808299728935), (685, 923, 0.002306475515690825), (1432, 1465, 0.0023077237702981775), (792, 853, 0.002307771556077581), (1434, 1461, 0.002307834482795059), (198, 837, 0.002309054464181255), (96, 944, 0.0023096607651218594), (704, 731, 0.002309829316215998), (969, 1178, 0.002310904814718404), (111, 1409, 0.002311622590762545), (360, 764, 0.002312744257365906), (739, 903, 0.002312791106631186), (1281, 1472, 0.0023133423871080526), (229, 568, 0.002313780024132438), (1323, 1442, 0.0023138165172594235), (410, 1275, 0.002313857341909122), (112, 1288, 0.0023142489062258033), (1115, 1365, 0.0023143381343203296), (1047, 1111, 0.0023164282635592605), (306, 909, 0.002317319322465701), (983, 1136, 0.0023182974916054113), (132, 992, 0.0023186418438323883), (740, 856, 0.0023189524816911783), (498, 1074, 0.002319698256236956), (29, 459, 0.0023200504912768627), (791, 1143, 0.002320208601067263), (352, 1429, 0.0023203200210270922), (12, 973, 0.0023206182365928894), (190, 1093, 0.002320631379609257), (684, 998, 0.002320831101130233), (107, 1325, 0.002321997425411876), (366, 754, 0.002322511538522644), (916, 1231, 0.002322939378796111), (812, 1408, 0.0023235660003823717), (17, 1055, 0.002324601686319962), (298, 1180, 0.0023252782550182032), (232, 1374, 0.0023261773363241643), (255, 350, 0.0023268263261641605), (521, 855, 0.0023269147156990654), (1122, 1169, 0.0023270483450120107), (20, 700, 0.0023285654382022365), (1259, 1415, 0.002328759326341955), (1141, 1332, 0.0023302780949928394), (66, 594, 0.002330493482632493), (673, 856, 0.0023317254747888144), (78, 1111, 0.0023320486324628366), (440, 1354, 0.0023345639849850467), (673, 949, 0.0023357544846315716), (463, 837, 0.002336084387564242), (1373, 1404, 0.0023364000085594086), (676, 936, 0.002337580372952748), (268, 387, 0.0023376297824946935), (13, 1140, 0.0023401770467205533), (343, 400, 0.0023448634372222536), (529, 1299, 0.0023448848585791663), (357, 1358, 0.0023450213218704154), (391, 1353, 0.002345412970032404), (1434, 1441, 0.0023456336187946954), (1269, 1274, 0.0023465772947013942), (843, 1059, 0.0023468863312199684), (161, 1049, 0.0023470801008937657), (944, 1334, 0.0023475928117947407), (1203, 1273, 0.0023482789655244586), (23, 1238, 0.0023499278712390604), (290, 315, 0.002354628932657301), (966, 1247, 0.0023549575367773894), (789, 992, 0.002358909536973725), (506, 1255, 0.0023593891158446983), (945, 1327, 0.0023630651704827596), (143, 174, 0.0023667218445806272), (696, 853, 0.00236825908118903), (938, 1026, 0.002368662942208245), (297, 601, 0.0023692745148332552), (1035, 1398, 0.0023697909190427526), (744, 916, 0.002371174144558977), (551, 1487, 0.0023727614713633547), (843, 1337, 0.0023729428856228696), (1165, 1171, 0.0023732342910021886), (9, 514, 0.002375944654234927), (21, 54, 0.00237697231574702), (668, 1204, 0.0023775766668135273), (246, 895, 0.0023782279454200345), (61, 238, 0.002378972388762322), (877, 969, 0.002379114512826192), (64, 651, 0.00238034591489181), (584, 1173, 0.00238089155172463), (1147, 1216, 0.0023854475734290683), (555, 1342, 0.002389040912162596), (81, 454, 0.0023893532854714888), (756, 1436, 0.0023918789685092004), (273, 1467, 0.002393749415289957), (172, 1071, 0.002395003616896364), (99, 1370, 0.0023968333129325337), (1110, 1329, 0.002400915783634144), (55, 1322, 0.0024018347153828305), (1203, 1361, 0.0024052882072619743), (696, 933, 0.002407088356101499), (417, 834, 0.002407362691448644), (148, 510, 0.0024096528815583675), (1081, 1202, 0.002410018760269055), (24, 312, 0.0024113268131893757), (501, 807, 0.0024139839125363266), (224, 1044, 0.0024156829403056013), (1264, 1425, 0.00241752887262484), (605, 848, 0.0024209966955812197), (236, 836, 0.002423333654289035), (187, 314, 0.0024257459478079298), (656, 794, 0.002426412372203816), (452, 1438, 0.0024264873789070166), (195, 739, 0.00242671680663942), (424, 941, 0.0024281530484203434), (964, 1220, 0.0024303261097994486), (355, 405, 0.002431300839555241), (1460, 1461, 0.002431666095503065), (138, 751, 0.0024325939467125207), (460, 738, 0.002432812132322645), (901, 1299, 0.0024336000082112825), (1032, 1378, 0.0024339500816612106), (550, 955, 0.002436770403628207), (388, 1450, 0.0024369045631754366), (50, 889, 0.0024370167927370524), (404, 808, 0.002437395331084779), (72, 636, 0.0024375735886377013), (287, 909, 0.0024379452250931828), (888, 961, 0.0024383108907612178), (544, 1424, 0.002441438962988123), (3, 303, 0.002443575916412869), (1153, 1219, 0.0024446302378929334), (633, 804, 0.0024449511242586), (600, 1112, 0.0024454732240894025), (469, 729, 0.002445683077110235), (458, 669, 0.0024466734760576286), (285, 585, 0.002446798981084822), (96, 1257, 0.0024469424288294695), (414, 613, 0.002448720613708438), (104, 967, 0.0024505241383249885), (367, 1307, 0.002455540834135129), (520, 937, 0.0024571975342659804), (621, 1485, 0.002457877132806221), (290, 982, 0.0024596866122540218), (39, 671, 0.002460148166272352), (94, 288, 0.0024639079858129547), (603, 779, 0.0024643478458623975), (478, 516, 0.002466091644687121), (295, 468, 0.002466330269860233), (621, 1271, 0.0024663677746776364), (780, 826, 0.0024665819486265105), (360, 923, 0.0024667473296789573), (831, 963, 0.0024681673363050856), (384, 881, 0.0024696963376033645), (340, 1037, 0.0024699400442328837), (393, 1159, 0.0024699838056101804), (471, 930, 0.002470391396965029), (425, 1024, 0.002470653608217781), (1297, 1477, 0.0024715244283644313), (34, 1136, 0.0024717344595197757), (481, 710, 0.0024723109824751227), (630, 1439, 0.0024725452473016957), (60, 351, 0.002472993095417885), (1067, 1187, 0.0024734793308252775), (559, 954, 0.002473661418087828), (231, 298, 0.002474018997512545), (407, 1293, 0.0024763110998526038), (1, 821, 0.0024787720836279693), (200, 1050, 0.0024798352388696737), (303, 627, 0.0024810404398541122), (57, 917, 0.002482940975469552), (444, 1169, 0.0024837717286412446), (262, 616, 0.0024839484696817845), (791, 1231, 0.0024855588662512375), (200, 994, 0.00248574280820011), (107, 354, 0.0024866526719802134), (1142, 1194, 0.0024873755245226606), (101, 1036, 0.0024879789855275945), (63, 1034, 0.0024880245276099697), (277, 1249, 0.002488093647755893), (554, 1124, 0.0024883263616758263), (1034, 1119, 0.0024883621192155164), (1220, 1383, 0.0024951673290640936), (476, 603, 0.0024960261439558673), (645, 1393, 0.00249643766195627), (267, 575, 0.00249823137439546), (299, 667, 0.002498641947141161), (422, 1202, 0.002499112873593057), (244, 1137, 0.0024999340041267776), (546, 626, 0.0025005479399387745), (291, 894, 0.0025012087078049123), (82, 1069, 0.0025014294998096953), (665, 678, 0.002501738527097903), (1164, 1421, 0.0025027538832348237), (15, 986, 0.0025029156738380527), (981, 1042, 0.0025033012482747405), (598, 735, 0.0025059447411728514), (468, 1199, 0.002506575751899386), (646, 1441, 0.0025070058316000858), (1258, 1328, 0.0025080496027837422), (607, 1050, 0.002509285616506485), (944, 1425, 0.0025094156650570477), (593, 1108, 0.0025128000318279816), (454, 1054, 0.0025150124664698884), (24, 963, 0.0025167552522983518), (676, 938, 0.002517686220016016), (291, 900, 0.0025190261312652415), (1390, 1401, 0.002520039682219588), (1005, 1040, 0.002520293273476268), (729, 1139, 0.002521037130784834), (634, 1059, 0.0025217426550893087), (1316, 1409, 0.0025219117768013346), (1086, 1228, 0.0025223855573656426), (289, 753, 0.002522529165415559), (52, 54, 0.0025225918094683385), (186, 1005, 0.00252386680613785), (1312, 1453, 0.002525132075746698), (14, 1346, 0.002526363021902127), (253, 1205, 0.002527515974231264), (427, 992, 0.002527706470303402), (55, 1195, 0.002528220322668176), (580, 1072, 0.00252899426651149), (80, 82, 0.0025291326680302074), (334, 1329, 0.0025294564985571047), (127, 141, 0.0025305950229081073), (109, 688, 0.0025320197471605946), (498, 1067, 0.0025323901753085023), (259, 575, 0.0025326130774402846), (840, 901, 0.0025326809905562237), (989, 1224, 0.0025328485939641707), (43, 186, 0.0025332360783571605), (1268, 1316, 0.0025334893288123475), (89, 241, 0.00253563178314693), (210, 1368, 0.002536391334182451), (584, 1399, 0.0025372982728805475), (1330, 1402, 0.0025383430126690912), (71, 343, 0.0025398385485197184), (289, 746, 0.0025435560984654773), (776, 1032, 0.00254367961819711), (783, 929, 0.0025441132050287125), (1347, 1417, 0.002544247236421712), (33, 940, 0.002545838410458556), (611, 1016, 0.002546579082782038), (546, 1305, 0.0025469308981544096), (1012, 1338, 0.0025471199276068477), (573, 1381, 0.002548364966007892), (235, 867, 0.002548826396596739), (637, 1103, 0.00254910146718359), (798, 1377, 0.0025492379306205925), (1333, 1456, 0.0025493920844007647), (261, 583, 0.002549392084404583), (835, 1284, 0.002549640170689253), (249, 938, 0.0025499579766132545), (741, 1062, 0.0025502401847723624), (40, 105, 0.002551938931011084), (264, 1438, 0.0025548708382136525), (595, 1006, 0.0025555316546274436), (739, 802, 0.002556290877409109), (212, 1253, 0.002558202493938313), (896, 1452, 0.0025583901188031234), (594, 1059, 0.0025594520374697094), (554, 779, 0.0025618077075573132), (591, 1056, 0.0025631008894667134), (83, 276, 0.0025632350569167865), (399, 933, 0.0025643423760856746), (1098, 1388, 0.002564422742062378), (155, 805, 0.002564806949324387), (849, 969, 0.002565003373547591), (1252, 1310, 0.0025655223812802073), (613, 1337, 0.0025699330862308392), (215, 509, 0.0025729673530785822), (117, 323, 0.0025750758238234552), (537, 1134, 0.002577276010297757), (51, 728, 0.002578100317226494), (160, 342, 0.0025784842446681436), (52, 698, 0.0025790210068856257), (220, 845, 0.0025790403937379983), (1345, 1422, 0.002579853678024018), (474, 1298, 0.002580484450646583), (1117, 1251, 0.0025810462994718675), (343, 458, 0.0025834289505169326), (507, 1418, 0.0025871567405211893), (1374, 1391, 0.002587512512047657), (584, 1316, 0.0025884941182135464), (166, 609, 0.002589928088478157), (369, 814, 0.002594329585841502), (888, 1092, 0.0025959926645769496), (269, 876, 0.0025975113089225154), (279, 497, 0.0025981274025682595), (503, 1367, 0.00259821558721517), (128, 391, 0.002598412207483477), (904, 1132, 0.0025993310216199357), (91, 962, 0.0025999732918276864), (91, 703, 0.002603787867861895), (226, 362, 0.0026067411775100254), (1280, 1402, 0.002606781864660291), (177, 252, 0.0026069801993811054), (61, 730, 0.002608281008162767), (1099, 1257, 0.002610872363796032), (1389, 1470, 0.0026126953515571896), (733, 936, 0.0026144596270372368), (1382, 1451, 0.002615363263477415), (481, 866, 0.002615915259046451), (1186, 1343, 0.002617435191940246), (1131, 1306, 0.0026176516192854354), (1339, 1357, 0.002619336748105705), (366, 1007, 0.0026200334458141403), (207, 743, 0.002620246744101372), (1166, 1170, 0.002621557218054119), (194, 956, 0.002621988796622409), (1049, 1175, 0.0026223518070610367), (116, 1060, 0.002622517874110585), (631, 1015, 0.0026229986656477943), (1138, 1293, 0.002623743161971631), (60, 1444, 0.00262603217802737), (326, 1213, 0.0026266279938915), (813, 1190, 0.0026272674492682914), (377, 494, 0.002629811610669168), (423, 712, 0.002632933746338264), (212, 307, 0.002633040068054183), (1258, 1331, 0.002633692654805643), (641, 800, 0.002636484755375214), (25, 305, 0.0026375082938321437), (210, 1395, 0.002637556444907201), (656, 776, 0.0026397100219488407), (1395, 1414, 0.0026399856060329635), (632, 1131, 0.0026400757564869976), (443, 1450, 0.0026412703383102455), (390, 543, 0.002642181452600312), (788, 875, 0.00264222888190808), (236, 486, 0.002643275619372169), (96, 894, 0.0026451544869851083), (119, 612, 0.0026454747633716047), (181, 817, 0.0026476404589793365), (180, 1009, 0.002652277849689696), (396, 1422, 0.0026535805998687896), (101, 1124, 0.0026541304091872602), (568, 621, 0.0026546474342160446), (517, 818, 0.002655597861131995), (70, 554, 0.002655670511136296), (935, 1113, 0.002655956104463109), (267, 387, 0.002656056663547673), (251, 1216, 0.0026566602777570616), (16, 839, 0.002659223142161327), (668, 1337, 0.0026595972408785277), (531, 913, 0.002660326348949268), (295, 1080, 0.002661192401911022), (445, 1155, 0.0026622117214813532), (165, 1447, 0.0026651795453696316), (911, 1184, 0.0026658740630483052), (561, 961, 0.0026659679292832285), (1002, 1185, 0.0026676442833469542), (296, 390, 0.0026686860196007715), (252, 597, 0.0026693304703640894), (1460, 1467, 0.0026700187265209447), (545, 1434, 0.002672620436951569), (53, 726, 0.002674767260050333), (236, 761, 0.0026762589560742093), (45, 157, 0.002678419211700032), (1073, 1226, 0.002680783467566413), (358, 1346, 0.0026815273568356656), (412, 593, 0.0026842180849760513), (137, 679, 0.002685110399707769), (551, 955, 0.0026872458019307336), (46, 1194, 0.002689074933872888), (532, 1396, 0.00269016054685208), (885, 1214, 0.002691432826576604), (886, 1217, 0.002692636493941076), (831, 1107, 0.002695305734042636), (248, 463, 0.0026967539729464357), (517, 1300, 0.0027002592468171683), (689, 842, 0.002701727040255453), (1401, 1475, 0.0027028690238225664), (76, 685, 0.0027059301583799), (265, 441, 0.002707142589528784), (747, 1377, 0.002708772665724467), (120, 578, 0.002708937799223589), (302, 1440, 0.002710282134773987), (209, 691, 0.002711100514554571), (148, 514, 0.0027117769158982626), (595, 1095, 0.0027125257868795783), (280, 1471, 0.002714129694759748), (130, 536, 0.002714649516973832), (1135, 1390, 0.002714719138337201), (590, 658, 0.0027164425265446086), (171, 326, 0.002717616298950233), (345, 383, 0.002718691045342722), (479, 750, 0.0027198869507219364), (540, 1235, 0.002720328105209179), (214, 786, 0.002721268270494187), (773, 792, 0.002721706784831365), (159, 383, 0.0027244914946020363), (328, 462, 0.0027246077087296166), (1442, 1476, 0.002725253510339031), (1069, 1191, 0.002725320789279303), (1085, 1285, 0.002727186009427529), (1113, 1308, 0.002728541861213074), (149, 1204, 0.002731520417802755), (1109, 1181, 0.0027374230582763452), (320, 1233, 0.002737434200119389), (959, 1143, 0.0027374697782634747), (708, 1294, 0.002738773403297334), (307, 914, 0.0027390509305209865), (846, 987, 0.0027409050720758506), (356, 1177, 0.002740968808641645), (201, 485, 0.002741751675488287), (74, 1356, 0.0027435830587090124), (213, 561, 0.0027459428253415194), (86, 387, 0.002747653544403786), (1097, 1363, 0.0027523136308502355), (966, 1237, 0.0027524552675819995), (71, 257, 0.0027532871039878384), (465, 1338, 0.002753506114238855), (35, 731, 0.0027535887553840257), (427, 657, 0.002753779221356742), (1053, 1294, 0.0027556213455442904), (19, 1215, 0.002756561080091899), (70, 886, 0.0027591867259222106), (490, 596, 0.0027601774580683068), (5, 744, 0.0027613677274564196), (616, 827, 0.0027615394257528014), (355, 796, 0.002761928882861297), (158, 1359, 0.0027623008525432457), (42, 459, 0.002762985562353478), (409, 410, 0.0027647548270100953), (417, 679, 0.0027663488830183495), (629, 1195, 0.0027668368220736227), (1100, 1270, 0.002768699514212925), (370, 542, 0.00276898489707761), (284, 382, 0.0027691865231494572), (329, 812, 0.002770769735000972), (368, 1025, 0.002771303983692724), (458, 710, 0.0027749598931996956), (768, 1111, 0.0027751606240611327), (794, 955, 0.0027753120545297607), (1309, 1413, 0.002775360877425813), (17, 680, 0.0027780154787190223), (757, 945, 0.0027785870510142257), (201, 339, 0.0027786266222828413), (1367, 1408, 0.0027787976468352277), (36, 1192, 0.0027818878482134555), (522, 1090, 0.0027827732495890613), (557, 1089, 0.0027833458089439427), (570, 1015, 0.002783487919858384), (378, 806, 0.002786582670678939), (973, 1303, 0.002786793139075472), (582, 877, 0.002787326657914756), (193, 1354, 0.002790645086718437), (933, 971, 0.002791628320342451), (810, 1118, 0.002791788862006586), (264, 511, 0.0027920145057002345), (97, 341, 0.0027921219529248634), (784, 816, 0.0027935939339096528), (225, 1149, 0.00279419433825895), (392, 877, 0.002794883880483786), (713, 766, 0.002795125086644207), (485, 1033, 0.002796863523667041), (120, 590, 0.002797457774470863), (1070, 1238, 0.0027981969194422734), (920, 1259, 0.0027991214693249104), (1309, 1365, 0.002800641355133309), (1228, 1334, 0.002800710202795941), (292, 511, 0.002802259980802508), (132, 1125, 0.002803034070436071), (929, 958, 0.0028043369982974626), (641, 1038, 0.00280720616032058), (564, 1390, 0.0028081724366008504), (562, 835, 0.0028084814402092972), (695, 993, 0.0028089189834175775), (177, 714, 0.0028094305472901805), (606, 869, 0.0028127647314561298), (84, 882, 0.002813767275759593), (416, 641, 0.00281664230964898), (682, 982, 0.002817268180369458), (433, 1335, 0.002819239613800383), (692, 1378, 0.0028203781661353725), (216, 889, 0.00282102100753475), (814, 1388, 0.0028223571708709976), (848, 1473, 0.0028225832140067342), (283, 855, 0.0028255885443060963), (38, 997, 0.002827563283241623), (97, 1373, 0.002832929402579438), (470, 897, 0.002833569582701589), (352, 1406, 0.002833609888463361), (1237, 1262, 0.0028336548837134524), (314, 1068, 0.002834895244640899), (264, 266, 0.0028351229250255378), (9, 501, 0.0028371112702901195), (178, 428, 0.002841966569593803), (421, 984, 0.0028424118280094704), (63, 1235, 0.0028442123690021713), (580, 964, 0.002844591007507109), (785, 870, 0.0028459650775622806), (344, 1222, 0.0028460165143681113), (12, 63, 0.0028484502804161753), (685, 956, 0.00284974091313), (438, 639, 0.0028503729580505554), (168, 712, 0.0028513266552238027), (1018, 1332, 0.002852691536077378), (243, 1015, 0.0028536380289032686), (494, 928, 0.002855384653139257), (126, 876, 0.002859562204254646), (308, 959, 0.002862761252724469), (332, 1349, 0.002864155947212764), (236, 602, 0.0028658168120172167), (1331, 1459, 0.0028659629603068493), (532, 907, 0.002871586494979366), (214, 441, 0.0028735987889637804), (8, 1443, 0.002874248597465919), (579, 1402, 0.002875087031737616), (324, 372, 0.0028755720196081617), (586, 1339, 0.0028758555248862357), (703, 1008, 0.002875880050241252), (583, 1031, 0.0028770297182981576), (22, 506, 0.002879883678214216), (1341, 1458, 0.002884084950205877), (932, 1009, 0.002884255518939265), (0, 759, 0.0028847773699746154), (228, 275, 0.0028867426704427914), (125, 1070, 0.002888127594130336), (590, 1230, 0.0028883743593906756), (700, 1241, 0.0028898970569883925), (1065, 1477, 0.002890973019584076), (940, 1349, 0.0028918378395108445), (71, 1042, 0.0028938113185818445), (270, 1198, 0.002894140046249064), (481, 959, 0.002898037552023428), (456, 615, 0.00289835967647732), (463, 496, 0.0028986269959796478), (816, 1342, 0.002898645732062051), (358, 359, 0.0029003169726209083), (312, 958, 0.002901504781993653), (276, 977, 0.0029035457526953388), (1397, 1420, 0.00290388240119444), (553, 1083, 0.0029048165036726207), (520, 931, 0.0029059112168202867), (78, 632, 0.002907455932590802), (1271, 1487, 0.002909038672828989), (223, 1478, 0.002909078247578225), (174, 1376, 0.00291999045221638), (153, 428, 0.00292215468098528), (335, 618, 0.002926086294007369), (462, 488, 0.0029261589854353343), (108, 1002, 0.0029267209522781204), (1360, 1411, 0.002927461869941815), (206, 976, 0.002930218421896929), (720, 781, 0.002930812298055954), (353, 684, 0.0029320374929002807), (44, 472, 0.0029334122923336866), (564, 996, 0.0029336420230943222), (155, 946, 0.0029342249313382618), (1031, 1446, 0.002934655005287873), (527, 530, 0.0029361194371190524), (1279, 1369, 0.00293753042536622), (1155, 1256, 0.002937702588762697), (380, 494, 0.0029389761839428586), (799, 918, 0.002939364905726214), (258, 895, 0.0029394144991985757), (507, 548, 0.0029407456537472176), (483, 1234, 0.002941020911170683), (306, 1063, 0.0029429381576949174), (346, 1062, 0.002943048929264853), (334, 1147, 0.002944985656272185), (156, 710, 0.002945639914796402), (346, 1072, 0.002949336535560247), (1014, 1150, 0.0029498101633818052), (453, 1219, 0.002952931594200172), (217, 798, 0.002953715562380754), (1389, 1396, 0.0029575522649599316), (591, 1169, 0.0029638029108208478), (125, 1063, 0.0029641607581317995), (676, 796, 0.0029645574697949595), (747, 838, 0.0029648803187477765), (626, 1433, 0.0029660033799704735), (609, 713, 0.0029664901808151784), (139, 381, 0.002972225597091957), (205, 215, 0.002973010931705), (732, 937, 0.002973727058459877), (373, 408, 0.0029752830776280086), (333, 919, 0.0029766133810106747), (947, 1239, 0.0029769951293191817), (413, 715, 0.002980070244354031), (348, 1311, 0.002980147647345414), (170, 1230, 0.0029802380173392057), (393, 1355, 0.002981447754960948), (465, 1106, 0.002982026923997985), (949, 1196, 0.0029830107521754776), (870, 949, 0.002983496041657487), (450, 1012, 0.002984167569688449), (234, 718, 0.002989643972066046), (819, 828, 0.0029897991338890145), (799, 861, 0.002990747333621119), (30, 483, 0.0029912224925544868), (85, 395, 0.0029938603841877104), (537, 895, 0.0029949962291891835), (85, 1392, 0.0029955958272829056), (224, 1151, 0.002995646381063523), (447, 612, 0.0029968183160970006), (508, 1103, 0.0029978335661022754), (212, 1287, 0.002999766657597655), (305, 872, 0.0030006520958030017), (644, 1396, 0.0030006699068832626), (587, 1412, 0.003001333203753194), (446, 1435, 0.0030013905110770787), (310, 1145, 0.0030039011718084618), (778, 1199, 0.0030049840265801717), (1085, 1282, 0.0030063501194222074), (681, 1070, 0.003006621525903853), (637, 1017, 0.0030067137209903306), (67, 487, 0.0030067257939570733), (194, 1050, 0.0030070404347530685), (156, 1167, 0.0030090177286951846), (440, 965, 0.003012593898953052), (65, 1221, 0.0030126428188775836), (334, 990, 0.0030187769354492154), (1088, 1162, 0.003021752140731707), (888, 1407, 0.003022733200263325), (396, 896, 0.00302356081466902), (934, 1236, 0.003025404310564112), (254, 987, 0.0030256115084334534), (168, 1133, 0.003031059842225965), (1086, 1189, 0.0030330307647549776), (713, 1185, 0.003033796280716935), (815, 1298, 0.0030343368303500547), (274, 384, 0.0030344192195686528), (397, 1014, 0.003034728323918072), (127, 151, 0.0030363185277277344), (1144, 1187, 0.003037976300105292), (325, 608, 0.0030396599718573686), (99, 736, 0.0030423807339106297), (183, 398, 0.0030426728381532757), (948, 1248, 0.0030440105124808995), (690, 909, 0.00304591004592577), (1264, 1395, 0.0030464958657407818), (1025, 1178, 0.003048737996287554), (397, 1452, 0.00304928860555788), (693, 967, 0.003049311205822506), (1084, 1421, 0.0030496073517680363), (120, 1256, 0.0030508021895962927), (1257, 1352, 0.0030517081200513957), (448, 541, 0.0030522433872746182), (0, 196, 0.0030528573671644225), (197, 687, 0.0030534006157487414), (990, 1157, 0.0030545795600710516), (495, 563, 0.003054597360973339), (1301, 1361, 0.0030548718876510323), (643, 702, 0.00305769481964373), (10, 114, 0.0030578617443143886), (801, 1260, 0.0030585537662870454), (151, 1039, 0.003059913457373712), (1276, 1317, 0.0030602826666902114), (211, 510, 0.003064566283759862), (324, 653, 0.0030674644855294155), (755, 908, 0.003067741351552615), (623, 1226, 0.0030677648214908347), (109, 755, 0.003069118766026804), (853, 953, 0.00307003015100553), (78, 185, 0.0030705048444901735), (162, 1281, 0.0030716290583890854), (349, 576, 0.0030733034022848117), (122, 1236, 0.0030740616149479883), (515, 867, 0.003074512806935435), (175, 608, 0.0030753385440530625), (137, 1040, 0.003078687555278386), (23, 345, 0.0030790935354414644), (188, 1408, 0.0030795056799024496), (1438, 1457, 0.0030800384737857925), (69, 163, 0.0030820041778742255), (35, 84, 0.003084207366344978), (708, 1011, 0.0030855778769297757), (219, 318, 0.0030887983035467084), (906, 1351, 0.0030913226942478247), (108, 304, 0.0030946653827019642), (477, 1015, 0.0030955778135952207), (341, 1326, 0.00309582703005146), (235, 491, 0.0030964683108338133), (1283, 1435, 0.0031029050903977223), (73, 1280, 0.0031059344577014205), (1083, 1180, 0.003106307495539453), (1263, 1451, 0.00311011543194925), (654, 1159, 0.00311030818409059), (86, 480, 0.0031150648468352767), (662, 738, 0.0031150664006555856), (208, 563, 0.003117608670007653), (470, 1130, 0.0031182175734347783), (850, 1296, 0.003118742214415949), (432, 487, 0.003119378669933503), (110, 706, 0.0031198786361268348), (311, 995, 0.0031207241397068052), (990, 1372, 0.0031222313111011384), (398, 688, 0.0031239990396923576), (1094, 1253, 0.0031259238634284833), (13, 1462, 0.0031289859379655814), (265, 540, 0.003131479043519973), (421, 1343, 0.0031317948058070307), (282, 473, 0.003134752940819278), (742, 1314, 0.0031391222101152466), (238, 469, 0.0031396305773963165), (781, 1046, 0.003144101478169991), (678, 1101, 0.003144510694175207), (183, 240, 0.0031492578490743997), (1246, 1301, 0.003150941365683791), (608, 1483, 0.003151235583062377), (411, 1210, 0.003151826540616362), (49, 1190, 0.003152248738316758), (165, 885, 0.003153183772534497), (33, 820, 0.0031548447946299343), (1001, 1152, 0.003155152257823162), (1211, 1287, 0.003156001425858887), (1420, 1458, 0.003156076678405244), (928, 972, 0.00315628115789561), (624, 1297, 0.0031573895863510034), (406, 836, 0.0031578671599697167), (147, 278, 0.00315868643583831), (882, 922, 0.0031665213118635483), (904, 1104, 0.003169781175944264), (408, 1051, 0.0031698288898437607), (188, 233, 0.003170108019656397), (74, 203, 0.0031761187005543237), (85, 162, 0.003176181702046742), (1063, 1240, 0.0031777891685886004), (351, 409, 0.0031789319590120333), (766, 1013, 0.0031797425263879278), (243, 883, 0.0031810100597084714), (807, 1177, 0.003181117570916052), (217, 1134, 0.0031851834027221177), (348, 1176, 0.003186691858353788), (11, 1033, 0.0031882777607952985), (317, 770, 0.003188487358873099), (887, 932, 0.003188961117667273), (87, 177, 0.003190071002350975), (945, 1208, 0.0031915955257541075), (487, 789, 0.0031921513440830484), (253, 891, 0.0031936187937786635), (1358, 1392, 0.00319364391208792), (356, 370, 0.0032030236679081838), (364, 1140, 0.0032051590303717216), (985, 1403, 0.003211125798523858), (697, 770, 0.003211935311893087), (258, 1136, 0.0032131199934858023), (1258, 1291, 0.0032154153212345577), (1076, 1107, 0.0032202131917018198), (198, 747, 0.003221345890846983), (434, 435, 0.0032220141620366836), (751, 752, 0.003226747573295676), (227, 1356, 0.00323019271869858), (133, 1046, 0.0032320901162708835), (485, 1338, 0.0032321166272685914), (960, 1109, 0.0032357108956166548), (166, 884, 0.0032362967912387334), (158, 1263, 0.0032363745147804975), (884, 1124, 0.003238959086876669), (230, 729, 0.0032392963742182874), (567, 1174, 0.0032411086662941257), (907, 1170, 0.0032430301352027856), (193, 714, 0.0032439019713800302), (333, 596, 0.0032462024859788003), (439, 849, 0.00324642112178927), (333, 521, 0.0032529818966521608), (330, 851, 0.0032530543954924036), (196, 946, 0.0032559053420724514), (659, 823, 0.0032562044926734168), (48, 1167, 0.0032583045270245625), (372, 650, 0.003263514413299668), (987, 1375, 0.003265199858637852), (410, 653, 0.0032674781465131084), (19, 1011, 0.0032686977701237062), (244, 806, 0.0032687941917772423), (596, 1214, 0.0032699900244499767), (389, 716, 0.003272262214430709), (1083, 1331, 0.003274395516739609), (19, 303, 0.0032780085787716545), (628, 1348, 0.003279326944657373), (317, 430, 0.00328032542080148), (681, 1165, 0.0032808110277815733), (1044, 1399, 0.003281813819058668), (10, 687, 0.0032821129207481815), (604, 805, 0.0032870215893389923), (1096, 1156, 0.00329166295358059), (396, 556, 0.0032920530068559464), (121, 865, 0.0032933597347515908), (1043, 1321, 0.0032943982394670443), (1424, 1428, 0.0032946619265065524), (1388, 1390, 0.0032969228077079625), (1014, 1360, 0.0033040183110835957), (77, 851, 0.0033076512306246374), (375, 879, 0.0033105800096058647), (1175, 1283, 0.0033165531806344187), (93, 1243, 0.003317517556328952), (714, 950, 0.003322037025679253), (122, 1189, 0.003323386602086081), (112, 548, 0.0033306527888752606), (157, 316, 0.0033325932071118273), (11, 197, 0.0033326389258390514), (173, 1225, 0.003332747365165623), (126, 989, 0.00333316336233808), (58, 462, 0.0033332648181747214), (620, 813, 0.003335310096516845), (88, 336, 0.0033397168892208276), (333, 1179, 0.003342804035543032), (442, 706, 0.003342856822444413), (1225, 1436, 0.003352969579343241), (6, 687, 0.00335508892969658), (803, 904, 0.0033552415129229273), (920, 1208, 0.003361733630142749), (266, 401, 0.003362151579095797), (87, 133, 0.0033634288665720076), (1138, 1160, 0.0033660956611462553), (587, 829, 0.0033694386772893255), (184, 1042, 0.003373088237739337), (135, 1009, 0.003375913025911757), (203, 978, 0.0033802828283970637), (180, 328, 0.0033850566999210165), (544, 1402, 0.003386603733831718), (321, 1125, 0.0033906341589758316), (68, 251, 0.0033948551875064756), (280, 1364, 0.0033970687541798514), (1156, 1161, 0.003399930881649227), (1110, 1201, 0.003400064006747048), (736, 885, 0.0034068672559996464), (434, 1058, 0.003407946064207209), (775, 831, 0.0034100586505229663), (532, 1273, 0.0034136217291274597), (584, 1366, 0.0034136843794427365), (581, 1407, 0.0034193394098866368), (1261, 1405, 0.003421432594680709), (1295, 1486, 0.0034228642976299435), (530, 630, 0.0034250654008341807), (670, 723, 0.003426186739943354), (846, 1020, 0.0034266087752354026), (363, 918, 0.0034301744537239584), (153, 547, 0.0034322377032157338), (585, 1446, 0.003435461928551197), (221, 530, 0.0034356207590429495), (896, 1278, 0.003436897438103715), (1240, 1320, 0.003437105322799438), (491, 1000, 0.0034411916540625464), (47, 252, 0.0034416329525394423), (222, 1483, 0.003446653981617916), (349, 953, 0.003458006137937335), (1001, 1266, 0.003464224978666018), (1157, 1160, 0.0034704751569818617), (424, 720, 0.0034728670921804227), (1046, 1068, 0.003473758360108798), (331, 1198, 0.0034767674871809865), (1347, 1416, 0.0034802265730930104), (202, 912, 0.0034823387177793682), (1017, 1352, 0.0034838507717735016), (443, 528, 0.0034840711818120607), (489, 1250, 0.0034902292188317575), (925, 1004, 0.0034978534137672344), (263, 1159, 0.003499520252837827), (655, 1090, 0.0035004713968199972), (820, 1108, 0.003505293386020963), (427, 988, 0.0035111821371133283), (6, 838, 0.003518395391888723), (181, 474, 0.003518820825216598), (272, 1245, 0.00353322300129484), (610, 925, 0.0035507123546310534), (498, 947, 0.0035553340208853354), (770, 854, 0.003570633174548367), (453, 898, 0.0035824935449962746), (966, 1327, 0.003583915875122757), (269, 755, 0.0035840034877179985), (51, 832, 0.003589557439513101), (535, 1252, 0.00359901389271708), (810, 1025, 0.003604401249862122), (446, 558, 0.0036098876713905733), (534, 1233, 0.0036194249543281517), (374, 1055, 0.0036336408738267775), (719, 799, 0.003641707326195262), (272, 820, 0.00364216592487774), (784, 865, 0.0036475113515802614), (781, 1120, 0.003649396819262143), (292, 901, 0.0036519589263834264), (192, 546, 0.003651959747880878), (250, 1283, 0.00365890502745932), (522, 1117, 0.0036613952317913205), (889, 1044, 0.0036832266170330036), (402, 1318, 0.0037036059455674503), (716, 830, 0.003706426850755102), (1254, 1284, 0.0037101036373607837), (1150, 1262, 0.0037144070859349916), (449, 915, 0.0037345864617162492), (175, 415, 0.0037411371780320907), (1147, 1362, 0.003743050506899183), (369, 1322, 0.0037475872237986226), (302, 1291, 0.0037524511748118585), (603, 711, 0.0037633937455544613), (130, 369, 0.0037660430162083157), (45, 842, 0.0038501896554426467), (364, 482, 0.0038553067232042332), (915, 1102, 0.0038773228508861063), (857, 1188, 0.003892435620076624), (165, 566, 0.003936523116691367), (752, 1148, 0.0039368879099734135), (47, 93, 0.003951576359035046), (14, 1245, 0.003953319810877369), (633, 1419, 0.00395585439570976), (221, 872, 0.003957489229297301), (113, 844, 0.003959503048444302), (140, 141, 0.003976118757679368), (449, 813, 0.003994628122869845), (871, 1321, 0.004020784434517241), (121, 500, 0.004050504203439314), (862, 1201, 0.0040664325802829485), (214, 493, 0.004081672696334029), (429, 797, 0.004088904002496444), (104, 1102, 0.00409048572178784), (967, 1012, 0.0041157417149619195), (310, 1168, 0.004126965853073588), (1072, 1344, 0.004137231562292065), (106, 1305, 0.0041851289108009665), (915, 1120, 0.004214036668087147), (912, 1137, 0.004225898957778957), (1419, 1457, 0.004240671644908971), (813, 858, 0.0043460516563846325), (75, 439, 0.00440579749193619), (342, 592, 0.0047402473564132136), (651, 1362, 0.005138342264380736), (461, 1249, 0.005189455655461662), (103, 699, 0.005274779616249873), (342, 395, 0.005291927815081388), (371, 1123, 0.005307391072840154), (294, 620, 0.0054085331292436905), (1201, 1277, 0.005430238791255865), (1308, 1466, 0.00543482253518437), (256, 1481, 0.005580631594574471), (1277, 1308, 0.0059111300104108255), (455, 1217, 0.006375380532427577), (57, 1003, 0.00689678719793434), (461, 699, 0.006972431426699941), (164, 566, 0.006985049820867814), (256, 893, 0.008813273309556138), (787, 1481, 0.009255357033767987)]\n",
      "Odd vertexes in MSTree:  [730, 1482, 727, 91, 825, 1410, 875, 1183, 537, 1126, 479, 275, 845, 123, 189, 876, 701, 856, 26, 42, 447, 1272, 1439, 822, 1019, 1066, 1229, 952, 1156, 1232, 694, 1222, 417, 664, 32, 937, 318, 1252, 559, 421, 1061, 715, 748, 974, 1400, 672, 847, 226, 1255, 307, 154, 999, 549, 360, 151, 924, 991, 984, 89, 136, 652, 812, 344, 1030, 127, 614, 502, 132, 420, 571, 760, 970, 1271, 27, 245, 390, 1069, 609, 696, 505, 515, 771, 1037, 295, 1020, 575, 653, 1427, 892, 320, 683, 102, 843, 634, 666, 1146, 167, 328, 954, 251, 298, 741, 922, 124, 373, 315, 943, 240, 1213, 348, 1426, 1284, 795, 1349, 1205, 1144, 1387, 1022, 323, 1289, 695, 582, 175, 1253, 1270, 1418, 905, 169, 281, 1119, 1279, 217, 810, 677, 1017, 1128, 880, 288, 274, 406, 504, 1278, 453, 816, 1105, 403, 785, 1055, 860, 1244, 341, 1431, 1091, 939, 185, 131, 309, 787, 418, 612, 327, 854, 1332, 193, 207, 1478, 464, 361, 51, 407, 454, 749, 1380, 625, 1226, 179, 483, 218, 722, 253, 551, 775, 465, 247, 440, 993, 873, 1309, 158, 630, 1423, 1170, 186, 1052, 469, 782, 1001, 302, 1242, 724, 349, 1378, 319, 492, 601, 1350, 1324, 1249, 1029, 397, 1048, 271, 129, 54, 456, 656, 668, 1354, 394, 31, 1346, 1006, 1209, 717, 838, 337, 146, 569, 1483, 499, 890, 446, 491, 780, 737, 1207, 1386, 1465, 200, 1172, 763, 1460, 128, 667, 798, 624, 1302, 1339, 635, 794, 1206, 818, 1200, 142, 1199, 525, 1290, 1336, 1093, 661, 301, 805, 874, 1125, 852, 1267, 660, 639, 809, 1347, 721, 1223, 801, 347, 1319, 196, 953, 681, 266, 540, 622, 289, 1343, 1409, 1479, 372, 902, 62, 1305, 725, 1075, 510, 195, 926, 1077, 867, 790, 1036, 437, 774, 239, 33, 982, 648, 1057, 777, 883, 745, 779, 426, 1321, 1468, 708, 10, 112, 98, 1392, 591, 162, 589, 1010, 1294, 1193, 561, 338, 1442, 370, 503, 1286, 1034, 436, 1137, 1182, 1419, 74, 1292, 1361, 1088, 176, 376, 1394, 1374, 1389, 248, 1117, 784, 513, 964, 640, 1304, 523, 475, 1367, 355, 1455, 364, 1228, 433, 868, 134, 685, 853, 1434, 96, 944, 704, 969, 764, 739, 1472, 410, 1275, 1115, 1111, 909, 983, 1136, 992, 740, 498, 1408, 232, 1122, 1169, 20, 78, 463, 1404, 676, 387, 343, 400, 529, 357, 966, 1247, 945, 143, 938, 1398, 1337, 1171, 895, 877, 1173, 1147, 273, 1370, 933, 1044, 187, 452, 1438, 941, 901, 955, 889, 888, 303, 804, 1112, 729, 458, 669, 967, 367, 621, 1485, 94, 603, 831, 881, 1159, 930, 481, 710, 231, 1050, 627, 63, 277, 554, 1124, 1383, 299, 546, 1164, 15, 1042, 1258, 607, 1316, 753, 427, 1072, 334, 259, 43, 1268, 241, 71, 746, 783, 1417, 1012, 1338, 1381, 1456, 261, 105, 802, 212, 896, 1056, 83, 399, 1098, 1388, 1310, 728, 160, 342, 698, 1345, 369, 1092, 904, 962, 177, 252, 1099, 866, 1306, 743, 494, 1331, 641, 25, 1395, 1414, 486, 119, 1009, 396, 839, 913, 1080, 165, 1447, 1184, 296, 726, 412, 46, 532, 1396, 885, 689, 747, 120, 578, 1440, 209, 1095, 1471, 590, 658, 750, 214, 786, 773, 462, 1476, 1285, 1308, 959, 485, 257, 1053, 19, 1215, 490, 596, 5, 629, 1100, 329, 368, 1025, 1413, 1192, 1089, 1303, 1118, 392, 713, 1070, 1038, 714, 692, 1473, 997, 178, 332, 602, 1459, 8, 1341, 759, 1065, 496, 553, 1083, 223, 976, 781, 353, 1369, 380, 799, 1063, 1014, 139, 205, 732, 413, 170, 1106, 450, 718, 819, 861, 85, 1151, 644, 1145, 67, 487, 990, 934, 815, 608, 693, 541, 687, 643, 114, 1260, 211, 755, 908, 576, 304, 1283, 654, 480, 662, 432, 110, 311, 1372, 282, 1314, 1046, 1246, 49, 820, 1211, 1104, 233, 1013, 770, 891, 697, 1076, 435, 659, 628, 430, 604, 1428, 1243, 58, 336, 829, 184, 321, 68, 1201, 1366, 1261, 723, 1320, 1000, 222, 1266, 1416, 202, 528, 1250, 988, 610, 832, 558, 374, 192, 402, 915, 415, 711, 482, 1188, 1148, 113, 140, 871, 500, 862, 429, 1344, 106, 858, 75, 103, 371, 294, 1466, 455, 164, 893]\n",
      "Minimum weight matching:  [(730, 1482, 0.0), (1082, 1139, 0.0003530682337615679), (682, 727, 0.0003562021897597687), (91, 220, 0.0003594154549637354), (230, 935, 0.0004439096411535705), (425, 825, 0.0006421013431371006), (246, 555, 0.0006804770976245766), (115, 1410, 0.0007276764390931203), (875, 957, 0.0007371458154869868), (793, 824, 0.0007434076223509423), (362, 642, 0.000743786955878044), (1183, 1212, 0.0007586096009160818), (37, 606, 0.0007627616577919861), (300, 998, 0.0007676731075111235), (537, 1126, 0.0007861894889016774), (479, 942, 0.0008159241659863194), (275, 845, 0.0008189830233285897), (123, 987, 0.0008615708227429481), (189, 466, 0.0008664108704667751), (1008, 1379, 0.0008860348489524659), (876, 981, 0.0008956232466785522), (701, 856, 0.0008997913330458619), (26, 234, 0.0009071829005016591), (793, 878, 0.0009498823749160963), (42, 447, 0.0009532177086059948), (1272, 1439, 0.0009574016920869951), (733, 1376, 0.0009648887382172823), (1179, 1445, 0.000982173609905206), (1241, 1415, 0.0010040926252116312), (438, 581, 0.0010374222862524836), (457, 879, 0.0010375221172788762), (767, 822, 0.0010462205232625462), (161, 1019, 0.0010603442837159322), (1066, 1229, 0.0010640924094530758), (44, 422, 0.001064585876331061), (709, 952, 0.0010973416739025335), (1156, 1232, 0.0011032696859704933), (270, 694, 0.001111509163331549), (968, 1222, 0.0011164264418145496), (911, 1379, 0.001142655238382979), (417, 863, 0.0011482241042692677), (206, 560, 0.0011581990329710013), (664, 898, 0.0011633640874678655), (32, 617, 0.0011804924548928762), (467, 1114, 0.0011870566161693056), (260, 1437, 0.0011908964451440858), (191, 937, 0.0011988377681370066), (318, 1384, 0.0012037369978595367), (769, 1227, 0.001204327091783969), (509, 1252, 0.0012225829215249885), (375, 1375, 0.0012231964069519972), (559, 788, 0.0012262805120230743), (363, 378, 0.0012273394498829688), (411, 421, 0.0012294295425136455), (1061, 1071, 0.0012399973084715027), (715, 859, 0.0012449942326325156), (748, 974, 0.0012472337523085518), (1400, 1458, 0.0012550219121616833), (451, 1183, 0.0012603402897680108), (672, 859, 0.0012643861498754095), (847, 1021, 0.001274907216785876), (208, 1448, 0.0012762954203520286), (226, 767, 0.0012793626160326668), (1296, 1317, 0.0012807611018520572), (22, 1405, 0.0012830541687739458), (734, 979, 0.0012836455897187403), (237, 1130, 0.0012971871666988442), (284, 1255, 0.001297210854098488), (7, 977, 0.0013075488941489458), (307, 817, 0.0013152946437970366), (1141, 1393, 0.0013186739551565739), (154, 647, 0.0013245833630596993), (419, 968, 0.0013366323353858614), (921, 1087, 0.0013382735422972363), (559, 617, 0.001340169619871872), (999, 1127, 0.001343053982530533), (199, 476, 0.0013433687735662676), (549, 1486, 0.0013509256086155022), (191, 401, 0.0013636810657981773), (360, 707, 0.001370112479065098), (151, 416, 0.001378932759638757), (841, 1023, 0.0013802940848332119), (924, 991, 0.0013857290499995891), (984, 1066, 0.0013879889859228934), (37, 1212, 0.0013944380482847228), (89, 826, 0.0013950669641266758), (136, 586, 0.0013982206549639853), (652, 1449, 0.0014012497992824079), (812, 1028, 0.0014048237455968197), (344, 1176, 0.0014064867578375993), (293, 972, 0.001409848483801551), (878, 1030, 0.001420067948207879), (457, 758, 0.0014221603604945834), (127, 614, 0.0014365831885783827), (502, 638, 0.0014373879086755947), (132, 420, 0.0014375614332882774), (571, 760, 0.0014419267623623543), (95, 405, 0.0014439506387121427), (970, 1271, 0.001445448373347154), (27, 516, 0.0014468493356167703), (1149, 1196, 0.0014482668952872171), (245, 1210, 0.0014533762011569352), (229, 379, 0.0014636090905724665), (390, 1315, 0.0014689595514334349), (552, 1069, 0.0014698838452108628), (92, 1454, 0.0014725206280426584), (1084, 1224, 0.0014774305398312113), (609, 903, 0.0014828642762876741), (4, 821, 0.0014896302421595466), (765, 974, 0.001490523751095134), (381, 1470, 0.001490605246200154), (696, 1191, 0.0014945820695089784), (293, 675, 0.0014947090588385706), (505, 574, 0.0014968045964698063), (489, 515, 0.0014996666296250324), (771, 1037, 0.0015025004561539815), (28, 1437, 0.0015043892295099838), (295, 1453, 0.0015055802868066933), (800, 986, 0.001508411619310486), (599, 1030, 0.001510150045328056), (38, 1020, 0.0015142698655611422), (575, 1174, 0.0015184991852519078), (389, 1251, 0.0015185519418162623), (653, 1427, 0.0015300369276521177), (300, 765, 0.001534174208831067), (892, 1028, 0.001534679771151694), (320, 1397, 0.0015381173557370527), (1, 824, 0.0015433672065295512), (76, 683, 0.001546868396991983), (350, 772, 0.0015470404364783426), (255, 694, 0.001547534879513826), (102, 843, 0.001549998471862597), (634, 666, 0.0015513492792160468), (1023, 1059, 0.0015527526883751322), (24, 1146, 0.0015539552760600289), (167, 518, 0.0015546996510802991), (328, 1058, 0.001557889718081489), (4, 954, 0.0015587830966759177), (954, 1114, 0.001559896956631479), (251, 298, 0.001562086486527081), (741, 960, 0.001564235915702938), (922, 975, 0.0015656454711365398), (18, 171, 0.0015718277026314648), (124, 373, 0.0015720561863336025), (315, 772, 0.0015750050793619363), (680, 690, 0.0015770811646953996), (59, 827, 0.0015791770008447175), (190, 943, 0.0015862187743122184), (240, 931, 0.0015931468858756562), (41, 1213, 0.0015987904893757408), (348, 1426, 0.001599190107529218), (531, 598, 0.0016005641559279492), (1284, 1432, 0.0016034004490476103), (795, 1016, 0.0016064891480589538), (325, 1349, 0.001608968223582229), (92, 1205, 0.0016116007570094238), (1144, 1387, 0.00161296157926353), (102, 1022, 0.001616781768736689), (118, 323, 0.0016208762087233412), (1289, 1411, 0.0016221857127422443), (53, 705, 0.0016233613929801918), (611, 695, 0.0016252665446625614), (582, 702, 0.0016326862833979283), (573, 756, 0.001633110529022328), (1018, 1127, 0.0016346929375310475), (533, 1313, 0.0016350016935193664), (175, 1484, 0.001638526626788853), (1144, 1253, 0.0016405486887046416), (173, 543, 0.0016481580628127516), (472, 910, 0.0016505343819842794), (833, 1239, 0.0016507574019245486), (1270, 1418, 0.001655643983472362), (864, 975, 0.0016566114971478837), (582, 905, 0.001663635272531151), (228, 539, 0.0016637249764649784), (41, 169, 0.0016662713320804434), (281, 1418, 0.0016694555998905604), (1119, 1279, 0.0016743755659090107), (344, 991, 0.001678573799393324), (79, 980, 0.0016817794729396644), (217, 1132, 0.0016833418649252736), (810, 1121, 0.001683856359660131), (677, 705, 0.0016876522343784032), (1017, 1348, 0.001687711403058075), (182, 1037, 0.0016879944873154442), (354, 1128, 0.0016881230502323265), (880, 949, 0.0016911290320780373), (21, 288, 0.001697354533528939), (274, 1129, 0.0016995587662664415), (100, 406, 0.0017003602559493816), (504, 1278, 0.0017016333330008193), (144, 423, 0.0017033762283806234), (365, 453, 0.00170366692754208), (159, 204, 0.001704417088953991), (816, 1307, 0.0017050354834975824), (663, 672, 0.0017067013154385133), (59, 1105, 0.0017092533621184355), (64, 403, 0.001709864885563348), (460, 785, 0.0017135641188623615), (979, 1055, 0.0017136860856035133), (860, 1244, 0.0017146599023103116), (1045, 1158, 0.0017150104955919495), (2, 48, 0.0017161651044531607), (341, 1431, 0.001716662544758133), (1091, 1429, 0.0017189252456120945), (382, 444, 0.001720528116600206), (249, 939, 0.0017215667515426193), (262, 1074, 0.0017240939649469304), (545, 1364, 0.001725537830529863), (840, 1181, 0.001727346230495465), (185, 675, 0.0017343963849351764), (131, 386, 0.001738605619371429), (309, 787, 0.0017405849450072047), (418, 899, 0.0017419879448516214), (612, 951, 0.0017420390799774135), (36, 833, 0.001744161689749102), (588, 1078, 0.001749002287013966), (1073, 1129, 0.001750942603278281), (327, 854, 0.0017551191624866891), (323, 686, 0.0017624319613631014), (419, 577, 0.0017661418402829347), (117, 677, 0.001769887423192866), (1154, 1332, 0.00177455149264047), (672, 1021, 0.0017746903326833242), (39, 193, 0.0017750608440323622), (207, 287, 0.001776600405271076), (24, 761, 0.0017792709181079509), (657, 1003, 0.0017799157283542929), (28, 646, 0.0017805349560874302), (152, 242, 0.0017815997181029719), (147, 1478, 0.0017845261187691892), (286, 570, 0.001788179241578086), (313, 464, 0.0017886984171178518), (29, 386, 0.0017891782836269704), (318, 361, 0.001789601452831526), (508, 1142, 0.0017915236532067764), (56, 850, 0.0017929266577281144), (51, 762, 0.0017932005643578283), (1205, 1255, 0.0017940596422654383), (1041, 1221, 0.0017954850303607455), (16, 407, 0.0017972082244617272), (454, 749, 0.001801329573203367), (466, 1380, 0.001804608559568705), (167, 860, 0.0018115569847285912), (625, 1226, 0.0018161773041162795), (950, 1168, 0.001816907863511576), (89, 179, 0.001818063766757364), (483, 1222, 0.0018186242052744142), (30, 218, 0.0018222497084632776), (552, 722, 0.0018231050580790609), (385, 1474, 0.0018241724150986865), (331, 854, 0.0018247790274342464), (253, 551, 0.0018295586899601333), (59, 775, 0.0018298907071185762), (150, 599, 0.0018309582200590935), (677, 695, 0.0018314386347224364), (465, 1121, 0.0018378925367340108), (247, 440, 0.0018400133151634218), (642, 993, 0.0018407152816848583), (477, 757, 0.0018419134072939422), (873, 948, 0.00184361058794615), (1269, 1309, 0.001843632284376466), (158, 1351, 0.0018444123725568527), (630, 1423, 0.001846386672224545), (535, 1463, 0.0018468529990214313), (385, 592, 0.001854060408941966), (1170, 1371, 0.0018572258727983465), (288, 572, 0.0018578779368460755), (186, 1027, 0.0018591594992921642), (634, 993, 0.001859166748335829), (95, 1052, 0.001859969091090022), (469, 782, 0.0018626814310876607), (1001, 1385, 0.0018657336171030553), (118, 951, 0.00186593353046319), (493, 1274, 0.0018664774308848376), (488, 719, 0.0018668707640649917), (302, 1242, 0.0018686256580669387), (215, 286, 0.0018706089917404113), (724, 1047, 0.001871534761204549), (910, 1082, 0.0018722374467705827), (1060, 1248, 0.001878563280797142), (349, 1363, 0.001879761060374932), (72, 1355, 0.0018854201441286169), (1289, 1449, 0.001885806324941953), (1378, 1480, 0.001888988353586523), (319, 526, 0.0018913238749648416), (50, 492, 0.0018958645949792826), (536, 1358, 0.001898619761829088), (150, 601, 0.0018999236228018767), (1412, 1448, 0.0019003631231940875), (59, 1350, 0.0019006577808743637), (647, 1324, 0.001902115426427827), (1249, 1353, 0.0019026234519749277), (1029, 1340, 0.0019034255702309083), (397, 1265, 0.0019047711148712928), (297, 1048, 0.001906461156828729), (271, 615, 0.0019097620091757432), (129, 1276, 0.0019101248650266074), (54, 456, 0.001912054829580866), (182, 670, 0.0019128374833765436), (656, 808, 0.0019132407062444157), (787, 957, 0.0019148203233789384), (668, 1007, 0.0019167031319053355), (1439, 1478, 0.0019188216888494994), (199, 1081, 0.0019190641759587292), (524, 1403, 0.0019204442194475518), (533, 984, 0.0019210567968727002), (154, 769, 0.0019215005268197198), (760, 1116, 0.0019223529540477401), (1197, 1354, 0.0019234159716450291), (100, 394, 0.0019296113598313571), (31, 111, 0.0019340325395649336), (65, 1346, 0.001941203824611301), (149, 1006, 0.001942905213246706), (655, 1295, 0.0019455847450002024), (1279, 1385, 0.0019497756281186705), (1209, 1300, 0.0019498717906595053), (717, 838, 0.0019501678467545986), (722, 942, 0.0019530896971042607), (337, 1257, 0.0019552417881146034), (227, 1443, 0.0019573617447968886), (146, 778, 0.0019577295523061536), (734, 991, 0.0019615700344356546), (569, 1463, 0.001965020610584504), (377, 887, 0.0019673489725233083), (797, 1483, 0.0019708409283382294), (601, 863, 0.0019737178974584724), (499, 775, 0.0019743606560058942), (758, 890, 0.001975889462699835), (144, 1087, 0.0019759543518239066), (1382, 1406, 0.0019780647107809344), (446, 562, 0.0019786068331020348), (1152, 1166, 0.0019787023391821404), (491, 1123, 0.0019788484024665944), (538, 1326, 0.00198080614901886), (547, 780, 0.001980814293520633), (730, 737, 0.0019872569454219293), (649, 1207, 0.0019881432791924135), (1386, 1465, 0.0019921947695824105), (200, 1116, 0.0019987005266678994), (226, 707, 0.0020009095395136173), (550, 1172, 0.0020012655995543544), (26, 763, 0.0020028126290500257), (1460, 1475, 0.0020051336514208475), (128, 978, 0.0020095265611557826), (760, 1213, 0.0020106096375325953), (869, 994, 0.002012005559532786), (667, 798, 0.0020131343125517546), (189, 467, 0.0020133275881786664), (77, 88, 0.002016323578833617), (624, 1302, 0.0020183032922800946), (565, 1079, 0.002020600960113048), (588, 1339, 0.002021410646061254), (635, 794, 0.002021787575391584), (3, 1206, 0.0020220816890488456), (116, 818, 0.0020229928324120732), (34, 80, 0.00202392810702941), (216, 1200, 0.002026720466660539), (131, 142, 0.0020276760034421697), (556, 1199, 0.002032411867706765), (525, 1265, 0.0020332596981223433), (404, 574, 0.002034246051974185), (1290, 1336, 0.002035541335859683), (478, 1093, 0.002036413513999544), (557, 1154, 0.0020377968495552327), (897, 1186, 0.002038287726414267), (145, 225, 0.0020417320410162994), (189, 864, 0.0020418171930946536), (661, 922, 0.0020447631575764586), (1323, 1330, 0.0020466730589051418), (301, 1340, 0.002047057812356232), (213, 1311, 0.002047521672658885), (172, 1183, 0.0020478653752873436), (663, 841, 0.00205155939228626), (860, 1218, 0.0020556052483017397), (805, 874, 0.002056263670107989), (135, 1125, 0.0020602672156749004), (479, 1218, 0.0020624656036148034), (852, 914, 0.0020640009689966926), (204, 1267, 0.002064021559964863), (152, 803, 0.0020661948485334227), (660, 665, 0.002067437037130546), (495, 1465, 0.0020682601383907226), (639, 1368, 0.0020694293899565356), (131, 974, 0.002069474891489194), (639, 1444, 0.0020695864321177834), (809, 927, 0.002071514667646034), (1312, 1433, 0.002071626426273198), (154, 1066, 0.0020727338095059057), (534, 1347, 0.002074148017851669), (439, 721, 0.002074823378028865), (1200, 1223, 0.002075729635665108), (512, 801, 0.002077511289981001), (347, 1319, 0.002080865204660934), (906, 1464, 0.0020815191567743383), (196, 1484, 0.0020827662325869946), (953, 1200, 0.002083771324422511), (538, 577, 0.00208744820295564), (681, 1163, 0.0020879839558686428), (266, 1153, 0.002088446312458041), (388, 540, 0.002089142994150103), (524, 999, 0.0020919909177666163), (431, 622, 0.0020922848146830396), (727, 785, 0.002095059496098828), (301, 980, 0.0020976359349482105), (268, 1163, 0.002099414442173703), (289, 1054, 0.002099711968472771), (90, 1384, 0.0021006601343366107), (79, 1343, 0.002102185516481048), (456, 735, 0.002103439941554239), (215, 1096, 0.002104642487457503), (823, 1020, 0.0021127399319318487), (996, 1333, 0.002113030998346639), (407, 917, 0.0021181645030442587), (762, 1030, 0.002119984344495821), (519, 671, 0.002121292530513847), (694, 1133, 0.0021219153857038467), (66, 709, 0.002122772884885863), (1325, 1409, 0.002127103789194213), (1290, 1479, 0.002127848002662371), (636, 1093, 0.002128015037532745), (372, 1079, 0.0021286923803164864), (431, 834, 0.002134842748781602), (902, 1469, 0.00213665688725069), (445, 1119, 0.0021393770395126722), (1391, 1458, 0.002139609543822629), (42, 539, 0.0021409783698614626), (674, 715, 0.0021442391059419605), (442, 1006, 0.002145408078555673), (62, 1305, 0.0021466357399490977), (263, 1359, 0.00214697741022676), (242, 330, 0.0021480658695698174), (919, 1328, 0.002148706124619968), (274, 965, 0.002150968386555952), (406, 1197, 0.0021520418211573443), (219, 725, 0.0021530146307026997), (519, 1075, 0.002153529660819383), (510, 1041, 0.002153731430538315), (195, 926, 0.0021550669626674793), (115, 1462, 0.0021552617010390865), (943, 1335, 0.0021552995151525624), (1077, 1288, 0.002156153983366266), (347, 1358, 0.0021567375825463646), (867, 1064, 0.0021567403645373112), (237, 518, 0.0021608685674662995), (790, 1036, 0.0021612908153365714), (437, 774, 0.0021616644037560136), (313, 315, 0.0021646820796551213), (379, 619, 0.0021683913784187403), (686, 1027, 0.0021692969212253185), (239, 749, 0.002169902087983453), (347, 1290, 0.0021699991082936706), (33, 512, 0.0021702858060611884), (737, 982, 0.0021715606503317528), (600, 727, 0.0021722108736167106), (316, 875, 0.0021733503027666933), (1315, 1454, 0.0021745125890657584), (648, 722, 0.0021764339499609235), (275, 1024, 0.0021773535000040234), (207, 1057, 0.0021777322538051665), (320, 624, 0.0021784297096801067), (777, 883, 0.0021789892152098036), (7, 1227, 0.0021798279748652897), (745, 779, 0.002180779236918239), (426, 542, 0.0021843233015511098), (742, 1321, 0.0021843509853937113), (260, 1468, 0.002185067187771021), (359, 448, 0.0021874763973658024), (515, 768, 0.0021912890682785962), (185, 774, 0.0021925448582926226), (708, 1064, 0.002193490937883618), (899, 1078, 0.0021944675891849143), (10, 1004, 0.0021946174311253687), (112, 1161, 0.002194735747202134), (98, 1094, 0.0021949487465617134), (73, 1469, 0.0021989994771797012), (340, 754, 0.0022031976585205303), (484, 1392, 0.0022065569651457625), (1289, 1318, 0.00220798427101679), (591, 645, 0.002211163105134162), (560, 985, 0.0022124627695839292), (162, 589, 0.0022132012575405693), (667, 1010, 0.0022196228133553597), (128, 883, 0.0022202207097529337), (811, 1294, 0.002220623808414172), (373, 845, 0.002221865996161795), (90, 650, 0.00222291155694567), (943, 1193, 0.002224377665776086), (102, 322, 0.0022277438246387114), (561, 638, 0.002228444524778703), (338, 1442, 0.0022298881712627086), (370, 565, 0.0022320373264717087), (195, 503, 0.0022329588054601493), (1286, 1313, 0.002235241602681129), (278, 618, 0.0022367326617166367), (1034, 1282, 0.0022372126272632337), (691, 741, 0.0022392768922149917), (436, 1137, 0.0022392811435809237), (1182, 1419, 0.002239416218567552), (471, 774, 0.0022396552633290093), (674, 749, 0.0022432248372594677), (74, 995, 0.002243825750808383), (301, 1045, 0.0022439915329689262), (18, 780, 0.0022440696468878575), (167, 1292, 0.0022443431020304884), (1430, 1474, 0.0022448284086675017), (2, 250, 0.0022466874310959656), (254, 1051, 0.002247282282688046), (138, 339, 0.002249464534912957), (283, 1361, 0.0022495675162096784), (579, 1445, 0.00224999734222008), (631, 1464, 0.0022514764044980645), (285, 1135, 0.0022522877258425145), (473, 1088, 0.0022526360114408276), (176, 322, 0.002252916849810068), (376, 1371, 0.002253199028051566), (264, 1394, 0.002253739337182747), (40, 971, 0.0022538105837797404), (1036, 1043, 0.002254645355818057), (737, 927, 0.002255392299969203), (1374, 1389, 0.002255896495847773), (605, 1278, 0.002257327845038912), (619, 1035, 0.0022582685845590864), (248, 649, 0.0022601914531768523), (818, 1117, 0.0022643321311151773), (447, 1101, 0.002268451032968448), (801, 857, 0.0022706212806149987), (308, 784, 0.002272406189070378), (1162, 1234, 0.0022736897325693864), (513, 964, 0.0022743130831076506), (439, 640, 0.002274504616401641), (1088, 1357, 0.0022759387074354942), (26, 248, 0.002276766095613299), (623, 830, 0.002277432984752525), (365, 1304, 0.002281622229905393), (527, 1430, 0.0022823504508291217), (828, 1158, 0.002284271792057949), (503, 523, 0.0022866264212523225), (279, 1270, 0.002287630433438548), (530, 844, 0.002288530317465849), (81, 475, 0.0022887034903252947), (484, 1480, 0.0022889316285159425), (163, 1367, 0.0022890579055314633), (56, 497, 0.0022910735474863586), (355, 921, 0.0022918861371793845), (1254, 1455, 0.002293949650715674), (145, 451, 0.0022952797653688368), (335, 567, 0.002295374479249932), (240, 526, 0.0022963666954587333), (364, 1228, 0.0022982867532079314), (1026, 1039, 0.002298853068345499), (433, 999, 0.0022989475853110635), (433, 868, 0.0022999452167399943), (414, 572, 0.002303017658304821), (134, 1097, 0.002304242816384938), (69, 900, 0.0023047871455870897), (597, 811, 0.002304808299728935), (685, 923, 0.002306475515690825), (1432, 1465, 0.0023077237702981775), (792, 853, 0.002307771556077581), (1434, 1461, 0.002307834482795059), (198, 837, 0.002309054464181255), (96, 944, 0.0023096607651218594), (704, 731, 0.002309829316215998), (969, 1178, 0.002310904814718404), (111, 1409, 0.002311622590762545), (360, 764, 0.002312744257365906), (739, 903, 0.002312791106631186), (1281, 1472, 0.0023133423871080526), (229, 568, 0.002313780024132438), (1323, 1442, 0.0023138165172594235), (410, 1275, 0.002313857341909122), (112, 1288, 0.0023142489062258033), (1115, 1365, 0.0023143381343203296), (1047, 1111, 0.0023164282635592605), (306, 909, 0.002317319322465701), (983, 1136, 0.0023182974916054113), (132, 992, 0.0023186418438323883), (740, 856, 0.0023189524816911783), (498, 1074, 0.002319698256236956), (29, 459, 0.0023200504912768627), (791, 1143, 0.002320208601067263), (352, 1429, 0.0023203200210270922), (12, 973, 0.0023206182365928894), (190, 1093, 0.002320631379609257), (684, 998, 0.002320831101130233), (107, 1325, 0.002321997425411876), (366, 754, 0.002322511538522644), (916, 1231, 0.002322939378796111), (812, 1408, 0.0023235660003823717), (17, 1055, 0.002324601686319962), (298, 1180, 0.0023252782550182032), (232, 1374, 0.0023261773363241643), (255, 350, 0.0023268263261641605), (521, 855, 0.0023269147156990654), (1122, 1169, 0.0023270483450120107), (20, 700, 0.0023285654382022365), (1259, 1415, 0.002328759326341955), (1141, 1332, 0.0023302780949928394), (66, 594, 0.002330493482632493), (673, 856, 0.0023317254747888144), (78, 1111, 0.0023320486324628366), (440, 1354, 0.0023345639849850467), (673, 949, 0.0023357544846315716), (463, 837, 0.002336084387564242), (1373, 1404, 0.0023364000085594086), (676, 936, 0.002337580372952748), (268, 387, 0.0023376297824946935), (13, 1140, 0.0023401770467205533), (343, 400, 0.0023448634372222536), (529, 1299, 0.0023448848585791663), (357, 1358, 0.0023450213218704154), (391, 1353, 0.002345412970032404), (1434, 1441, 0.0023456336187946954), (1269, 1274, 0.0023465772947013942), (843, 1059, 0.0023468863312199684), (161, 1049, 0.0023470801008937657), (944, 1334, 0.0023475928117947407), (1203, 1273, 0.0023482789655244586), (23, 1238, 0.0023499278712390604), (290, 315, 0.002354628932657301), (966, 1247, 0.0023549575367773894), (789, 992, 0.002358909536973725), (506, 1255, 0.0023593891158446983), (945, 1327, 0.0023630651704827596), (143, 174, 0.0023667218445806272), (696, 853, 0.00236825908118903), (938, 1026, 0.002368662942208245), (297, 601, 0.0023692745148332552), (1035, 1398, 0.0023697909190427526), (744, 916, 0.002371174144558977), (551, 1487, 0.0023727614713633547), (843, 1337, 0.0023729428856228696), (1165, 1171, 0.0023732342910021886), (9, 514, 0.002375944654234927), (21, 54, 0.00237697231574702), (668, 1204, 0.0023775766668135273), (246, 895, 0.0023782279454200345), (61, 238, 0.002378972388762322), (877, 969, 0.002379114512826192), (64, 651, 0.00238034591489181), (584, 1173, 0.00238089155172463), (1147, 1216, 0.0023854475734290683), (555, 1342, 0.002389040912162596), (81, 454, 0.0023893532854714888), (756, 1436, 0.0023918789685092004), (273, 1467, 0.002393749415289957), (172, 1071, 0.002395003616896364), (99, 1370, 0.0023968333129325337), (1110, 1329, 0.002400915783634144), (55, 1322, 0.0024018347153828305), (1203, 1361, 0.0024052882072619743), (696, 933, 0.002407088356101499), (417, 834, 0.002407362691448644), (148, 510, 0.0024096528815583675), (1081, 1202, 0.002410018760269055), (24, 312, 0.0024113268131893757), (501, 807, 0.0024139839125363266), (224, 1044, 0.0024156829403056013), (1264, 1425, 0.00241752887262484), (605, 848, 0.0024209966955812197), (236, 836, 0.002423333654289035), (187, 314, 0.0024257459478079298), (656, 794, 0.002426412372203816), (452, 1438, 0.0024264873789070166), (195, 739, 0.00242671680663942), (424, 941, 0.0024281530484203434), (964, 1220, 0.0024303261097994486), (355, 405, 0.002431300839555241), (1460, 1461, 0.002431666095503065), (138, 751, 0.0024325939467125207), (460, 738, 0.002432812132322645), (901, 1299, 0.0024336000082112825), (1032, 1378, 0.0024339500816612106), (550, 955, 0.002436770403628207), (388, 1450, 0.0024369045631754366), (50, 889, 0.0024370167927370524), (404, 808, 0.002437395331084779), (72, 636, 0.0024375735886377013), (287, 909, 0.0024379452250931828), (888, 961, 0.0024383108907612178), (544, 1424, 0.002441438962988123), (3, 303, 0.002443575916412869), (1153, 1219, 0.0024446302378929334), (633, 804, 0.0024449511242586), (600, 1112, 0.0024454732240894025), (469, 729, 0.002445683077110235), (458, 669, 0.0024466734760576286), (285, 585, 0.002446798981084822), (96, 1257, 0.0024469424288294695), (414, 613, 0.002448720613708438), (104, 967, 0.0024505241383249885), (367, 1307, 0.002455540834135129), (520, 937, 0.0024571975342659804), (621, 1485, 0.002457877132806221), (290, 982, 0.0024596866122540218), (39, 671, 0.002460148166272352), (94, 288, 0.0024639079858129547), (603, 779, 0.0024643478458623975), (478, 516, 0.002466091644687121), (295, 468, 0.002466330269860233), (621, 1271, 0.0024663677746776364), (780, 826, 0.0024665819486265105), (360, 923, 0.0024667473296789573), (831, 963, 0.0024681673363050856), (384, 881, 0.0024696963376033645), (340, 1037, 0.0024699400442328837), (393, 1159, 0.0024699838056101804), (471, 930, 0.002470391396965029), (425, 1024, 0.002470653608217781), (1297, 1477, 0.0024715244283644313), (34, 1136, 0.0024717344595197757), (481, 710, 0.0024723109824751227), (630, 1439, 0.0024725452473016957), (60, 351, 0.002472993095417885), (1067, 1187, 0.0024734793308252775), (559, 954, 0.002473661418087828), (231, 298, 0.002474018997512545), (407, 1293, 0.0024763110998526038), (1, 821, 0.0024787720836279693), (200, 1050, 0.0024798352388696737), (303, 627, 0.0024810404398541122), (57, 917, 0.002482940975469552), (444, 1169, 0.0024837717286412446), (262, 616, 0.0024839484696817845), (791, 1231, 0.0024855588662512375), (200, 994, 0.00248574280820011), (107, 354, 0.0024866526719802134), (1142, 1194, 0.0024873755245226606), (101, 1036, 0.0024879789855275945), (63, 1034, 0.0024880245276099697), (277, 1249, 0.002488093647755893), (554, 1124, 0.0024883263616758263), (1034, 1119, 0.0024883621192155164), (1220, 1383, 0.0024951673290640936), (476, 603, 0.0024960261439558673), (645, 1393, 0.00249643766195627), (267, 575, 0.00249823137439546), (299, 667, 0.002498641947141161), (422, 1202, 0.002499112873593057), (244, 1137, 0.0024999340041267776), (546, 626, 0.0025005479399387745), (291, 894, 0.0025012087078049123), (82, 1069, 0.0025014294998096953), (665, 678, 0.002501738527097903), (1164, 1421, 0.0025027538832348237), (15, 986, 0.0025029156738380527), (981, 1042, 0.0025033012482747405), (598, 735, 0.0025059447411728514), (468, 1199, 0.002506575751899386), (646, 1441, 0.0025070058316000858), (1258, 1328, 0.0025080496027837422), (607, 1050, 0.002509285616506485), (944, 1425, 0.0025094156650570477), (593, 1108, 0.0025128000318279816), (454, 1054, 0.0025150124664698884), (24, 963, 0.0025167552522983518), (676, 938, 0.002517686220016016), (291, 900, 0.0025190261312652415), (1390, 1401, 0.002520039682219588), (1005, 1040, 0.002520293273476268), (729, 1139, 0.002521037130784834), (634, 1059, 0.0025217426550893087), (1316, 1409, 0.0025219117768013346), (1086, 1228, 0.0025223855573656426), (289, 753, 0.002522529165415559), (52, 54, 0.0025225918094683385), (186, 1005, 0.00252386680613785), (1312, 1453, 0.002525132075746698), (14, 1346, 0.002526363021902127), (253, 1205, 0.002527515974231264), (427, 992, 0.002527706470303402), (55, 1195, 0.002528220322668176), (580, 1072, 0.00252899426651149), (80, 82, 0.0025291326680302074), (334, 1329, 0.0025294564985571047), (127, 141, 0.0025305950229081073), (109, 688, 0.0025320197471605946), (498, 1067, 0.0025323901753085023), (259, 575, 0.0025326130774402846), (840, 901, 0.0025326809905562237), (989, 1224, 0.0025328485939641707), (43, 186, 0.0025332360783571605), (1268, 1316, 0.0025334893288123475), (89, 241, 0.00253563178314693), (210, 1368, 0.002536391334182451), (584, 1399, 0.0025372982728805475), (1330, 1402, 0.0025383430126690912), (71, 343, 0.0025398385485197184), (289, 746, 0.0025435560984654773), (776, 1032, 0.00254367961819711), (783, 929, 0.0025441132050287125), (1347, 1417, 0.002544247236421712), (33, 940, 0.002545838410458556), (611, 1016, 0.002546579082782038), (546, 1305, 0.0025469308981544096), (1012, 1338, 0.0025471199276068477), (573, 1381, 0.002548364966007892), (235, 867, 0.002548826396596739), (637, 1103, 0.00254910146718359), (798, 1377, 0.0025492379306205925), (1333, 1456, 0.0025493920844007647), (261, 583, 0.002549392084404583), (835, 1284, 0.002549640170689253), (249, 938, 0.0025499579766132545), (741, 1062, 0.0025502401847723624), (40, 105, 0.002551938931011084), (264, 1438, 0.0025548708382136525), (595, 1006, 0.0025555316546274436), (739, 802, 0.002556290877409109), (212, 1253, 0.002558202493938313), (896, 1452, 0.0025583901188031234), (594, 1059, 0.0025594520374697094), (554, 779, 0.0025618077075573132), (591, 1056, 0.0025631008894667134), (83, 276, 0.0025632350569167865), (399, 933, 0.0025643423760856746), (1098, 1388, 0.002564422742062378), (155, 805, 0.002564806949324387), (849, 969, 0.002565003373547591), (1252, 1310, 0.0025655223812802073), (613, 1337, 0.0025699330862308392), (215, 509, 0.0025729673530785822), (117, 323, 0.0025750758238234552), (537, 1134, 0.002577276010297757), (51, 728, 0.002578100317226494), (160, 342, 0.0025784842446681436), (52, 698, 0.0025790210068856257), (220, 845, 0.0025790403937379983), (1345, 1422, 0.002579853678024018), (474, 1298, 0.002580484450646583), (1117, 1251, 0.0025810462994718675), (343, 458, 0.0025834289505169326), (507, 1418, 0.0025871567405211893), (1374, 1391, 0.002587512512047657), (584, 1316, 0.0025884941182135464), (166, 609, 0.002589928088478157), (369, 814, 0.002594329585841502), (888, 1092, 0.0025959926645769496), (269, 876, 0.0025975113089225154), (279, 497, 0.0025981274025682595), (503, 1367, 0.00259821558721517), (128, 391, 0.002598412207483477), (904, 1132, 0.0025993310216199357), (91, 962, 0.0025999732918276864), (91, 703, 0.002603787867861895), (226, 362, 0.0026067411775100254), (1280, 1402, 0.002606781864660291), (177, 252, 0.0026069801993811054), (61, 730, 0.002608281008162767), (1099, 1257, 0.002610872363796032), (1389, 1470, 0.0026126953515571896), (733, 936, 0.0026144596270372368), (1382, 1451, 0.002615363263477415), (481, 866, 0.002615915259046451), (1186, 1343, 0.002617435191940246), (1131, 1306, 0.0026176516192854354), (1339, 1357, 0.002619336748105705), (366, 1007, 0.0026200334458141403), (207, 743, 0.002620246744101372), (1166, 1170, 0.002621557218054119), (194, 956, 0.002621988796622409), (1049, 1175, 0.0026223518070610367), (116, 1060, 0.002622517874110585), (631, 1015, 0.0026229986656477943), (1138, 1293, 0.002623743161971631), (60, 1444, 0.00262603217802737), (326, 1213, 0.0026266279938915), (813, 1190, 0.0026272674492682914), (377, 494, 0.002629811610669168), (423, 712, 0.002632933746338264), (212, 307, 0.002633040068054183), (1258, 1331, 0.002633692654805643), (641, 800, 0.002636484755375214), (25, 305, 0.0026375082938321437), (210, 1395, 0.002637556444907201), (656, 776, 0.0026397100219488407), (1395, 1414, 0.0026399856060329635), (632, 1131, 0.0026400757564869976), (443, 1450, 0.0026412703383102455), (390, 543, 0.002642181452600312), (788, 875, 0.00264222888190808), (236, 486, 0.002643275619372169), (96, 894, 0.0026451544869851083), (119, 612, 0.0026454747633716047), (181, 817, 0.0026476404589793365), (180, 1009, 0.002652277849689696), (396, 1422, 0.0026535805998687896), (101, 1124, 0.0026541304091872602), (568, 621, 0.0026546474342160446), (517, 818, 0.002655597861131995), (70, 554, 0.002655670511136296), (935, 1113, 0.002655956104463109), (267, 387, 0.002656056663547673), (251, 1216, 0.0026566602777570616), (16, 839, 0.002659223142161327), (668, 1337, 0.0026595972408785277), (531, 913, 0.002660326348949268), (295, 1080, 0.002661192401911022), (445, 1155, 0.0026622117214813532), (165, 1447, 0.0026651795453696316), (911, 1184, 0.0026658740630483052), (561, 961, 0.0026659679292832285), (1002, 1185, 0.0026676442833469542), (296, 390, 0.0026686860196007715), (252, 597, 0.0026693304703640894), (1460, 1467, 0.0026700187265209447), (545, 1434, 0.002672620436951569), (53, 726, 0.002674767260050333), (236, 761, 0.0026762589560742093), (45, 157, 0.002678419211700032), (1073, 1226, 0.002680783467566413), (358, 1346, 0.0026815273568356656), (412, 593, 0.0026842180849760513), (137, 679, 0.002685110399707769), (551, 955, 0.0026872458019307336), (46, 1194, 0.002689074933872888), (532, 1396, 0.00269016054685208), (885, 1214, 0.002691432826576604), (886, 1217, 0.002692636493941076), (831, 1107, 0.002695305734042636), (248, 463, 0.0026967539729464357), (517, 1300, 0.0027002592468171683), (689, 842, 0.002701727040255453), (1401, 1475, 0.0027028690238225664), (76, 685, 0.0027059301583799), (265, 441, 0.002707142589528784), (747, 1377, 0.002708772665724467), (120, 578, 0.002708937799223589), (302, 1440, 0.002710282134773987), (209, 691, 0.002711100514554571), (148, 514, 0.0027117769158982626), (595, 1095, 0.0027125257868795783), (280, 1471, 0.002714129694759748), (130, 536, 0.002714649516973832), (1135, 1390, 0.002714719138337201), (590, 658, 0.0027164425265446086), (171, 326, 0.002717616298950233), (345, 383, 0.002718691045342722), (479, 750, 0.0027198869507219364), (540, 1235, 0.002720328105209179), (214, 786, 0.002721268270494187), (773, 792, 0.002721706784831365), (159, 383, 0.0027244914946020363), (328, 462, 0.0027246077087296166), (1442, 1476, 0.002725253510339031), (1069, 1191, 0.002725320789279303), (1085, 1285, 0.002727186009427529), (1113, 1308, 0.002728541861213074), (149, 1204, 0.002731520417802755), (1109, 1181, 0.0027374230582763452), (320, 1233, 0.002737434200119389), (959, 1143, 0.0027374697782634747), (708, 1294, 0.002738773403297334), (307, 914, 0.0027390509305209865), (846, 987, 0.0027409050720758506), (356, 1177, 0.002740968808641645), (201, 485, 0.002741751675488287), (74, 1356, 0.0027435830587090124), (213, 561, 0.0027459428253415194), (86, 387, 0.002747653544403786), (1097, 1363, 0.0027523136308502355), (966, 1237, 0.0027524552675819995), (71, 257, 0.0027532871039878384), (465, 1338, 0.002753506114238855), (35, 731, 0.0027535887553840257), (427, 657, 0.002753779221356742), (1053, 1294, 0.0027556213455442904), (19, 1215, 0.002756561080091899), (70, 886, 0.0027591867259222106), (490, 596, 0.0027601774580683068), (5, 744, 0.0027613677274564196), (616, 827, 0.0027615394257528014), (355, 796, 0.002761928882861297), (158, 1359, 0.0027623008525432457), (42, 459, 0.002762985562353478), (409, 410, 0.0027647548270100953), (417, 679, 0.0027663488830183495), (629, 1195, 0.0027668368220736227), (1100, 1270, 0.002768699514212925), (370, 542, 0.00276898489707761), (284, 382, 0.0027691865231494572), (329, 812, 0.002770769735000972), (368, 1025, 0.002771303983692724), (458, 710, 0.0027749598931996956), (768, 1111, 0.0027751606240611327), (794, 955, 0.0027753120545297607), (1309, 1413, 0.002775360877425813), (17, 680, 0.0027780154787190223), (757, 945, 0.0027785870510142257), (201, 339, 0.0027786266222828413), (1367, 1408, 0.0027787976468352277), (36, 1192, 0.0027818878482134555), (522, 1090, 0.0027827732495890613), (557, 1089, 0.0027833458089439427), (570, 1015, 0.002783487919858384), (378, 806, 0.002786582670678939), (973, 1303, 0.002786793139075472), (582, 877, 0.002787326657914756), (193, 1354, 0.002790645086718437), (933, 971, 0.002791628320342451), (810, 1118, 0.002791788862006586), (264, 511, 0.0027920145057002345), (97, 341, 0.0027921219529248634), (784, 816, 0.0027935939339096528), (225, 1149, 0.00279419433825895), (392, 877, 0.002794883880483786), (713, 766, 0.002795125086644207), (485, 1033, 0.002796863523667041), (120, 590, 0.002797457774470863), (1070, 1238, 0.0027981969194422734), (920, 1259, 0.0027991214693249104), (1309, 1365, 0.002800641355133309), (1228, 1334, 0.002800710202795941), (292, 511, 0.002802259980802508), (132, 1125, 0.002803034070436071), (929, 958, 0.0028043369982974626), (641, 1038, 0.00280720616032058), (564, 1390, 0.0028081724366008504), (562, 835, 0.0028084814402092972), (695, 993, 0.0028089189834175775), (177, 714, 0.0028094305472901805), (606, 869, 0.0028127647314561298), (84, 882, 0.002813767275759593), (416, 641, 0.00281664230964898), (682, 982, 0.002817268180369458), (433, 1335, 0.002819239613800383), (692, 1378, 0.0028203781661353725), (216, 889, 0.00282102100753475), (814, 1388, 0.0028223571708709976), (848, 1473, 0.0028225832140067342), (283, 855, 0.0028255885443060963), (38, 997, 0.002827563283241623), (97, 1373, 0.002832929402579438), (470, 897, 0.002833569582701589), (352, 1406, 0.002833609888463361), (1237, 1262, 0.0028336548837134524), (314, 1068, 0.002834895244640899), (264, 266, 0.0028351229250255378), (9, 501, 0.0028371112702901195), (178, 428, 0.002841966569593803), (421, 984, 0.0028424118280094704), (63, 1235, 0.0028442123690021713), (580, 964, 0.002844591007507109), (785, 870, 0.0028459650775622806), (344, 1222, 0.0028460165143681113), (12, 63, 0.0028484502804161753), (685, 956, 0.00284974091313), (438, 639, 0.0028503729580505554), (168, 712, 0.0028513266552238027), (1018, 1332, 0.002852691536077378), (243, 1015, 0.0028536380289032686), (494, 928, 0.002855384653139257), (126, 876, 0.002859562204254646), (308, 959, 0.002862761252724469), (332, 1349, 0.002864155947212764), (236, 602, 0.0028658168120172167), (1331, 1459, 0.0028659629603068493), (532, 907, 0.002871586494979366), (214, 441, 0.0028735987889637804), (8, 1443, 0.002874248597465919), (579, 1402, 0.002875087031737616), (324, 372, 0.0028755720196081617), (586, 1339, 0.0028758555248862357), (703, 1008, 0.002875880050241252), (583, 1031, 0.0028770297182981576), (22, 506, 0.002879883678214216), (1341, 1458, 0.002884084950205877), (932, 1009, 0.002884255518939265), (0, 759, 0.0028847773699746154), (228, 275, 0.0028867426704427914), (125, 1070, 0.002888127594130336), (590, 1230, 0.0028883743593906756), (700, 1241, 0.0028898970569883925), (1065, 1477, 0.002890973019584076), (940, 1349, 0.0028918378395108445), (71, 1042, 0.0028938113185818445), (270, 1198, 0.002894140046249064), (481, 959, 0.002898037552023428), (456, 615, 0.00289835967647732), (463, 496, 0.0028986269959796478), (816, 1342, 0.002898645732062051), (358, 359, 0.0029003169726209083), (312, 958, 0.002901504781993653), (276, 977, 0.0029035457526953388), (1397, 1420, 0.00290388240119444), (553, 1083, 0.0029048165036726207), (520, 931, 0.0029059112168202867), (78, 632, 0.002907455932590802), (1271, 1487, 0.002909038672828989), (223, 1478, 0.002909078247578225), (174, 1376, 0.00291999045221638), (153, 428, 0.00292215468098528), (335, 618, 0.002926086294007369), (462, 488, 0.0029261589854353343), (108, 1002, 0.0029267209522781204), (1360, 1411, 0.002927461869941815), (206, 976, 0.002930218421896929), (720, 781, 0.002930812298055954), (353, 684, 0.0029320374929002807), (44, 472, 0.0029334122923336866), (564, 996, 0.0029336420230943222), (155, 946, 0.0029342249313382618), (1031, 1446, 0.002934655005287873), (527, 530, 0.0029361194371190524), (1279, 1369, 0.00293753042536622), (1155, 1256, 0.002937702588762697), (380, 494, 0.0029389761839428586), (799, 918, 0.002939364905726214), (258, 895, 0.0029394144991985757), (507, 548, 0.0029407456537472176), (483, 1234, 0.002941020911170683), (306, 1063, 0.0029429381576949174), (346, 1062, 0.002943048929264853), (334, 1147, 0.002944985656272185), (156, 710, 0.002945639914796402), (346, 1072, 0.002949336535560247), (1014, 1150, 0.0029498101633818052), (453, 1219, 0.002952931594200172), (217, 798, 0.002953715562380754), (1389, 1396, 0.0029575522649599316), (591, 1169, 0.0029638029108208478), (125, 1063, 0.0029641607581317995), (676, 796, 0.0029645574697949595), (747, 838, 0.0029648803187477765), (626, 1433, 0.0029660033799704735), (609, 713, 0.0029664901808151784), (139, 381, 0.002972225597091957), (205, 215, 0.002973010931705), (732, 937, 0.002973727058459877), (373, 408, 0.0029752830776280086), (333, 919, 0.0029766133810106747), (947, 1239, 0.0029769951293191817), (413, 715, 0.002980070244354031), (348, 1311, 0.002980147647345414), (170, 1230, 0.0029802380173392057), (393, 1355, 0.002981447754960948), (465, 1106, 0.002982026923997985), (949, 1196, 0.0029830107521754776), (870, 949, 0.002983496041657487), (450, 1012, 0.002984167569688449), (234, 718, 0.002989643972066046), (819, 828, 0.0029897991338890145), (799, 861, 0.002990747333621119), (30, 483, 0.0029912224925544868), (85, 395, 0.0029938603841877104), (537, 895, 0.0029949962291891835), (85, 1392, 0.0029955958272829056), (224, 1151, 0.002995646381063523), (447, 612, 0.0029968183160970006), (508, 1103, 0.0029978335661022754), (212, 1287, 0.002999766657597655), (305, 872, 0.0030006520958030017), (644, 1396, 0.0030006699068832626), (587, 1412, 0.003001333203753194), (446, 1435, 0.0030013905110770787), (310, 1145, 0.0030039011718084618), (778, 1199, 0.0030049840265801717), (1085, 1282, 0.0030063501194222074), (681, 1070, 0.003006621525903853), (637, 1017, 0.0030067137209903306), (67, 487, 0.0030067257939570733), (194, 1050, 0.0030070404347530685), (156, 1167, 0.0030090177286951846), (440, 965, 0.003012593898953052), (65, 1221, 0.0030126428188775836), (334, 990, 0.0030187769354492154), (1088, 1162, 0.003021752140731707), (888, 1407, 0.003022733200263325), (396, 896, 0.00302356081466902), (934, 1236, 0.003025404310564112), (254, 987, 0.0030256115084334534), (168, 1133, 0.003031059842225965), (1086, 1189, 0.0030330307647549776), (713, 1185, 0.003033796280716935), (815, 1298, 0.0030343368303500547), (274, 384, 0.0030344192195686528), (397, 1014, 0.003034728323918072), (127, 151, 0.0030363185277277344), (1144, 1187, 0.003037976300105292), (325, 608, 0.0030396599718573686), (99, 736, 0.0030423807339106297), (183, 398, 0.0030426728381532757), (948, 1248, 0.0030440105124808995), (690, 909, 0.00304591004592577), (1264, 1395, 0.0030464958657407818), (1025, 1178, 0.003048737996287554), (397, 1452, 0.00304928860555788), (693, 967, 0.003049311205822506), (1084, 1421, 0.0030496073517680363), (120, 1256, 0.0030508021895962927), (1257, 1352, 0.0030517081200513957), (448, 541, 0.0030522433872746182), (0, 196, 0.0030528573671644225), (197, 687, 0.0030534006157487414), (990, 1157, 0.0030545795600710516), (495, 563, 0.003054597360973339), (1301, 1361, 0.0030548718876510323), (643, 702, 0.00305769481964373), (10, 114, 0.0030578617443143886), (801, 1260, 0.0030585537662870454), (151, 1039, 0.003059913457373712), (1276, 1317, 0.0030602826666902114), (211, 510, 0.003064566283759862), (324, 653, 0.0030674644855294155), (755, 908, 0.003067741351552615), (623, 1226, 0.0030677648214908347), (109, 755, 0.003069118766026804), (853, 953, 0.00307003015100553), (78, 185, 0.0030705048444901735), (162, 1281, 0.0030716290583890854), (349, 576, 0.0030733034022848117), (122, 1236, 0.0030740616149479883), (515, 867, 0.003074512806935435), (175, 608, 0.0030753385440530625), (137, 1040, 0.003078687555278386), (23, 345, 0.0030790935354414644), (188, 1408, 0.0030795056799024496), (1438, 1457, 0.0030800384737857925), (69, 163, 0.0030820041778742255), (35, 84, 0.003084207366344978), (708, 1011, 0.0030855778769297757), (219, 318, 0.0030887983035467084), (906, 1351, 0.0030913226942478247), (108, 304, 0.0030946653827019642), (477, 1015, 0.0030955778135952207), (341, 1326, 0.00309582703005146), (235, 491, 0.0030964683108338133), (1283, 1435, 0.0031029050903977223), (73, 1280, 0.0031059344577014205), (1083, 1180, 0.003106307495539453), (1263, 1451, 0.00311011543194925), (654, 1159, 0.00311030818409059), (86, 480, 0.0031150648468352767), (662, 738, 0.0031150664006555856), (208, 563, 0.003117608670007653), (470, 1130, 0.0031182175734347783), (850, 1296, 0.003118742214415949), (432, 487, 0.003119378669933503), (110, 706, 0.0031198786361268348), (311, 995, 0.0031207241397068052), (990, 1372, 0.0031222313111011384), (398, 688, 0.0031239990396923576), (1094, 1253, 0.0031259238634284833), (13, 1462, 0.0031289859379655814), (265, 540, 0.003131479043519973), (421, 1343, 0.0031317948058070307), (282, 473, 0.003134752940819278), (742, 1314, 0.0031391222101152466), (238, 469, 0.0031396305773963165), (781, 1046, 0.003144101478169991), (678, 1101, 0.003144510694175207), (183, 240, 0.0031492578490743997), (1246, 1301, 0.003150941365683791), (608, 1483, 0.003151235583062377), (411, 1210, 0.003151826540616362), (49, 1190, 0.003152248738316758), (165, 885, 0.003153183772534497), (33, 820, 0.0031548447946299343), (1001, 1152, 0.003155152257823162), (1211, 1287, 0.003156001425858887), (1420, 1458, 0.003156076678405244), (928, 972, 0.00315628115789561), (624, 1297, 0.0031573895863510034), (406, 836, 0.0031578671599697167), (147, 278, 0.00315868643583831), (882, 922, 0.0031665213118635483), (904, 1104, 0.003169781175944264), (408, 1051, 0.0031698288898437607), (188, 233, 0.003170108019656397), (74, 203, 0.0031761187005543237), (85, 162, 0.003176181702046742), (1063, 1240, 0.0031777891685886004), (351, 409, 0.0031789319590120333), (766, 1013, 0.0031797425263879278), (243, 883, 0.0031810100597084714), (807, 1177, 0.003181117570916052), (217, 1134, 0.0031851834027221177), (348, 1176, 0.003186691858353788), (11, 1033, 0.0031882777607952985), (317, 770, 0.003188487358873099), (887, 932, 0.003188961117667273), (87, 177, 0.003190071002350975), (945, 1208, 0.0031915955257541075), (487, 789, 0.0031921513440830484), (253, 891, 0.0031936187937786635), (1358, 1392, 0.00319364391208792), (356, 370, 0.0032030236679081838), (364, 1140, 0.0032051590303717216), (985, 1403, 0.003211125798523858), (697, 770, 0.003211935311893087), (258, 1136, 0.0032131199934858023), (1258, 1291, 0.0032154153212345577), (1076, 1107, 0.0032202131917018198), (198, 747, 0.003221345890846983), (434, 435, 0.0032220141620366836), (751, 752, 0.003226747573295676), (227, 1356, 0.00323019271869858), (133, 1046, 0.0032320901162708835), (485, 1338, 0.0032321166272685914), (960, 1109, 0.0032357108956166548), (166, 884, 0.0032362967912387334), (158, 1263, 0.0032363745147804975), (884, 1124, 0.003238959086876669), (230, 729, 0.0032392963742182874), (567, 1174, 0.0032411086662941257), (907, 1170, 0.0032430301352027856), (193, 714, 0.0032439019713800302), (333, 596, 0.0032462024859788003), (439, 849, 0.00324642112178927), (333, 521, 0.0032529818966521608), (330, 851, 0.0032530543954924036), (196, 946, 0.0032559053420724514), (659, 823, 0.0032562044926734168), (48, 1167, 0.0032583045270245625), (372, 650, 0.003263514413299668), (987, 1375, 0.003265199858637852), (410, 653, 0.0032674781465131084), (19, 1011, 0.0032686977701237062), (244, 806, 0.0032687941917772423), (596, 1214, 0.0032699900244499767), (389, 716, 0.003272262214430709), (1083, 1331, 0.003274395516739609), (19, 303, 0.0032780085787716545), (628, 1348, 0.003279326944657373), (317, 430, 0.00328032542080148), (681, 1165, 0.0032808110277815733), (1044, 1399, 0.003281813819058668), (10, 687, 0.0032821129207481815), (604, 805, 0.0032870215893389923), (1096, 1156, 0.00329166295358059), (396, 556, 0.0032920530068559464), (121, 865, 0.0032933597347515908), (1043, 1321, 0.0032943982394670443), (1424, 1428, 0.0032946619265065524), (1388, 1390, 0.0032969228077079625), (1014, 1360, 0.0033040183110835957), (77, 851, 0.0033076512306246374), (375, 879, 0.0033105800096058647), (1175, 1283, 0.0033165531806344187), (93, 1243, 0.003317517556328952), (714, 950, 0.003322037025679253), (122, 1189, 0.003323386602086081), (112, 548, 0.0033306527888752606), (157, 316, 0.0033325932071118273), (11, 197, 0.0033326389258390514), (173, 1225, 0.003332747365165623), (126, 989, 0.00333316336233808), (58, 462, 0.0033332648181747214), (620, 813, 0.003335310096516845), (88, 336, 0.0033397168892208276), (333, 1179, 0.003342804035543032), (442, 706, 0.003342856822444413), (1225, 1436, 0.003352969579343241), (6, 687, 0.00335508892969658), (803, 904, 0.0033552415129229273), (920, 1208, 0.003361733630142749), (266, 401, 0.003362151579095797), (87, 133, 0.0033634288665720076), (1138, 1160, 0.0033660956611462553), (587, 829, 0.0033694386772893255), (184, 1042, 0.003373088237739337), (135, 1009, 0.003375913025911757), (203, 978, 0.0033802828283970637), (180, 328, 0.0033850566999210165), (544, 1402, 0.003386603733831718), (321, 1125, 0.0033906341589758316), (68, 251, 0.0033948551875064756), (280, 1364, 0.0033970687541798514), (1156, 1161, 0.003399930881649227), (1110, 1201, 0.003400064006747048), (736, 885, 0.0034068672559996464), (434, 1058, 0.003407946064207209), (775, 831, 0.0034100586505229663), (532, 1273, 0.0034136217291274597), (584, 1366, 0.0034136843794427365), (581, 1407, 0.0034193394098866368), (1261, 1405, 0.003421432594680709), (1295, 1486, 0.0034228642976299435), (530, 630, 0.0034250654008341807), (670, 723, 0.003426186739943354), (846, 1020, 0.0034266087752354026), (363, 918, 0.0034301744537239584), (153, 547, 0.0034322377032157338), (585, 1446, 0.003435461928551197), (221, 530, 0.0034356207590429495), (896, 1278, 0.003436897438103715), (1240, 1320, 0.003437105322799438), (491, 1000, 0.0034411916540625464), (47, 252, 0.0034416329525394423), (222, 1483, 0.003446653981617916), (349, 953, 0.003458006137937335), (1001, 1266, 0.003464224978666018), (1157, 1160, 0.0034704751569818617), (424, 720, 0.0034728670921804227), (1046, 1068, 0.003473758360108798), (331, 1198, 0.0034767674871809865), (1347, 1416, 0.0034802265730930104), (202, 912, 0.0034823387177793682), (1017, 1352, 0.0034838507717735016), (443, 528, 0.0034840711818120607), (489, 1250, 0.0034902292188317575), (925, 1004, 0.0034978534137672344), (263, 1159, 0.003499520252837827), (655, 1090, 0.0035004713968199972), (820, 1108, 0.003505293386020963), (427, 988, 0.0035111821371133283), (6, 838, 0.003518395391888723), (181, 474, 0.003518820825216598), (272, 1245, 0.00353322300129484), (610, 925, 0.0035507123546310534), (498, 947, 0.0035553340208853354), (770, 854, 0.003570633174548367), (453, 898, 0.0035824935449962746), (966, 1327, 0.003583915875122757), (269, 755, 0.0035840034877179985), (51, 832, 0.003589557439513101), (535, 1252, 0.00359901389271708), (810, 1025, 0.003604401249862122), (446, 558, 0.0036098876713905733), (534, 1233, 0.0036194249543281517), (374, 1055, 0.0036336408738267775), (719, 799, 0.003641707326195262), (272, 820, 0.00364216592487774), (784, 865, 0.0036475113515802614), (781, 1120, 0.003649396819262143), (292, 901, 0.0036519589263834264), (192, 546, 0.003651959747880878), (250, 1283, 0.00365890502745932), (522, 1117, 0.0036613952317913205), (889, 1044, 0.0036832266170330036), (402, 1318, 0.0037036059455674503), (716, 830, 0.003706426850755102), (1254, 1284, 0.0037101036373607837), (1150, 1262, 0.0037144070859349916), (449, 915, 0.0037345864617162492), (175, 415, 0.0037411371780320907), (1147, 1362, 0.003743050506899183), (369, 1322, 0.0037475872237986226), (302, 1291, 0.0037524511748118585), (603, 711, 0.0037633937455544613), (130, 369, 0.0037660430162083157), (45, 842, 0.0038501896554426467), (364, 482, 0.0038553067232042332), (915, 1102, 0.0038773228508861063), (857, 1188, 0.003892435620076624), (165, 566, 0.003936523116691367), (752, 1148, 0.0039368879099734135), (47, 93, 0.003951576359035046), (14, 1245, 0.003953319810877369), (633, 1419, 0.00395585439570976), (221, 872, 0.003957489229297301), (113, 844, 0.003959503048444302), (140, 141, 0.003976118757679368), (449, 813, 0.003994628122869845), (871, 1321, 0.004020784434517241), (121, 500, 0.004050504203439314), (862, 1201, 0.0040664325802829485), (214, 493, 0.004081672696334029), (429, 797, 0.004088904002496444), (104, 1102, 0.00409048572178784), (967, 1012, 0.0041157417149619195), (310, 1168, 0.004126965853073588), (1072, 1344, 0.004137231562292065), (106, 1305, 0.0041851289108009665), (915, 1120, 0.004214036668087147), (912, 1137, 0.004225898957778957), (1419, 1457, 0.004240671644908971), (813, 858, 0.0043460516563846325), (75, 439, 0.00440579749193619), (342, 592, 0.0047402473564132136), (651, 1362, 0.005138342264380736), (461, 1249, 0.005189455655461662), (103, 699, 0.005274779616249873), (342, 395, 0.005291927815081388), (371, 1123, 0.005307391072840154), (294, 620, 0.0054085331292436905), (1201, 1277, 0.005430238791255865), (1308, 1466, 0.00543482253518437), (256, 1481, 0.005580631594574471), (1277, 1308, 0.0059111300104108255), (455, 1217, 0.006375380532427577), (57, 1003, 0.00689678719793434), (461, 699, 0.006972431426699941), (164, 566, 0.006985049820867814), (256, 893, 0.008813273309556138), (787, 1481, 0.009255357033767987), (151, 127, 0.0030363185277277344), (1275, 410, 0.002313857341909122), (809, 730, 0.0023061737688002426), (15, 1183, 0.005123366792952642), (1413, 1309, 0.002775360877425813), (1223, 1200, 0.002075729635665108), (529, 901, 0.003068412618940337), (1070, 681, 0.003006621525903853), (858, 1145, 0.00619232490313465), (541, 426, 0.004643149410696993), (455, 862, 0.006986066139102508), (320, 624, 0.0021784297096801067), (368, 1025, 0.002771303983692724), (643, 582, 0.003782349757761894), (1409, 1316, 0.0025219117768013346), (274, 440, 0.0033040503930857738), (482, 364, 0.0038553067232042332), (1343, 421, 0.0031317948058070307), (672, 715, 0.002311247635757429), (1483, 608, 0.003151235583062377), (1460, 273, 0.0032608485820698682), (798, 667, 0.0020131343125517546), (1331, 1258, 0.002633692654805643), (323, 612, 0.0037554382887378668), (1267, 259, 0.00617800655550857), (1207, 26, 0.0029648971355803735), (939, 938, 0.0033612255596021418), (1308, 1466, 0.00543482253518437), (812, 892, 0.0020281740573509293), (32, 559, 0.001755049175560469), (743, 207, 0.002620246744101372), (866, 481, 0.002615915259046451), (711, 603, 0.0037633937455544613), (1392, 85, 0.0029955958272829056), (1310, 1252, 0.0025655223812802073), (336, 904, 0.004033911000118331), (1201, 68, 0.005574780121400277), (1294, 708, 0.002738773403297334), (770, 697, 0.003211935311893087), (43, 186, 0.0025332360783571605), (926, 195, 0.0021550669626674793), (1042, 71, 0.0028938113185818445), (786, 214, 0.002721268270494187), (456, 54, 0.001912054829580866), (463, 248, 0.0026967539729464357), (390, 296, 0.0026686860196007715), (261, 1336, 0.00401391143399991), (1305, 62, 0.0021466357399490977), (10, 114, 0.0030578617443143886), (1072, 1344, 0.004137231562292065), (815, 602, 0.004422408845849346), (1319, 347, 0.002080865204660934), (89, 179, 0.001818063766757364), (576, 349, 0.0030733034022848117), (485, 1338, 0.0032321166272685914), (1378, 692, 0.0028203781661353725), (412, 820, 0.0040282784266410104), (1091, 639, 0.007306392954118347), (355, 1052, 0.004019393975518053), (406, 394, 0.002439615748431247), (1172, 955, 0.004051943977884894), (1093, 943, 0.0038782449638981435), (1244, 860, 0.0017146599023103116), (1000, 491, 0.0034411916540625464), (143, 429, 0.0044798018757864775), (1061, 607, 0.00520408956842827), (654, 1159, 0.00311030818409059), (494, 380, 0.0029389761839428586), (400, 343, 0.0023448634372222536), (435, 1125, 0.004675342118064312), (430, 790, 0.004011482084346822), (558, 446, 0.0036098876713905733), (1137, 436, 0.0022392811435809237), (505, 635, 0.0036612660378621525), (799, 861, 0.002990747333621119), (1228, 944, 0.005112264102144953), (775, 499, 0.0019743606560058942), (1050, 200, 0.0024798352388696737), (621, 1485, 0.002457877132806221), (732, 937, 0.002973727058459877), (610, 1148, 0.00431988065307281), (1414, 1395, 0.0026399856060329635), (239, 749, 0.002169902087983453), (301, 299, 0.003335117492147191), (162, 589, 0.0022132012575405693), (27, 205, 0.003929560280747775), (454, 475, 0.0028826825103540348), (1117, 818, 0.0022643321311151773), (1232, 1156, 0.0011032696859704933), (1099, 96, 0.003266436469613146), (1400, 1374, 0.002924014021849104), (1347, 1417, 0.002544247236421712), (1211, 852, 0.003316097857408267), (510, 211, 0.003064566283759862), (257, 458, 0.0030462278460378187), (893, 1128, 0.012494376495058473), (1164, 1283, 0.0065380035178945585), (966, 1247, 0.0023549575367773894), (689, 51, 0.005716532330886081), (1321, 871, 0.004020784434517241), (338, 1442, 0.0022298881712627086), (307, 212, 0.002633040068054183), (714, 177, 0.0028094305472901805), (1284, 1465, 0.0036595300244684032), (277, 1249, 0.002488093647755893), (676, 604, 0.006910293699873755), (31, 1044, 0.007219712424511422), (282, 218, 0.0038711497000263233), (1279, 1119, 0.0016743755659090107), (640, 721, 0.0027443635509920555), (1455, 1386, 0.005555560277780423), (1423, 630, 0.001846386672224545), (1434, 1456, 0.007646554779759847), (1346, 1188, 0.006370059379349774), (1173, 1268, 0.0033038006241614217), (252, 627, 0.003944951491788934), (976, 1261, 0.0045764252424810754), (1271, 970, 0.001445448373347154), (131, 142, 0.0020276760034421697), (1118, 810, 0.002791788862006586), (33, 801, 0.004172807073178884), (750, 479, 0.0027198869507219364), (1029, 983, 0.003388996803589176), (609, 713, 0.0029664901808151784), (223, 1478, 0.002909078247578225), (596, 490, 0.0027601774580683068), (959, 816, 0.0032273963658612527), (990, 334, 0.0030187769354492154), (1398, 1472, 0.005683167162779227), (1226, 625, 0.0018161773041162795), (905, 969, 0.0036756231529775593), (648, 722, 0.0021764339499609235), (504, 1278, 0.0017016333330008193), (915, 781, 0.005109011522431297), (641, 1038, 0.00280720616032058), (902, 553, 0.004301578227810268), (1126, 537, 0.0007861894889016774), (344, 991, 0.001678573799393324), (1324, 154, 0.0029198313363297448), (794, 656, 0.002426412372203816), (528, 540, 0.006205794066829829), (661, 922, 0.0020447631575764586), (575, 387, 0.0048286777693282625), (329, 1408, 0.0028008568461251443), (601, 417, 0.0028177771677163352), (170, 1369, 0.00399764430633646), (1037, 771, 0.0015025004561539815), (725, 361, 0.0033262741919585525), (571, 760, 0.0014419267623623543), (1136, 895, 0.004967823873860056), (231, 298, 0.002474018997512545), (614, 140, 0.006609287868627174), (933, 696, 0.002407088356101499), (883, 777, 0.0021789892152098036), (392, 877, 0.002794883880483786), (710, 669, 0.0041743420215049195), (729, 469, 0.002445683077110235), (169, 1213, 0.0026046454299582934), (1169, 1122, 0.0023270483450120107), (755, 908, 0.003067741351552615), (8, 74, 0.0062977809584025875), (945, 311, 0.005898240056699081), (1105, 1350, 0.0028000754570965173), (1092, 888, 0.0025959926645769496), (1104, 367, 0.0035200056012977985), (723, 94, 0.0038990315766260315), (1303, 63, 0.005767069446437907), (226, 822, 0.00212615356924256), (103, 658, 0.01153431489079006), (98, 1253, 0.005317743882512226), (856, 701, 0.0008997913330458619), (999, 433, 0.0022989475853110635), (1080, 295, 0.002661192401911022), (328, 462, 0.0027246077087296166), (1115, 1065, 0.015149440946779408), (1182, 1419, 0.002239416218567552), (1246, 1266, 0.004396069146253402), (1302, 376, 0.0033865472461670027), (1171, 909, 0.004783580179504102), (838, 717, 0.0019501678467545986), (890, 659, 0.004267064700697072), (332, 1349, 0.002864155947212764), (1151, 1366, 0.0037815035822417863), (1019, 829, 0.006969666921736699), (1098, 1388, 0.002564422742062378), (184, 492, 0.0050796305330636235), (726, 413, 0.0035258564177876304), (578, 120, 0.002708937799223589), (741, 209, 0.004910420450436286), (102, 843, 0.001549998471862597), (549, 873, 0.012235530229618912), (1332, 1089, 0.004608894759142044), (913, 271, 0.003499945049427667), (695, 677, 0.0018314386347224364), (1222, 483, 0.0018186242052744142), (727, 785, 0.002095059496098828), (591, 1056, 0.0025631008894667134), (189, 1380, 0.0022015053940331016), (773, 134, 0.003929137450397084), (590, 1370, 0.007537268736090524), (303, 19, 0.0032780085787716545), (1184, 825, 0.0029380098648441708), (1394, 1438, 0.00356792516737433), (1320, 1063, 0.006603051491546896), (561, 502, 0.003155692158622007), (112, 1077, 0.003997177504183404), (164, 1476, 0.008787092807072502), (739, 802, 0.002556290877409109), (1383, 964, 0.0028128940612821363), (1022, 634, 0.0033977500102906587), (628, 46, 0.0033857514099589515), (1270, 1418, 0.001655643983472362), (1048, 1030, 0.004546331179952411), (496, 718, 0.0031611277868074093), (753, 289, 0.002522529165415559), (694, 464, 0.004947771187717288), (1106, 465, 0.002982026923997985), (1367, 503, 0.00259821558721517), (432, 487, 0.003119378669933503), (1447, 165, 0.0026651795453696316), (847, 666, 0.002844007727500842), (1473, 192, 0.0037509893361640945), (353, 748, 0.006066031970223301), (746, 954, 0.011268554134860824), (1013, 304, 0.0036053994189429416), (281, 20, 0.0036425005147561963), (372, 370, 0.005605610900604673), (1069, 399, 0.003468001168083133), (486, 371, 0.005704910165809588), (75, 500, 0.010573476424205227), (167, 1292, 0.0022443431020304884), (415, 175, 0.0037411371780320907), (993, 176, 0.006870230278942143), (845, 275, 0.0008189830233285897), (997, 1020, 0.003534636425439873), (1482, 737, 0.0019872569454219293), (453, 1304, 0.002471939521909816), (668, 1337, 0.0026595972408785277), (896, 396, 0.00302356081466902), (1147, 251, 0.0046629748171075), (1144, 1387, 0.00161296157926353), (525, 397, 0.002443647274060435), (321, 132, 0.0038150491477893277), (1006, 1095, 0.00484817616328175), (763, 202, 0.005477264798897128), (123, 124, 0.0032283680714937854), (1215, 724, 0.005413941636766166), (427, 992, 0.002527706470303402), (787, 309, 0.0017405849450072047), (876, 105, 0.012236627181662903), (874, 805, 0.002056263670107989), (693, 967, 0.003049311205822506), (687, 747, 0.007921603882605049), (1209, 1076, 0.00432474276692169), (622, 704, 0.003511079902448294), (146, 546, 0.00307051168374358), (318, 136, 0.004144399831101231), (187, 941, 0.0035907477604048654), (759, 196, 0.0038305504642100184), (1192, 498, 0.009800249996823187), (1255, 1205, 0.0017940596422654383), (1100, 1345, 0.006349636997493493), (129, 1381, 0.007536998076162563), (78, 1111, 0.0023320486324628366), (450, 1012, 0.002984167569688449), (315, 880, 0.0038251626040248614), (67, 839, 0.007783887799053159), (110, 241, 0.010316534999586109), (1243, 1206, 0.005116141124441427), (245, 1286, 0.003834350270913462), (1053, 1075, 0.0033818864558145274), (1341, 232, 0.006652915225672304), (407, 1372, 0.007259178484671388), (288, 952, 0.004733142682571311), (782, 982, 0.007817833779242438), (420, 437, 0.004063112493375963), (1272, 1439, 0.0009574016920869951), (885, 1001, 0.0063744838732186565), (233, 1017, 0.006525267057567908), (128, 158, 0.003954627921830762), (683, 685, 0.004241328644087175), (930, 185, 0.004076305703171109), (875, 832, 0.012673952926821249), (1289, 652, 0.0032272648744491018), (1404, 418, 0.0034022223619231255), (1229, 1066, 0.0010640924094530758), (253, 551, 0.0018295586899601333), (831, 1146, 0.005502808373909944), (728, 974, 0.016536146631501294), (988, 1306, 0.007805158550596102), (1427, 653, 0.0015300369276521177), (217, 1010, 0.006058484765924355), (784, 5, 0.01453014456863951), (629, 357, 0.006238146679897895), (889, 953, 0.006468618195595451), (1389, 1396, 0.0029575522649599316), (745, 779, 0.002180779236918239), (881, 193, 0.005699728063682562), (1426, 348, 0.001599190107529218), (1009, 774, 0.0045416350970965145), (1046, 49, 0.016092772194106056), (341, 1431, 0.001716662544758133), (1339, 1088, 0.003176754633273867), (1057, 1055, 0.006409345898775304), (1260, 222, 0.007308663126542679), (1034, 1285, 0.007297589852135486), (342, 160, 0.0025784842446681436), (1199, 106, 0.00910148323076786), (1440, 302, 0.002710282134773987), (783, 247, 0.006666363326440864), (934, 523, 0.0034667933039720304), (780, 178, 0.006765268668067296), (854, 327, 0.0017551191624866891), (83, 984, 0.011102945780295604), (139, 532, 0.008935655496720688), (515, 867, 0.003074512806935435), (373, 962, 0.0028119035489933743), (58, 698, 0.016944866548733308), (819, 853, 0.02091726216961568), (1290, 1479, 0.002127848002662371), (119, 447, 0.005203094376861678), (1314, 1036, 0.009136871947038102), (480, 25, 0.01655913623955178), (1361, 1242, 0.007833514262461257), (1471, 1468, 0.006414795398140141), (644, 1170, 0.00486541986982466), (1416, 1459, 0.03325498152768238), (266, 452, 0.005924774426070435), (1410, 337, 0.00718954796909612), (319, 240, 0.0027248240310188674), (554, 1124, 0.0024883263616758263), (91, 42, 0.008092481149707844), (1083, 1428, 0.00384195448306677), (891, 569, 0.01204295067663608), (1014, 402, 0.009606824917742361), (1112, 662, 0.006106895087693939), (924, 374, 0.0038306438101140526), (369, 113, 0.02604355144781992), (1354, 294, 0.021698936090280372), (740, 660, 0.02659399083082203), (360, 764, 0.002312744257365906), (1250, 403, 0.02270660609441314), (795, 664, 0.0846960817419398), (868, 1193, 0.0035473573262327705), (513, 804, 0.006400828852580149)]\n",
      "Eulerian tour:  [1482, 730, 737, 982, 290, 315, 772, 350, 255, 694, 270, 1198, 331, 854, 327, 854, 770, 697, 770, 317, 430, 790, 1036, 1043, 1321, 871, 1321, 742, 1314, 1036, 101, 1124, 554, 779, 745, 779, 603, 711, 603, 476, 199, 1081, 1202, 422, 44, 472, 910, 1082, 1139, 729, 469, 782, 982, 682, 727, 785, 460, 738, 662, 1112, 600, 727, 785, 870, 949, 673, 856, 701, 856, 740, 660, 665, 678, 1101, 447, 42, 539, 228, 275, 845, 373, 124, 123, 987, 846, 1020, 38, 997, 1020, 823, 659, 890, 758, 457, 879, 375, 1375, 987, 254, 1051, 408, 373, 962, 91, 220, 845, 275, 1024, 425, 825, 1184, 911, 1379, 1008, 703, 91, 42, 459, 29, 386, 131, 142, 131, 974, 748, 353, 684, 998, 300, 765, 974, 728, 51, 832, 875, 316, 157, 45, 842, 689, 51, 762, 1030, 878, 793, 824, 1, 821, 4, 954, 1114, 467, 189, 466, 1380, 189, 864, 975, 922, 661, 922, 882, 84, 35, 731, 704, 622, 431, 834, 417, 863, 601, 150, 599, 1030, 1048, 297, 601, 417, 679, 137, 1040, 1005, 186, 43, 186, 1027, 686, 323, 118, 951, 612, 119, 447, 612, 323, 117, 677, 705, 53, 726, 413, 715, 859, 672, 663, 841, 1023, 1059, 634, 993, 176, 322, 102, 843, 1337, 668, 1337, 613, 414, 572, 288, 952, 709, 66, 594, 1059, 843, 102, 1022, 634, 666, 847, 1021, 672, 715, 674, 749, 239, 749, 454, 81, 475, 454, 1054, 289, 753, 289, 746, 954, 559, 617, 32, 559, 788, 875, 957, 787, 309, 787, 1481, 256, 893, 1128, 354, 107, 1325, 1409, 111, 31, 1044, 224, 1151, 1366, 584, 1173, 1268, 1316, 1409, 1316, 584, 1399, 1044, 889, 216, 1200, 1223, 1200, 953, 853, 696, 1191, 1069, 552, 722, 648, 722, 942, 479, 750, 479, 1218, 860, 1244, 860, 167, 1292, 167, 518, 237, 1130, 470, 897, 1186, 1343, 421, 411, 1210, 245, 1286, 1313, 533, 984, 1066, 1229, 1066, 154, 647, 1324, 154, 769, 1227, 7, 977, 276, 83, 984, 421, 1343, 79, 980, 301, 1340, 1029, 983, 1136, 34, 80, 82, 1069, 399, 933, 696, 933, 971, 40, 105, 876, 126, 989, 1224, 1084, 1421, 1164, 1283, 1435, 446, 558, 446, 562, 835, 1284, 1432, 1465, 1386, 1455, 1254, 1284, 1465, 495, 563, 208, 1448, 1412, 587, 829, 1019, 161, 1049, 1175, 1283, 250, 2, 48, 1167, 156, 710, 458, 343, 400, 343, 71, 1042, 71, 257, 458, 669, 710, 481, 866, 481, 959, 816, 1342, 555, 246, 895, 258, 1136, 895, 537, 1126, 537, 1134, 217, 798, 667, 299, 301, 1045, 1158, 828, 819, 853, 792, 773, 134, 1097, 1363, 349, 576, 349, 953, 889, 50, 492, 184, 1042, 981, 876, 269, 755, 908, 755, 109, 688, 398, 183, 240, 526, 319, 240, 931, 520, 937, 732, 937, 191, 401, 266, 264, 1438, 1457, 1419, 1182, 1419, 633, 804, 513, 964, 1220, 1383, 964, 580, 1072, 1344, 1072, 346, 1062, 741, 691, 209, 741, 960, 1109, 1181, 840, 901, 1299, 529, 901, 292, 511, 264, 1394, 1438, 452, 266, 1153, 1219, 453, 365, 1304, 453, 898, 664, 795, 1016, 611, 695, 677, 695, 993, 642, 362, 226, 767, 822, 226, 707, 360, 764, 360, 923, 685, 76, 683, 685, 956, 194, 1050, 200, 1050, 607, 1061, 1071, 172, 1183, 451, 145, 225, 1149, 1196, 949, 880, 315, 313, 464, 694, 1133, 168, 712, 423, 144, 1087, 921, 355, 405, 95, 1052, 355, 796, 676, 936, 733, 1376, 174, 143, 429, 797, 1483, 608, 325, 1349, 332, 1349, 940, 33, 512, 801, 857, 1188, 1346, 65, 1221, 1041, 510, 211, 510, 148, 514, 9, 501, 807, 1177, 356, 370, 565, 1079, 372, 324, 653, 1427, 653, 410, 1275, 410, 409, 351, 60, 1444, 639, 1368, 210, 1395, 1414, 1395, 1264, 1425, 944, 1334, 1228, 944, 96, 894, 291, 900, 69, 163, 1367, 503, 1367, 1408, 812, 1028, 892, 812, 329, 1408, 188, 233, 1017, 1348, 628, 46, 1194, 1142, 508, 1103, 637, 1017, 1352, 1257, 1099, 96, 1257, 337, 1410, 115, 1462, 13, 1140, 364, 482, 364, 1228, 1086, 1189, 122, 1236, 934, 523, 503, 195, 926, 195, 739, 802, 739, 903, 609, 713, 766, 1013, 304, 108, 1002, 1185, 713, 609, 166, 884, 1124, 554, 70, 886, 1217, 455, 862, 1201, 1110, 1329, 334, 990, 1157, 1160, 1138, 1293, 407, 16, 839, 67, 487, 432, 487, 789, 992, 427, 657, 1003, 57, 917, 407, 1372, 990, 334, 1147, 1216, 251, 298, 231, 298, 1180, 1083, 553, 902, 1469, 73, 1280, 1402, 1330, 1323, 1442, 338, 1442, 1476, 164, 566, 165, 1447, 165, 885, 1214, 596, 490, 596, 333, 919, 1328, 1258, 1331, 1459, 1416, 1347, 1417, 1347, 534, 1233, 320, 1397, 1420, 1458, 1391, 1374, 232, 1341, 1458, 1400, 1374, 1389, 1470, 381, 139, 532, 1396, 1389, 1396, 644, 1170, 1371, 376, 1302, 624, 320, 624, 1297, 1477, 1065, 1115, 1365, 1309, 1413, 1309, 1269, 1274, 493, 214, 786, 214, 441, 265, 540, 388, 1450, 443, 528, 540, 1235, 63, 12, 973, 1303, 63, 1034, 1282, 1085, 1285, 1034, 1119, 445, 1155, 1256, 120, 578, 120, 590, 1230, 170, 1369, 1279, 1119, 1279, 1385, 1001, 1152, 1166, 1170, 907, 532, 1273, 1203, 1361, 283, 855, 521, 333, 1179, 1445, 579, 1402, 544, 1424, 1428, 1083, 1331, 1258, 1291, 302, 1440, 302, 1242, 1361, 1301, 1246, 1266, 1001, 885, 736, 99, 1370, 590, 658, 103, 699, 461, 1249, 277, 1249, 1353, 391, 128, 978, 203, 74, 1356, 227, 1443, 8, 74, 995, 311, 945, 1327, 966, 1247, 966, 1237, 1262, 1150, 1014, 1360, 1411, 1289, 1449, 652, 1289, 1318, 402, 1014, 397, 1265, 525, 397, 1452, 896, 1278, 504, 1278, 605, 848, 1473, 192, 546, 1305, 62, 1305, 106, 1199, 778, 146, 546, 626, 1433, 1312, 1453, 295, 1080, 295, 468, 1199, 556, 396, 896, 396, 1422, 1345, 1100, 1270, 279, 497, 56, 850, 1296, 1317, 1276, 129, 1381, 573, 756, 1436, 1225, 173, 543, 390, 296, 390, 1315, 1454, 92, 1205, 1255, 284, 382, 444, 1169, 1122, 1169, 591, 1056, 591, 645, 1393, 1141, 1332, 1154, 557, 1089, 1332, 1018, 1127, 999, 433, 868, 1193, 943, 190, 1093, 943, 1335, 433, 999, 524, 1403, 985, 560, 206, 976, 1261, 1405, 22, 506, 1255, 1205, 253, 551, 1487, 1271, 970, 1271, 621, 1485, 621, 568, 229, 379, 619, 1035, 1398, 1472, 1281, 162, 589, 162, 85, 1392, 85, 395, 342, 160, 342, 592, 385, 1474, 1430, 527, 530, 630, 1423, 630, 1439, 1272, 1439, 1478, 223, 1478, 147, 278, 618, 335, 567, 1174, 575, 267, 387, 268, 1163, 681, 1165, 1171, 909, 287, 207, 743, 207, 1057, 1055, 17, 680, 690, 909, 306, 1063, 1240, 1320, 1063, 125, 1070, 681, 1070, 1238, 23, 345, 383, 159, 204, 1267, 259, 575, 387, 86, 480, 25, 305, 872, 221, 530, 844, 113, 369, 814, 1388, 1098, 1388, 1390, 1401, 1475, 1460, 1467, 273, 1460, 1461, 1434, 1441, 646, 28, 1437, 260, 1468, 1471, 280, 1364, 545, 1434, 1456, 1333, 996, 564, 1390, 1135, 285, 585, 1446, 1031, 583, 261, 1336, 1290, 1479, 1290, 347, 1319, 347, 1358, 536, 130, 369, 1322, 55, 1195, 629, 357, 1358, 1392, 484, 1480, 1378, 692, 1378, 1032, 776, 656, 808, 404, 574, 505, 635, 794, 656, 794, 955, 550, 1172, 955, 551, 253, 891, 569, 1463, 535, 1252, 1310, 1252, 509, 215, 1096, 1156, 1232, 1156, 1161, 112, 1288, 1077, 112, 548, 507, 1418, 1270, 1418, 281, 20, 700, 1241, 1415, 1259, 920, 1208, 945, 757, 477, 1015, 631, 1464, 906, 1351, 158, 1359, 263, 1159, 654, 1159, 393, 1355, 72, 636, 1093, 478, 516, 27, 205, 215, 286, 570, 1015, 243, 883, 777, 883, 128, 158, 1263, 1451, 1382, 1406, 352, 1429, 1091, 639, 438, 581, 1407, 888, 1092, 888, 961, 561, 638, 502, 561, 213, 1311, 348, 1426, 348, 1176, 344, 991, 924, 374, 1055, 979, 734, 991, 344, 1222, 968, 419, 577, 538, 1326, 341, 1431, 341, 97, 1373, 1404, 418, 899, 1078, 588, 1339, 1357, 1088, 473, 282, 218, 30, 483, 1222, 483, 1234, 1162, 1088, 1339, 586, 136, 318, 361, 725, 219, 318, 1384, 90, 650, 372, 370, 542, 426, 541, 448, 359, 358, 1346, 14, 1245, 272, 820, 1108, 593, 412, 820, 33, 801, 1260, 222, 1483, 608, 175, 415, 175, 1484, 196, 0, 759, 196, 946, 155, 805, 874, 805, 604, 676, 938, 249, 939, 938, 1026, 1039, 151, 127, 614, 140, 141, 127, 151, 416, 641, 1038, 641, 800, 986, 15, 1183, 1212, 37, 606, 869, 994, 200, 1116, 760, 571, 760, 1213, 41, 169, 1213, 326, 171, 18, 780, 547, 153, 428, 178, 780, 826, 89, 179, 89, 241, 110, 706, 442, 1006, 595, 1095, 1006, 149, 1204, 668, 1007, 366, 754, 340, 1037, 771, 1037, 182, 670, 723, 94, 288, 21, 54, 456, 735, 598, 531, 913, 271, 615, 456, 54, 52, 698, 58, 462, 328, 1058, 434, 435, 1125, 132, 321, 1125, 135, 1009, 180, 328, 462, 488, 719, 799, 861, 799, 918, 363, 378, 806, 244, 1137, 436, 1137, 912, 202, 763, 26, 248, 463, 248, 649, 1207, 26, 234, 718, 496, 463, 837, 198, 747, 838, 717, 838, 6, 687, 197, 11, 1033, 485, 1338, 485, 201, 339, 138, 751, 752, 1148, 610, 925, 1004, 10, 114, 10, 687, 747, 1377, 798, 667, 1010, 217, 1132, 904, 803, 152, 242, 330, 851, 77, 88, 336, 904, 1104, 367, 1307, 816, 784, 308, 959, 1143, 791, 1231, 916, 744, 5, 784, 865, 121, 500, 75, 439, 721, 640, 439, 849, 969, 877, 392, 877, 582, 702, 643, 582, 905, 969, 1178, 1025, 368, 1025, 810, 1118, 810, 1121, 465, 1106, 465, 1338, 1012, 450, 1012, 967, 693, 967, 104, 1102, 915, 1120, 781, 915, 449, 813, 620, 294, 1354, 193, 714, 177, 714, 950, 1168, 310, 1145, 858, 813, 1190, 49, 1046, 781, 720, 424, 941, 187, 314, 1068, 1046, 133, 87, 177, 252, 47, 93, 1243, 1206, 3, 303, 19, 303, 627, 252, 597, 811, 1294, 708, 1064, 867, 515, 867, 235, 491, 1000, 491, 1123, 371, 486, 236, 836, 406, 100, 394, 406, 1197, 1354, 440, 247, 783, 929, 958, 312, 24, 1146, 831, 963, 24, 761, 236, 602, 815, 1298, 474, 181, 817, 307, 914, 852, 1211, 1287, 212, 307, 212, 1253, 1094, 98, 1253, 1144, 1387, 1144, 1187, 1067, 498, 947, 1239, 833, 36, 1192, 498, 1074, 262, 616, 827, 59, 1105, 1350, 59, 775, 499, 775, 831, 1107, 1076, 1209, 1300, 517, 818, 116, 1060, 1248, 948, 873, 549, 1486, 1295, 655, 1090, 522, 1117, 818, 1117, 1251, 389, 716, 830, 623, 1226, 625, 1226, 1073, 1129, 274, 965, 440, 274, 384, 881, 193, 39, 671, 519, 1075, 1053, 1294, 708, 1011, 19, 1215, 724, 1047, 1111, 78, 632, 1131, 1306, 988, 427, 992, 132, 420, 437, 774, 185, 675, 293, 972, 928, 494, 380, 494, 377, 887, 932, 1009, 774, 471, 930, 185, 78, 1111, 768, 515, 489, 1250, 403, 64, 651, 1362, 1147, 251, 68, 1201, 1277, 1308, 1466, 1308, 1113, 935, 230, 729, 469, 238, 61, 730, 809, 927, 737, 1482]\n",
      "Result path:  [1482, 730, 737, 982, 290, 315, 772, 350, 255, 694, 270, 1198, 331, 854, 327, 770, 697, 317, 430, 790, 1036, 1043, 1321, 871, 742, 1314, 101, 1124, 554, 779, 745, 603, 711, 476, 199, 1081, 1202, 422, 44, 472, 910, 1082, 1139, 729, 469, 782, 682, 727, 785, 460, 738, 662, 1112, 600, 870, 949, 673, 856, 701, 740, 660, 665, 678, 1101, 447, 42, 539, 228, 275, 845, 373, 124, 123, 987, 846, 1020, 38, 997, 823, 659, 890, 758, 457, 879, 375, 1375, 254, 1051, 408, 962, 91, 220, 1024, 425, 825, 1184, 911, 1379, 1008, 703, 459, 29, 386, 131, 142, 974, 748, 353, 684, 998, 300, 765, 728, 51, 832, 875, 316, 157, 45, 842, 689, 762, 1030, 878, 793, 824, 1, 821, 4, 954, 1114, 467, 189, 466, 1380, 864, 975, 922, 661, 882, 84, 35, 731, 704, 622, 431, 834, 417, 863, 601, 150, 599, 1048, 297, 679, 137, 1040, 1005, 186, 43, 1027, 686, 323, 118, 951, 612, 119, 117, 677, 705, 53, 726, 413, 715, 859, 672, 663, 841, 1023, 1059, 634, 993, 176, 322, 102, 843, 1337, 668, 613, 414, 572, 288, 952, 709, 66, 594, 1022, 666, 847, 1021, 674, 749, 239, 454, 81, 475, 1054, 289, 753, 746, 559, 617, 32, 788, 957, 787, 309, 1481, 256, 893, 1128, 354, 107, 1325, 1409, 111, 31, 1044, 224, 1151, 1366, 584, 1173, 1268, 1316, 1399, 889, 216, 1200, 1223, 953, 853, 696, 1191, 1069, 552, 722, 648, 942, 479, 750, 1218, 860, 1244, 167, 1292, 518, 237, 1130, 470, 897, 1186, 1343, 421, 411, 1210, 245, 1286, 1313, 533, 984, 1066, 1229, 154, 647, 1324, 769, 1227, 7, 977, 276, 83, 79, 980, 301, 1340, 1029, 983, 1136, 34, 80, 82, 399, 933, 971, 40, 105, 876, 126, 989, 1224, 1084, 1421, 1164, 1283, 1435, 446, 558, 562, 835, 1284, 1432, 1465, 1386, 1455, 1254, 495, 563, 208, 1448, 1412, 587, 829, 1019, 161, 1049, 1175, 250, 2, 48, 1167, 156, 710, 458, 343, 400, 71, 1042, 257, 669, 481, 866, 959, 816, 1342, 555, 246, 895, 258, 537, 1126, 1134, 217, 798, 667, 299, 1045, 1158, 828, 819, 792, 773, 134, 1097, 1363, 349, 576, 50, 492, 184, 981, 269, 755, 908, 109, 688, 398, 183, 240, 526, 319, 931, 520, 937, 732, 191, 401, 266, 264, 1438, 1457, 1419, 1182, 633, 804, 513, 964, 1220, 1383, 580, 1072, 1344, 346, 1062, 741, 691, 209, 960, 1109, 1181, 840, 901, 1299, 529, 292, 511, 1394, 452, 1153, 1219, 453, 365, 1304, 898, 664, 795, 1016, 611, 695, 642, 362, 226, 767, 822, 707, 360, 764, 923, 685, 76, 683, 956, 194, 1050, 200, 607, 1061, 1071, 172, 1183, 451, 145, 225, 1149, 1196, 880, 313, 464, 1133, 168, 712, 423, 144, 1087, 921, 355, 405, 95, 1052, 796, 676, 936, 733, 1376, 174, 143, 429, 797, 1483, 608, 325, 1349, 332, 940, 33, 512, 801, 857, 1188, 1346, 65, 1221, 1041, 510, 211, 148, 514, 9, 501, 807, 1177, 356, 370, 565, 1079, 372, 324, 653, 1427, 410, 1275, 409, 351, 60, 1444, 639, 1368, 210, 1395, 1414, 1264, 1425, 944, 1334, 1228, 96, 894, 291, 900, 69, 163, 1367, 503, 1408, 812, 1028, 892, 329, 188, 233, 1017, 1348, 628, 46, 1194, 1142, 508, 1103, 637, 1352, 1257, 1099, 337, 1410, 115, 1462, 13, 1140, 364, 482, 1086, 1189, 122, 1236, 934, 523, 195, 926, 739, 802, 903, 609, 713, 766, 1013, 304, 108, 1002, 1185, 166, 884, 70, 886, 1217, 455, 862, 1201, 1110, 1329, 334, 990, 1157, 1160, 1138, 1293, 407, 16, 839, 67, 487, 432, 789, 992, 427, 657, 1003, 57, 917, 1372, 1147, 1216, 251, 298, 231, 1180, 1083, 553, 902, 1469, 73, 1280, 1402, 1330, 1323, 1442, 338, 1476, 164, 566, 165, 1447, 885, 1214, 596, 490, 333, 919, 1328, 1258, 1331, 1459, 1416, 1347, 1417, 534, 1233, 320, 1397, 1420, 1458, 1391, 1374, 232, 1341, 1400, 1389, 1470, 381, 139, 532, 1396, 644, 1170, 1371, 376, 1302, 624, 1297, 1477, 1065, 1115, 1365, 1309, 1413, 1269, 1274, 493, 214, 786, 441, 265, 540, 388, 1450, 443, 528, 1235, 63, 12, 973, 1303, 1034, 1282, 1085, 1285, 1119, 445, 1155, 1256, 120, 578, 590, 1230, 170, 1369, 1279, 1385, 1001, 1152, 1166, 907, 1273, 1203, 1361, 283, 855, 521, 1179, 1445, 579, 544, 1424, 1428, 1291, 302, 1440, 1242, 1301, 1246, 1266, 736, 99, 1370, 658, 103, 699, 461, 1249, 277, 1353, 391, 128, 978, 203, 74, 1356, 227, 1443, 8, 995, 311, 945, 1327, 966, 1247, 1237, 1262, 1150, 1014, 1360, 1411, 1289, 1449, 652, 1318, 402, 397, 1265, 525, 1452, 896, 1278, 504, 605, 848, 1473, 192, 546, 1305, 62, 106, 1199, 778, 146, 626, 1433, 1312, 1453, 295, 1080, 468, 556, 396, 1422, 1345, 1100, 1270, 279, 497, 56, 850, 1296, 1317, 1276, 129, 1381, 573, 756, 1436, 1225, 173, 543, 390, 296, 1315, 1454, 92, 1205, 1255, 284, 382, 444, 1169, 1122, 591, 1056, 645, 1393, 1141, 1332, 1154, 557, 1089, 1018, 1127, 999, 433, 868, 1193, 943, 190, 1093, 1335, 524, 1403, 985, 560, 206, 976, 1261, 1405, 22, 506, 253, 551, 1487, 1271, 970, 621, 1485, 568, 229, 379, 619, 1035, 1398, 1472, 1281, 162, 589, 85, 1392, 395, 342, 160, 592, 385, 1474, 1430, 527, 530, 630, 1423, 1439, 1272, 1478, 223, 147, 278, 618, 335, 567, 1174, 575, 267, 387, 268, 1163, 681, 1165, 1171, 909, 287, 207, 743, 1057, 1055, 17, 680, 690, 306, 1063, 1240, 1320, 125, 1070, 1238, 23, 345, 383, 159, 204, 1267, 259, 86, 480, 25, 305, 872, 221, 844, 113, 369, 814, 1388, 1098, 1390, 1401, 1475, 1460, 1467, 273, 1461, 1434, 1441, 646, 28, 1437, 260, 1468, 1471, 280, 1364, 545, 1456, 1333, 996, 564, 1135, 285, 585, 1446, 1031, 583, 261, 1336, 1290, 1479, 347, 1319, 1358, 536, 130, 1322, 55, 1195, 629, 357, 484, 1480, 1378, 692, 1032, 776, 656, 808, 404, 574, 505, 635, 794, 955, 550, 1172, 891, 569, 1463, 535, 1252, 1310, 509, 215, 1096, 1156, 1232, 1161, 112, 1288, 1077, 548, 507, 1418, 281, 20, 700, 1241, 1415, 1259, 920, 1208, 757, 477, 1015, 631, 1464, 906, 1351, 158, 1359, 263, 1159, 654, 393, 1355, 72, 636, 478, 516, 27, 205, 286, 570, 243, 883, 777, 1263, 1451, 1382, 1406, 352, 1429, 1091, 438, 581, 1407, 888, 1092, 961, 561, 638, 502, 213, 1311, 348, 1426, 1176, 344, 991, 924, 374, 979, 734, 1222, 968, 419, 577, 538, 1326, 341, 1431, 97, 1373, 1404, 418, 899, 1078, 588, 1339, 1357, 1088, 473, 282, 218, 30, 483, 1234, 1162, 586, 136, 318, 361, 725, 219, 1384, 90, 650, 542, 426, 541, 448, 359, 358, 14, 1245, 272, 820, 1108, 593, 412, 1260, 222, 175, 415, 1484, 196, 759, 946, 155, 805, 874, 604, 938, 249, 939, 1026, 1039, 151, 127, 614, 140, 141, 416, 641, 1038, 800, 986, 15, 1212, 37, 606, 869, 994, 1116, 760, 571, 1213, 41, 169, 326, 171, 18, 780, 547, 153, 428, 178, 826, 89, 179, 241, 110, 706, 442, 1006, 595, 1095, 149, 1204, 1007, 366, 754, 340, 1037, 771, 182, 670, 723, 94, 21, 54, 456, 735, 598, 531, 913, 271, 615, 52, 698, 58, 462, 328, 1058, 434, 435, 1125, 132, 321, 135, 1009, 180, 488, 719, 799, 861, 918, 363, 378, 806, 244, 1137, 436, 912, 202, 763, 26, 248, 463, 649, 1207, 234, 718, 496, 837, 198, 747, 838, 717, 6, 687, 197, 11, 1033, 485, 1338, 201, 339, 138, 751, 752, 1148, 610, 925, 1004, 10, 114, 1377, 1010, 1132, 904, 803, 152, 242, 330, 851, 77, 88, 336, 1104, 367, 1307, 784, 308, 1143, 791, 1231, 916, 744, 5, 865, 121, 500, 75, 439, 721, 640, 849, 969, 877, 392, 582, 702, 643, 905, 1178, 1025, 368, 810, 1118, 1121, 465, 1106, 1012, 450, 967, 693, 104, 1102, 915, 1120, 781, 449, 813, 620, 294, 1354, 193, 714, 177, 950, 1168, 310, 1145, 858, 1190, 49, 1046, 720, 424, 941, 187, 314, 1068, 133, 87, 252, 47, 93, 1243, 1206, 3, 303, 19, 627, 597, 811, 1294, 708, 1064, 867, 515, 235, 491, 1000, 1123, 371, 486, 236, 836, 406, 100, 394, 1197, 440, 247, 783, 929, 958, 312, 24, 1146, 831, 963, 761, 602, 815, 1298, 474, 181, 817, 307, 914, 852, 1211, 1287, 212, 1253, 1094, 98, 1144, 1387, 1187, 1067, 498, 947, 1239, 833, 36, 1192, 1074, 262, 616, 827, 59, 1105, 1350, 775, 499, 1107, 1076, 1209, 1300, 517, 818, 116, 1060, 1248, 948, 873, 549, 1486, 1295, 655, 1090, 522, 1117, 1251, 389, 716, 830, 623, 1226, 625, 1073, 1129, 274, 965, 384, 881, 39, 671, 519, 1075, 1053, 1011, 1215, 724, 1047, 1111, 78, 632, 1131, 1306, 988, 420, 437, 774, 185, 675, 293, 972, 928, 494, 380, 377, 887, 932, 471, 930, 768, 489, 1250, 403, 64, 651, 1362, 68, 1277, 1308, 1466, 1113, 935, 230, 238, 61, 809, 927, 1482, 1482]\n",
      "Result length of the path:  4.93153429576208\n"
     ]
    }
   ],
   "source": [
    "def tsp(stations):\n",
    "    # build a graph\n",
    "    G = build_graph(stations)\n",
    "    print(\"Graph: \", G)\n",
    "\n",
    "    # build a minimum spanning tree\n",
    "    MSTree = minimum_spanning_tree(G)\n",
    "    print(\"MSTree: \", MSTree)\n",
    "\n",
    "    # find odd vertexes\n",
    "    odd_vertexes = find_odd_vertexes(MSTree)\n",
    "    print(\"Odd vertexes in MSTree: \", odd_vertexes)\n",
    "\n",
    "    # add minimum weight matching edges to MST\n",
    "    minimum_weight_matching(MSTree, G, odd_vertexes)\n",
    "    print(\"Minimum weight matching: \", MSTree)\n",
    "\n",
    "    # find an eulerian tour\n",
    "    eulerian_tour = find_eulerian_tour(MSTree, G)\n",
    "\n",
    "    print(\"Eulerian tour: \", eulerian_tour)\n",
    "\n",
    "    current = eulerian_tour[0]\n",
    "    path = [current]\n",
    "    visited = [False] * len(eulerian_tour)\n",
    "    visited[0] = True\n",
    "\n",
    "    length = 0\n",
    "\n",
    "    for v in eulerian_tour[1:]:\n",
    "        if not visited[v]:\n",
    "            path.append(v)\n",
    "            visited[v] = True\n",
    "\n",
    "            length += G[current][v]\n",
    "            current = v\n",
    "\n",
    "    path.append(path[0])\n",
    "\n",
    "    print(\"Result path: \", path)\n",
    "    print(\"Result length of the path: \", length)\n",
    "\n",
    "    return length, path\n",
    "\n",
    "\n",
    "def get_length(x1, y1, x2, y2):\n",
    "    return ((x1 - x2) ** 2 + (y1 - y2) ** 2) ** (1.0 / 2.0)\n",
    "\n",
    "\n",
    "def build_graph(stations):\n",
    "    graph = {}\n",
    "    for i in range(len(stations)):\n",
    "        for j in range(len(stations)):\n",
    "            if i != j:\n",
    "                if i not in graph:\n",
    "                    graph[i] = {}\n",
    "                graph[i][j] = get_edge_cost(stations[i], stations[j])\n",
    "    return graph\n",
    "\n",
    "\n",
    "class UnionFind:\n",
    "    def __init__(self):\n",
    "        self.weights = {}\n",
    "        self.parents = {}\n",
    "\n",
    "    def __getitem__(self, object):\n",
    "        if object not in self.parents:\n",
    "            self.parents[object] = object\n",
    "            self.weights[object] = 1\n",
    "            return object\n",
    "\n",
    "        # find path of objects leading to the root\n",
    "        path = [object]\n",
    "        root = self.parents[object]\n",
    "        while root != path[-1]:\n",
    "            path.append(root)\n",
    "            root = self.parents[root]\n",
    "\n",
    "        # compress the path and return\n",
    "        for ancestor in path:\n",
    "            self.parents[ancestor] = root\n",
    "        return root\n",
    "\n",
    "    def __iter__(self):\n",
    "        return iter(self.parents)\n",
    "\n",
    "    def union(self, *objects):\n",
    "        roots = [self[x] for x in objects]\n",
    "        heaviest = max([(self.weights[r], r) for r in roots])[1]\n",
    "        for r in roots:\n",
    "            if r != heaviest:\n",
    "                self.weights[heaviest] += self.weights[r]\n",
    "                self.parents[r] = heaviest\n",
    "\n",
    "\n",
    "def minimum_spanning_tree(G):\n",
    "    tree = []\n",
    "    subtrees = UnionFind()\n",
    "    for W, u, v in sorted((G[u][v], u, v) for u in G for v in G[u]):\n",
    "        if subtrees[u] != subtrees[v]:\n",
    "            tree.append((u, v, W))\n",
    "            subtrees.union(u, v)\n",
    "\n",
    "    return tree\n",
    "\n",
    "\n",
    "def find_odd_vertexes(MST):\n",
    "    tmp_g = {}\n",
    "    vertexes = []\n",
    "    for edge in MST:\n",
    "        if edge[0] not in tmp_g:\n",
    "            tmp_g[edge[0]] = 0\n",
    "\n",
    "        if edge[1] not in tmp_g:\n",
    "            tmp_g[edge[1]] = 0\n",
    "\n",
    "        tmp_g[edge[0]] += 1\n",
    "        tmp_g[edge[1]] += 1\n",
    "\n",
    "    for vertex in tmp_g:\n",
    "        if tmp_g[vertex] % 2 == 1:\n",
    "            vertexes.append(vertex)\n",
    "\n",
    "    return vertexes\n",
    "\n",
    "\n",
    "def minimum_weight_matching(MST, G, odd_vert):\n",
    "    import random\n",
    "    random.shuffle(odd_vert)\n",
    "\n",
    "    while odd_vert:\n",
    "        v = odd_vert.pop()\n",
    "        length = float(\"inf\")\n",
    "        u = 1\n",
    "        closest = 0\n",
    "        for u in odd_vert:\n",
    "            if v != u and G[v][u] < length:\n",
    "                length = G[v][u]\n",
    "                closest = u\n",
    "\n",
    "        MST.append((v, closest, length))\n",
    "        odd_vert.remove(closest)\n",
    "\n",
    "\n",
    "def find_eulerian_tour(MatchedMSTree, G):\n",
    "    # find neigbours\n",
    "    neighbours = {}\n",
    "    for edge in MatchedMSTree:\n",
    "        if edge[0] not in neighbours:\n",
    "            neighbours[edge[0]] = []\n",
    "\n",
    "        if edge[1] not in neighbours:\n",
    "            neighbours[edge[1]] = []\n",
    "\n",
    "        neighbours[edge[0]].append(edge[1])\n",
    "        neighbours[edge[1]].append(edge[0])\n",
    "\n",
    "    # print(\"Neighbours: \", neighbours)\n",
    "\n",
    "    # finds the hamiltonian circuit\n",
    "    start_vertex = MatchedMSTree[0][0]\n",
    "    EP = [neighbours[start_vertex][0]]\n",
    "\n",
    "    while len(MatchedMSTree) > 0:\n",
    "        for i, v in enumerate(EP):\n",
    "            if len(neighbours[v]) > 0:\n",
    "                break\n",
    "\n",
    "        while len(neighbours[v]) > 0:\n",
    "            w = neighbours[v][0]\n",
    "\n",
    "            remove_edge_from_matchedMST(MatchedMSTree, v, w)\n",
    "\n",
    "            del neighbours[v][(neighbours[v].index(w))]\n",
    "            del neighbours[w][(neighbours[w].index(v))]\n",
    "\n",
    "            i += 1\n",
    "            EP.insert(i, w)\n",
    "\n",
    "            v = w\n",
    "\n",
    "    return EP\n",
    "\n",
    "\n",
    "def remove_edge_from_matchedMST(MatchedMST, v1, v2):\n",
    "\n",
    "    for i, item in enumerate(MatchedMST):\n",
    "        if (item[0] == v2 and item[1] == v1) or (item[0] == v1 and item[1] == v2):\n",
    "            del MatchedMST[i]\n",
    "\n",
    "    return MatchedMST\n",
    "\n",
    "\n",
    "\n",
    "\n",
    "\n",
    "# edges = [[1380, 939], [2848, 96], [3510, 1671], [457, 334], [3888, 666], [984, 965], [2721, 1482], [1286, 525],\n",
    "#              [2716, 1432], [738, 1325], [1251, 1832], [2728, 1698], [3815, 169], [3683, 1533], [1247, 1945], [123, 862],\n",
    "#              [1234, 1946], [252, 1240], [611, 673], [2576, 1676], [928, 1700], [53, 857], [1807, 1711], [274, 1420],\n",
    "#              [2574, 946], [178, 24], [2678, 1825], [1795, 962], [3384, 1498], [3520, 1079], [1256, 61], [1424, 1728],\n",
    "#              [3913, 192], [3085, 1528], [2573, 1969], [463, 1670], [3875, 598], [298, 1513], [3479, 821], [2542, 236],\n",
    "#              [3955, 1743], [1323, 280], [3447, 1830], [2936, 337], [1621, 1830], [3373, 1646], [1393, 1368],\n",
    "#              [3874, 1318], [938, 955], [3022, 474], [2482, 1183], [3854, 923], [376, 825], [2519, 135], [2945, 1622],\n",
    "#              [953, 268], [2628, 1479], [2097, 981], [890, 1846], [2139, 1806], [2421, 1007], [2290, 1810], [1115, 1052],\n",
    "#              [2588, 302], [327, 265], [241, 341], [1917, 687], [2991, 792], [2573, 599], [19, 674], [3911, 1673],\n",
    "#              [872, 1559], [2863, 558], [929, 1766], [839, 620], [3893, 102], [2178, 1619], [3822, 899], [378, 1048],\n",
    "#              [1178, 100], [2599, 901], [3416, 143], [2961, 1605], [611, 1384], [3113, 885], [2597, 1830], [2586, 1286],\n",
    "#              [161, 906], [1429, 134], [742, 1025], [1625, 1651], [1187, 706], [1787, 1009], [22, 987], [3640, 43],\n",
    "#              [3756, 882], [776, 392], [1724, 1642], [198, 1810], [3950, 1558]]\n",
    "\n",
    "cost, path = tsp(stations)\n",
    "\n",
    "# tsp([[1, 1], [2, 5], [8, 0]])\n",
    "\n",
    "#\n",
    "# tsp([\n",
    "#     [0, 0],\n",
    "#     [3, 0],\n",
    "#     [6, 0],\n",
    "#\n",
    "#     [0, 3],\n",
    "#     [3, 3],\n",
    "#     [6, 3],\n",
    "#\n",
    "#     [0, 6],\n",
    "#     [3, 6],\n",
    "#     [6, 6],\n",
    "#\n",
    "# ])\n"
   ]
  },
  {
   "cell_type": "code",
   "execution_count": 46,
   "metadata": {},
   "outputs": [
    {
     "data": {
      "text/plain": [
       "1489"
      ]
     },
     "execution_count": 46,
     "metadata": {},
     "output_type": "execute_result"
    }
   ],
   "source": [
    "len(path)"
   ]
  },
  {
   "cell_type": "code",
   "execution_count": 47,
   "metadata": {},
   "outputs": [
    {
     "data": {
      "text/plain": [
       "4.93153429576208"
      ]
     },
     "execution_count": 47,
     "metadata": {},
     "output_type": "execute_result"
    }
   ],
   "source": [
    "cost"
   ]
  },
  {
   "cell_type": "code",
   "execution_count": null,
   "metadata": {},
   "outputs": [],
   "source": []
  }
 ],
 "metadata": {
  "kernelspec": {
   "display_name": "Python 3",
   "language": "python",
   "name": "python3"
  },
  "language_info": {
   "codemirror_mode": {
    "name": "ipython",
    "version": 3
   },
   "file_extension": ".py",
   "mimetype": "text/x-python",
   "name": "python",
   "nbconvert_exporter": "python",
   "pygments_lexer": "ipython3",
   "version": "3.7.4"
  }
 },
 "nbformat": 4,
 "nbformat_minor": 5
}
