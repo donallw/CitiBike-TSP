{
 "cells": [
  {
   "cell_type": "markdown",
   "id": "98961e78",
   "metadata": {},
   "source": [
    "# CitiBike TSP\n",
    "**Algorithms Group 50**\\\n",
    "Donal Lowsley-Williams \\\n",
    "Joan La Rosa \\\n",
    "Isaac Lichter \\\n",
    "Weidong Gao \n",
    "\n",
    "We will be conducting the traveling salesman problem on New York City citibike data. "
   ]
  },
  {
   "cell_type": "markdown",
   "id": "044c5479",
   "metadata": {},
   "source": [
    "### Imports\n",
    "Will we be implementing these algorithms by hand, so we just need libraries for data loading and export, matrix manipulation functions, and some data exploration. "
   ]
  },
  {
   "cell_type": "code",
   "execution_count": 1,
   "id": "12119b49",
   "metadata": {},
   "outputs": [],
   "source": [
    "import csv\n",
    "import json\n",
    "import numpy as np\n",
    "import pandas as pd"
   ]
  },
  {
   "cell_type": "markdown",
   "id": "06aa2897",
   "metadata": {},
   "source": [
    "### The Data\n",
    "We will get the data from CitiBike's openly available [System Data](https://s3.amazonaws.com/tripdata/index.html). The data we are using was the most recent as of this notebook's creation date, and was published by CitiBike on [**Oct 4th 2021, 01:26:29 pm**](https://s3.amazonaws.com/tripdata/202109-citibike-tripdata.csv.zip). This is the data of all rides taken on the CitiBike system during the month of September 2021. However, the preprocessing should work for any selection of the data from the system data, since they all should follow the same structure. \n",
    "\n",
    "Please store the data in a folder named **\"Data\"** with the name **\"citibike-data.csv\"**:\\\n",
    "**\"Data/citibike-data.csv**"
   ]
  },
  {
   "cell_type": "code",
   "execution_count": 2,
   "id": "055d1a5b",
   "metadata": {},
   "outputs": [
    {
     "name": "stderr",
     "output_type": "stream",
     "text": [
      "/Library/Frameworks/Python.framework/Versions/3.9/lib/python3.9/site-packages/IPython/core/interactiveshell.py:3441: DtypeWarning: Columns (7) have mixed types.Specify dtype option on import or set low_memory=False.\n",
      "  exec(code_obj, self.user_global_ns, self.user_ns)\n"
     ]
    }
   ],
   "source": [
    "raw_data = pd.read_csv('Data/citibike-data.csv')"
   ]
  },
  {
   "cell_type": "markdown",
   "id": "c84d75c5",
   "metadata": {},
   "source": [
    "### Preprocessing\n",
    "In order to preprocess the data, "
   ]
  },
  {
   "cell_type": "code",
   "execution_count": 4,
   "id": "2bb68e4e",
   "metadata": {},
   "outputs": [
    {
     "data": {
      "text/plain": [
       "'end_station_id'"
      ]
     },
     "execution_count": 4,
     "metadata": {},
     "output_type": "execute_result"
    }
   ],
   "source": [
    "raw_data.columns[7]"
   ]
  },
  {
   "cell_type": "code",
   "execution_count": null,
   "id": "55762fca",
   "metadata": {},
   "outputs": [],
   "source": [
    "\"\""
   ]
  }
 ],
 "metadata": {
  "kernelspec": {
   "display_name": "Python 3 (ipykernel)",
   "language": "python",
   "name": "python3"
  },
  "language_info": {
   "codemirror_mode": {
    "name": "ipython",
    "version": 3
   },
   "file_extension": ".py",
   "mimetype": "text/x-python",
   "name": "python",
   "nbconvert_exporter": "python",
   "pygments_lexer": "ipython3",
   "version": "3.9.1"
  }
 },
 "nbformat": 4,
 "nbformat_minor": 5
}
