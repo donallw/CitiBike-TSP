{
 "cells": [
  {
   "cell_type": "markdown",
   "metadata": {},
   "source": [
    "# CitiBike TSP\n",
    "**Algorithms Group 50**\\\n",
    "Donal Lowsley-Williams \\\n",
    "Joan La Rosa \\\n",
    "Isaac Lichter \\\n",
    "Weidong Gao \n",
    "\n",
    "We will be conducting the traveling salesman problem on New York City citibike data. We will be using each CitiBike station as the nodes in our graph, and represent the edge costs by the average time it takes to bike from one station to another. Edges will only include those rides in the CitiBike data that have actually occurred - in other words, if no ride in the data started at station A and ended at station B, we will not include that edge. This adds to the realism of the problem as it would be unlikely to take that edge anyways. Moreover, we will only have edges from one station to another - not one station to itself, as there are occurences of rides like this in the CitiBike data."
   ]
  },
  {
   "cell_type": "markdown",
   "metadata": {},
   "source": [
    "### Imports\n",
    "Will we be implementing these algorithms by hand, so we just need libraries for data loading and export, matrix manipulation functions, and some data exploration. "
   ]
  },
  {
   "cell_type": "code",
   "execution_count": 1,
   "metadata": {},
   "outputs": [],
   "source": [
    "import csv\n",
    "import json\n",
    "import numpy as np\n",
    "import pandas as pd\n",
    "import time"
   ]
  },
  {
   "cell_type": "markdown",
   "metadata": {},
   "source": [
    "# The Data\n",
    "We will get the data from CitiBike's openly available [System Data](https://s3.amazonaws.com/tripdata/index.html). The data we are using was the most recent as of this notebook's creation date, and was published by CitiBike on [**Oct 4th 2021, 01:26:29 pm**](https://s3.amazonaws.com/tripdata/202109-citibike-tripdata.csv.zip). This is the data of all rides taken on the CitiBike system during the month of September 2021. However, the preprocessing should work for any selection of the data from the system data, since they all should follow the same structure. \n",
    "\n",
    "Please store the data in a folder named **\"Data\"** with the name **\"citibike-data.csv\"**, like so: **\"Data/citibike-data.csv**"
   ]
  },
  {
   "cell_type": "code",
   "execution_count": 2,
   "metadata": {},
   "outputs": [
    {
     "name": "stderr",
     "output_type": "stream",
     "text": [
      "/Users/wdgao/opt/anaconda3/lib/python3.7/site-packages/IPython/core/interactiveshell.py:3058: DtypeWarning: Columns (7) have mixed types. Specify dtype option on import or set low_memory=False.\n",
      "  interactivity=interactivity, compiler=compiler, result=result)\n"
     ]
    }
   ],
   "source": [
    "df = pd.read_csv('Data/citibike-data.csv',\n",
    "                 parse_dates=['started_at','ended_at'])"
   ]
  },
  {
   "cell_type": "markdown",
   "metadata": {},
   "source": [
    "## Preprocessing\n",
    "In order to preprocess the data, \n",
    "\n",
    "### Data Cleaning\n",
    "\n",
    "First lets take a look at the length of our data."
   ]
  },
  {
   "cell_type": "code",
   "execution_count": 3,
   "metadata": {},
   "outputs": [
    {
     "data": {
      "text/plain": [
       "3280221"
      ]
     },
     "execution_count": 3,
     "metadata": {},
     "output_type": "execute_result"
    }
   ],
   "source": [
    "len(df)"
   ]
  },
  {
   "cell_type": "markdown",
   "metadata": {},
   "source": [
    "Now, lets see what the column was that caused data type issues. We can see from the error above that it was column 7, which corresponds to the `end_station_id`. "
   ]
  },
  {
   "cell_type": "code",
   "execution_count": 4,
   "metadata": {},
   "outputs": [
    {
     "data": {
      "text/plain": [
       "'end_station_id'"
      ]
     },
     "execution_count": 4,
     "metadata": {},
     "output_type": "execute_result"
    }
   ],
   "source": [
    "df.columns[7]"
   ]
  },
  {
   "cell_type": "markdown",
   "metadata": {},
   "source": [
    "In the data, we can see by looking at the csv file that these values are typically float values, so we can cast them to a numeric value. We set any values that can't be cast to a numeric value to `NaN` by setting `errors='coerce'`. "
   ]
  },
  {
   "cell_type": "code",
   "execution_count": 5,
   "metadata": {},
   "outputs": [],
   "source": [
    "df['end_station_id'] = df['end_station_id'].apply(pd.to_numeric, errors='coerce')"
   ]
  },
  {
   "cell_type": "markdown",
   "metadata": {},
   "source": [
    "We drop all null values. (those with `NaN`) This includes not just those with a faulty `end_station_id` value but those with errors elsewhere. We want to use only entries with full and complete data."
   ]
  },
  {
   "cell_type": "code",
   "execution_count": 6,
   "metadata": {},
   "outputs": [],
   "source": [
    "df = df.dropna()"
   ]
  },
  {
   "cell_type": "markdown",
   "metadata": {},
   "source": [
    "We can see that we dropped approx. 15K entries that had data issues or invalid end stations. This is negligible in the grand scheme of the project, given that we have about 3.2M entries. "
   ]
  },
  {
   "cell_type": "code",
   "execution_count": 7,
   "metadata": {},
   "outputs": [
    {
     "data": {
      "text/plain": [
       "3264732"
      ]
     },
     "execution_count": 7,
     "metadata": {},
     "output_type": "execute_result"
    }
   ],
   "source": [
    "len(df)"
   ]
  },
  {
   "cell_type": "markdown",
   "metadata": {},
   "source": [
    "Let's take a peek at our data and its types. We can see that many use the dtype object, which pandas uses to refer to strings with varying length. We can leave this be. We have a couple date items, which we set when reading the csv file. The remaining data is all float data. "
   ]
  },
  {
   "cell_type": "code",
   "execution_count": 8,
   "metadata": {},
   "outputs": [
    {
     "name": "stdout",
     "output_type": "stream",
     "text": [
      "<class 'pandas.core.frame.DataFrame'>\n",
      "Int64Index: 3264732 entries, 0 to 3280220\n",
      "Data columns (total 13 columns):\n",
      "ride_id               object\n",
      "rideable_type         object\n",
      "started_at            datetime64[ns]\n",
      "ended_at              datetime64[ns]\n",
      "start_station_name    object\n",
      "start_station_id      float64\n",
      "end_station_name      object\n",
      "end_station_id        float64\n",
      "start_lat             float64\n",
      "start_lng             float64\n",
      "end_lat               float64\n",
      "end_lng               float64\n",
      "member_casual         object\n",
      "dtypes: datetime64[ns](2), float64(6), object(5)\n",
      "memory usage: 348.7+ MB\n"
     ]
    }
   ],
   "source": [
    "df.info()"
   ]
  },
  {
   "cell_type": "markdown",
   "metadata": {},
   "source": [
    "Let's conduct a quick sanity check to ensure the data is properly cleaned:"
   ]
  },
  {
   "cell_type": "code",
   "execution_count": 9,
   "metadata": {
    "scrolled": true
   },
   "outputs": [
    {
     "data": {
      "text/plain": [
       "False"
      ]
     },
     "execution_count": 9,
     "metadata": {},
     "output_type": "execute_result"
    }
   ],
   "source": [
    "len(df['start_station_id'].unique()) == len(df['start_station_name'].unique())"
   ]
  },
  {
   "cell_type": "markdown",
   "metadata": {},
   "source": [
    "Uh-oh. Lets dig into this to see what the problem is. Lets look at these values. "
   ]
  },
  {
   "cell_type": "code",
   "execution_count": 10,
   "metadata": {},
   "outputs": [
    {
     "name": "stdout",
     "output_type": "stream",
     "text": [
      "start station id uniques:  1488\n",
      "start station name uniques:  1493\n",
      "False\n"
     ]
    }
   ],
   "source": [
    "print('start station id uniques: ',len(df['start_station_id'].unique()))\n",
    "print('start station name uniques: ',len(df['start_station_name'].unique()))\n",
    "print(len(df['start_station_id'].unique()) == len(df['start_station_name'].unique()))"
   ]
  },
  {
   "cell_type": "markdown",
   "metadata": {},
   "source": [
    "So we see that there are more names than there are id's. Lets make a copy of the columns in the data causing an issue. "
   ]
  },
  {
   "cell_type": "code",
   "execution_count": 11,
   "metadata": {},
   "outputs": [],
   "source": [
    "sample = df[['start_station_id', 'start_station_name']].copy().drop_duplicates()"
   ]
  },
  {
   "cell_type": "markdown",
   "metadata": {},
   "source": [
    "Next, we are going to pull each unique row by dropping the duplicates from this sample. This will let us examing all the unique start station id / name pairs. Next, we can count the frequency of each id occuring - since we know there are less id's than there are names. We can then sort this and view the id's that have more than one name."
   ]
  },
  {
   "cell_type": "code",
   "execution_count": 12,
   "metadata": {},
   "outputs": [
    {
     "data": {
      "text/html": [
       "<div>\n",
       "<style scoped>\n",
       "    .dataframe tbody tr th:only-of-type {\n",
       "        vertical-align: middle;\n",
       "    }\n",
       "\n",
       "    .dataframe tbody tr th {\n",
       "        vertical-align: top;\n",
       "    }\n",
       "\n",
       "    .dataframe thead th {\n",
       "        text-align: right;\n",
       "    }\n",
       "</style>\n",
       "<table border=\"1\" class=\"dataframe\">\n",
       "  <thead>\n",
       "    <tr style=\"text-align: right;\">\n",
       "      <th></th>\n",
       "      <th>start_station_name</th>\n",
       "    </tr>\n",
       "    <tr>\n",
       "      <th>start_station_id</th>\n",
       "      <th></th>\n",
       "    </tr>\n",
       "  </thead>\n",
       "  <tbody>\n",
       "    <tr>\n",
       "      <td>5303.08</td>\n",
       "      <td>1</td>\n",
       "    </tr>\n",
       "    <tr>\n",
       "      <td>5303.06</td>\n",
       "      <td>1</td>\n",
       "    </tr>\n",
       "    <tr>\n",
       "      <td>5300.06</td>\n",
       "      <td>1</td>\n",
       "    </tr>\n",
       "    <tr>\n",
       "      <td>5300.05</td>\n",
       "      <td>1</td>\n",
       "    </tr>\n",
       "    <tr>\n",
       "      <td>8841.03</td>\n",
       "      <td>1</td>\n",
       "    </tr>\n",
       "    <tr>\n",
       "      <td>5382.07</td>\n",
       "      <td>2</td>\n",
       "    </tr>\n",
       "    <tr>\n",
       "      <td>4488.09</td>\n",
       "      <td>2</td>\n",
       "    </tr>\n",
       "    <tr>\n",
       "      <td>5190.09</td>\n",
       "      <td>2</td>\n",
       "    </tr>\n",
       "    <tr>\n",
       "      <td>5422.04</td>\n",
       "      <td>2</td>\n",
       "    </tr>\n",
       "    <tr>\n",
       "      <td>4781.05</td>\n",
       "      <td>2</td>\n",
       "    </tr>\n",
       "  </tbody>\n",
       "</table>\n",
       "</div>"
      ],
      "text/plain": [
       "                  start_station_name\n",
       "start_station_id                    \n",
       "5303.08                            1\n",
       "5303.06                            1\n",
       "5300.06                            1\n",
       "5300.05                            1\n",
       "8841.03                            1\n",
       "5382.07                            2\n",
       "4488.09                            2\n",
       "5190.09                            2\n",
       "5422.04                            2\n",
       "4781.05                            2"
      ]
     },
     "execution_count": 12,
     "metadata": {},
     "output_type": "execute_result"
    }
   ],
   "source": [
    "sample.groupby('start_station_id').count().sort_values('start_station_name').tail(10)"
   ]
  },
  {
   "cell_type": "markdown",
   "metadata": {},
   "source": [
    "Now we see the problematic values are the last five entries in the above dataframe. We can iterate over these and observe what might be the problem by converting them to raw NumPy arrays. "
   ]
  },
  {
   "cell_type": "code",
   "execution_count": 13,
   "metadata": {},
   "outputs": [
    {
     "name": "stdout",
     "output_type": "stream",
     "text": [
      "Entry 0 ['Forsyth St\\\\t& Grand St' 'Forsyth St\\t& Grand St']\n",
      "Entry 1 ['Boerum Pl\\\\t& Pacific St' 'Boerum Pl\\t& Pacific St']\n",
      "Entry 2 ['Clinton St\\\\t& Cherry St' 'Clinton St\\t& Cherry St']\n",
      "Entry 3 ['Howard St & Lafayette St' 'Howard St & Centre St']\n",
      "Entry 4 ['Nassau St\\\\t& Duffield St' 'Nassau St\\t& Duffield St']\n"
     ]
    }
   ],
   "source": [
    "faulty_ids = np.array(\n",
    "    sample.groupby('start_station_id').count().sort_values('start_station_name').tail(5).T.columns\n",
    ")\n",
    "\n",
    "# iterate over the faulty station ids\n",
    "for idx, station_id in enumerate(faulty_ids):\n",
    "    faulty_entries = sample.loc[sample['start_station_id'] == station_id]\n",
    "    print('Entry',idx,np.array(faulty_entries['start_station_name']))\n",
    "del sample, faulty_entries, faulty_ids, idx, station_id"
   ]
  },
  {
   "cell_type": "markdown",
   "metadata": {},
   "source": [
    "The problem for most of these appear to be some sort of string parsing issue. This is good, because it means we can ignore it and **simply focus on the station_id's**. However, we see that entry 3 has actual different names. Let us examing this in [Google Maps](https://www.google.com/maps/place/Citi+Bike:+Howard+St+%26+Lafayette+St/@40.7191002,-73.9996465,20z/data=!4m13!1m7!3m6!1s0x89c2598992b42c11:0xa58f248cc38ef667!2sLafayette+St+%26+Howard+St,+New+York,+NY+10013!3b1!8m2!3d40.7192055!4d-73.9998472!3m4!1s0x89c25989ed219c2b:0x5828092994c0b427!8m2!3d40.7191053!4d-73.9997333). We can see that this station is nestled right between those two streets, so it refers to the same station. Again, we can ignore this and **simply focus on the station_id's**."
   ]
  },
  {
   "cell_type": "markdown",
   "metadata": {},
   "source": [
    "![title](./lafayettecentre.png)"
   ]
  },
  {
   "cell_type": "markdown",
   "metadata": {},
   "source": [
    "Let us perform one last sanity check before we start feature engineering, and ensure that there are the same number of start stations as there are end stations."
   ]
  },
  {
   "cell_type": "code",
   "execution_count": 14,
   "metadata": {},
   "outputs": [
    {
     "data": {
      "text/plain": [
       "True"
      ]
     },
     "execution_count": 14,
     "metadata": {},
     "output_type": "execute_result"
    }
   ],
   "source": [
    "len(df['start_station_id'].unique()) == len(df['end_station_id'].unique())"
   ]
  },
  {
   "cell_type": "markdown",
   "metadata": {},
   "source": [
    "We can ensure that all the entries in start_station_id are also present in end_station_id. This way, we know by iterating only over one of these lists ensures we are iterating across all potential station_ids. "
   ]
  },
  {
   "cell_type": "code",
   "execution_count": 15,
   "metadata": {},
   "outputs": [
    {
     "name": "stdout",
     "output_type": "stream",
     "text": [
      "data matches\n"
     ]
    }
   ],
   "source": [
    "is_complete = True\n",
    "for val in df['start_station_id'].unique():\n",
    "    if val not in df['end_station_id'].unique():\n",
    "        is_complete = False\n",
    "print('data matches') if is_complete else print('Error; data mistmatch')\n",
    "del val, is_complete"
   ]
  },
  {
   "cell_type": "markdown",
   "metadata": {},
   "source": [
    "Looks like we are good to go. Let's pull the necesary data for our algorithms into another dataframe to keep things clean."
   ]
  },
  {
   "cell_type": "markdown",
   "metadata": {},
   "source": [
    "### Edge Costs\n",
    "Now we need to compute edge costs between each station, and store this in a cost matrix. We can do this by first simply subtracting the start time from the end time. Since these are date objects, we can convert them to raw integers representing seconds by dividing by a 1 second numpy date time value to get total seconds and then casting to int32."
   ]
  },
  {
   "cell_type": "code",
   "execution_count": 16,
   "metadata": {},
   "outputs": [],
   "source": [
    "df['trip_cost'] = ((df['ended_at'] - df['started_at']) / np.timedelta64(1, 's')).astype(np.int32)"
   ]
  },
  {
   "cell_type": "markdown",
   "metadata": {},
   "source": [
    "Next up is creating our actual cost data. What we want here is a DataFrame that contains average trip cost from each start station to each end station (when they are not the same), across all rides between those two stations. We can do this by pulling out only our relevant values - `start_station_id`, `end_station_id`, and `trip_cost`, and then dropping all the entries where the start station is equivalent to the end station. Then we group them by their `start_station_id` / `end_station_id` and take an average of the remaining columns - which is just `trip_cost`."
   ]
  },
  {
   "cell_type": "code",
   "execution_count": 17,
   "metadata": {},
   "outputs": [],
   "source": [
    "new_df = df[['start_station_id', 'end_station_id', 'trip_cost']]\n",
    "dropped = new_df.drop(new_df[new_df['start_station_id'] == new_df['end_station_id']].index)\n",
    "edge_costs = dropped.groupby(by=['start_station_id','end_station_id']).mean().reset_index()\n",
    "del dropped, new_df;"
   ]
  },
  {
   "cell_type": "markdown",
   "metadata": {},
   "source": [
    "Lets take a look at our edge cost DataFrame."
   ]
  },
  {
   "cell_type": "code",
   "execution_count": 18,
   "metadata": {},
   "outputs": [
    {
     "data": {
      "text/html": [
       "<div>\n",
       "<style scoped>\n",
       "    .dataframe tbody tr th:only-of-type {\n",
       "        vertical-align: middle;\n",
       "    }\n",
       "\n",
       "    .dataframe tbody tr th {\n",
       "        vertical-align: top;\n",
       "    }\n",
       "\n",
       "    .dataframe thead th {\n",
       "        text-align: right;\n",
       "    }\n",
       "</style>\n",
       "<table border=\"1\" class=\"dataframe\">\n",
       "  <thead>\n",
       "    <tr style=\"text-align: right;\">\n",
       "      <th></th>\n",
       "      <th>start_station_id</th>\n",
       "      <th>end_station_id</th>\n",
       "      <th>trip_cost</th>\n",
       "    </tr>\n",
       "  </thead>\n",
       "  <tbody>\n",
       "    <tr>\n",
       "      <td>0</td>\n",
       "      <td>2733.03</td>\n",
       "      <td>2782.02</td>\n",
       "      <td>674.857143</td>\n",
       "    </tr>\n",
       "    <tr>\n",
       "      <td>1</td>\n",
       "      <td>2733.03</td>\n",
       "      <td>2832.03</td>\n",
       "      <td>1108.142857</td>\n",
       "    </tr>\n",
       "    <tr>\n",
       "      <td>2</td>\n",
       "      <td>2733.03</td>\n",
       "      <td>2872.02</td>\n",
       "      <td>651.750000</td>\n",
       "    </tr>\n",
       "    <tr>\n",
       "      <td>3</td>\n",
       "      <td>2733.03</td>\n",
       "      <td>2883.03</td>\n",
       "      <td>466.666667</td>\n",
       "    </tr>\n",
       "    <tr>\n",
       "      <td>4</td>\n",
       "      <td>2733.03</td>\n",
       "      <td>2912.08</td>\n",
       "      <td>692.333333</td>\n",
       "    </tr>\n",
       "    <tr>\n",
       "      <td>...</td>\n",
       "      <td>...</td>\n",
       "      <td>...</td>\n",
       "      <td>...</td>\n",
       "    </tr>\n",
       "    <tr>\n",
       "      <td>406129</td>\n",
       "      <td>8841.03</td>\n",
       "      <td>8782.01</td>\n",
       "      <td>1353.250000</td>\n",
       "    </tr>\n",
       "    <tr>\n",
       "      <td>406130</td>\n",
       "      <td>8841.03</td>\n",
       "      <td>8795.01</td>\n",
       "      <td>1514.631579</td>\n",
       "    </tr>\n",
       "    <tr>\n",
       "      <td>406131</td>\n",
       "      <td>8841.03</td>\n",
       "      <td>8795.03</td>\n",
       "      <td>843.333333</td>\n",
       "    </tr>\n",
       "    <tr>\n",
       "      <td>406132</td>\n",
       "      <td>8841.03</td>\n",
       "      <td>8799.01</td>\n",
       "      <td>1213.818182</td>\n",
       "    </tr>\n",
       "    <tr>\n",
       "      <td>406133</td>\n",
       "      <td>8841.03</td>\n",
       "      <td>8811.01</td>\n",
       "      <td>1116.375000</td>\n",
       "    </tr>\n",
       "  </tbody>\n",
       "</table>\n",
       "<p>406134 rows × 3 columns</p>\n",
       "</div>"
      ],
      "text/plain": [
       "        start_station_id  end_station_id    trip_cost\n",
       "0                2733.03         2782.02   674.857143\n",
       "1                2733.03         2832.03  1108.142857\n",
       "2                2733.03         2872.02   651.750000\n",
       "3                2733.03         2883.03   466.666667\n",
       "4                2733.03         2912.08   692.333333\n",
       "...                  ...             ...          ...\n",
       "406129           8841.03         8782.01  1353.250000\n",
       "406130           8841.03         8795.01  1514.631579\n",
       "406131           8841.03         8795.03   843.333333\n",
       "406132           8841.03         8799.01  1213.818182\n",
       "406133           8841.03         8811.01  1116.375000\n",
       "\n",
       "[406134 rows x 3 columns]"
      ]
     },
     "execution_count": 18,
     "metadata": {},
     "output_type": "execute_result"
    }
   ],
   "source": [
    "edge_costs"
   ]
  },
  {
   "cell_type": "markdown",
   "metadata": {},
   "source": [
    "As we can see, we have each `start_station_id`, each `end_station_id`, and the average `trip_cost` between those stations. We are now prepared to run our algorithms. "
   ]
  },
  {
   "cell_type": "markdown",
   "metadata": {},
   "source": [
    "# The Algorithms\n",
    "Now that we have pulled and preprocessed our data, we can begin to test various algorithms against it. We will test the following algorithms:\n",
    "\n",
    "**Greedy**\n",
    "- Nearest Neighbor\n",
    "- Farthest First Traversal\n",
    "\n",
    "**?????**\n",
    "- Christofides Algorithm \n",
    "\n",
    "**K-opt Heuristic Algorithms**\n",
    "- 2-OPT\n",
    "- 3-OPT\n",
    "- Lin-Kernighan Heuristic"
   ]
  },
  {
   "cell_type": "markdown",
   "metadata": {},
   "source": [
    "### Helper Function\n",
    "Before we do anything, let's write a little function to time our algorithms and make for easy comparison. "
   ]
  },
  {
   "cell_type": "code",
   "execution_count": 19,
   "metadata": {},
   "outputs": [],
   "source": [
    "def check_performance(fn, station_ids, distances):\n",
    "    start = time.time()\n",
    "    _, _ = fn(station_ids, distances)\n",
    "    end = time.time()\n",
    "    return end - start\n",
    "\n",
    "def compare_algorithms(fn_list, station_ids, distances, num_iters=5):\n",
    "    results = {}\n",
    "    for algo in fn_list:\n",
    "        t = 0\n",
    "        for _ in range(num_iters):\n",
    "            t += check_performance(algo, station_ids, distances)\n",
    "        results[algo.__name__] = t / num_iters\n",
    "    return results"
   ]
  },
  {
   "cell_type": "markdown",
   "metadata": {},
   "source": [
    "## Greedy Algorithms\n",
    "First, we will examine various greedy algorithms and their effectiveness on the data. "
   ]
  },
  {
   "cell_type": "markdown",
   "metadata": {},
   "source": [
    "### Nearest Neighbor\n",
    "\n",
    "The nearest neighbor algorithm is very simple and simply starts at a random node (or station in our example) and continues to visit unvisited nodes that are as close to the last visited node as possible .\n",
    "\n",
    "**Psuedocode:** \\\n",
    "These are the steps of the algorithm:\n",
    "\n",
    "    Initialize all vertices as unvisited.\n",
    "    Select an arbitrary vertex, set it as the current vertex u. Mark u as visited.\n",
    "    Find out the shortest edge connecting the current vertex u and an unvisited vertex v.\n",
    "    Set v as the current vertex u. Mark v as visited.\n",
    "    If all the vertices in the domain are visited, then terminate. Else, go to step 3.\n",
    "\n",
    "The sequence of the visited vertices is the output of the algorithm. \n",
    "\n",
    "**Time complexity:** Worst Case O(N^2)\n",
    "\n",
    "**Space complexity:** Worst Case O(N)\n",
    "\n",
    "[Source (wikipedia)](https://en.wikipedia.org/wiki/Nearest_neighbour_algorithm)"
   ]
  },
  {
   "cell_type": "code",
   "execution_count": null,
   "metadata": {},
   "outputs": [],
   "source": [
    "# Nearest Neighbor\n",
    "def nearest_neighbor(edge_costs : pd.DataFrame):\n",
    "    cost = 0\n",
    "    path = []\n",
    "    \n",
    "    return path, cost"
   ]
  },
  {
   "cell_type": "markdown",
   "metadata": {},
   "source": [
    "### Farthest-First Traversal\n",
    "\n",
    "**PseudoCode:**\\\n",
    "The farthest-first traversal of a finite point set may be computed by a greedy algorithm that maintains the distance of each point from the previously selected points, performing the following steps:[3]\n",
    "\n",
    "    Initialize the sequence of selected points to the empty sequence, and the distances of each point to the selected points to infinity.\n",
    "    While not all points have been selected, repeat the following steps:\n",
    "        Scan the list of not-yet-selected points to find a point p that has maximum distance from the selected points.\n",
    "        Remove p from the not-yet-selected points and add it to the end of the sequence of selected points.\n",
    "        For each remaining not-yet-selected point q, replace the distance stored for q by the minimum of its old value and the distance from p to q.\n",
    "\n",
    "**Time complexity:** Worst Case O(N^2)\n",
    "\n",
    "**Space complexity:** Worst Case O(N)\n",
    "\n",
    "[Source (wikipedia)](https://en.wikipedia.org/wiki/Farthest-first_traversal)"
   ]
  },
  {
   "cell_type": "code",
   "execution_count": null,
   "metadata": {},
   "outputs": [],
   "source": [
    "# Farthest-First Traversal"
   ]
  },
  {
   "cell_type": "markdown",
   "metadata": {},
   "source": [
    "### K-opt Agorithms\n",
    "\n",
    "#### 2-opt Algorithm\n",
    "\n",
    "The 2-opt algorithm works as follows: take 2 arcs from the route, reconnect these arcs with each other and calculate new travel distance. If this modification has led to a shorter total travel distance the current route is updated. The algorithm continues to build on the improved route and repeats the steps.\n",
    "\n",
    "```\n",
    "procedure 2optSwap(route, i, k) {\n",
    "    1. take route[0] to route[i-1] and add them in order to new_route\n",
    "    2. take route[i] to route[k] and add them in reverse order to new_route\n",
    "    3. take route[k+1] to end and add them in order to new_route\n",
    "    return new_route;\n",
    "}\n",
    "```"
   ]
  },
  {
   "cell_type": "code",
   "execution_count": 2,
   "metadata": {},
   "outputs": [],
   "source": [
    "def two_opt(route):\n",
    "    # 2-opt implementation here\n",
    "    return"
   ]
  },
  {
   "cell_type": "code",
   "execution_count": 35,
   "metadata": {
    "scrolled": true
   },
   "outputs": [
    {
     "data": {
      "text/html": [
       "<div>\n",
       "<style scoped>\n",
       "    .dataframe tbody tr th:only-of-type {\n",
       "        vertical-align: middle;\n",
       "    }\n",
       "\n",
       "    .dataframe tbody tr th {\n",
       "        vertical-align: top;\n",
       "    }\n",
       "\n",
       "    .dataframe thead th {\n",
       "        text-align: right;\n",
       "    }\n",
       "</style>\n",
       "<table border=\"1\" class=\"dataframe\">\n",
       "  <thead>\n",
       "    <tr style=\"text-align: right;\">\n",
       "      <th></th>\n",
       "      <th>start_station_id</th>\n",
       "      <th>end_station_id</th>\n",
       "      <th>trip_cost</th>\n",
       "    </tr>\n",
       "  </thead>\n",
       "  <tbody>\n",
       "    <tr>\n",
       "      <td>0</td>\n",
       "      <td>2733.03</td>\n",
       "      <td>2782.02</td>\n",
       "      <td>674.857143</td>\n",
       "    </tr>\n",
       "    <tr>\n",
       "      <td>1</td>\n",
       "      <td>2733.03</td>\n",
       "      <td>2832.03</td>\n",
       "      <td>1108.142857</td>\n",
       "    </tr>\n",
       "    <tr>\n",
       "      <td>2</td>\n",
       "      <td>2733.03</td>\n",
       "      <td>2872.02</td>\n",
       "      <td>651.750000</td>\n",
       "    </tr>\n",
       "    <tr>\n",
       "      <td>3</td>\n",
       "      <td>2733.03</td>\n",
       "      <td>2883.03</td>\n",
       "      <td>466.666667</td>\n",
       "    </tr>\n",
       "    <tr>\n",
       "      <td>4</td>\n",
       "      <td>2733.03</td>\n",
       "      <td>2912.08</td>\n",
       "      <td>692.333333</td>\n",
       "    </tr>\n",
       "    <tr>\n",
       "      <td>...</td>\n",
       "      <td>...</td>\n",
       "      <td>...</td>\n",
       "      <td>...</td>\n",
       "    </tr>\n",
       "    <tr>\n",
       "      <td>406129</td>\n",
       "      <td>8841.03</td>\n",
       "      <td>8782.01</td>\n",
       "      <td>1353.250000</td>\n",
       "    </tr>\n",
       "    <tr>\n",
       "      <td>406130</td>\n",
       "      <td>8841.03</td>\n",
       "      <td>8795.01</td>\n",
       "      <td>1514.631579</td>\n",
       "    </tr>\n",
       "    <tr>\n",
       "      <td>406131</td>\n",
       "      <td>8841.03</td>\n",
       "      <td>8795.03</td>\n",
       "      <td>843.333333</td>\n",
       "    </tr>\n",
       "    <tr>\n",
       "      <td>406132</td>\n",
       "      <td>8841.03</td>\n",
       "      <td>8799.01</td>\n",
       "      <td>1213.818182</td>\n",
       "    </tr>\n",
       "    <tr>\n",
       "      <td>406133</td>\n",
       "      <td>8841.03</td>\n",
       "      <td>8811.01</td>\n",
       "      <td>1116.375000</td>\n",
       "    </tr>\n",
       "  </tbody>\n",
       "</table>\n",
       "<p>406134 rows × 3 columns</p>\n",
       "</div>"
      ],
      "text/plain": [
       "        start_station_id  end_station_id    trip_cost\n",
       "0                2733.03         2782.02   674.857143\n",
       "1                2733.03         2832.03  1108.142857\n",
       "2                2733.03         2872.02   651.750000\n",
       "3                2733.03         2883.03   466.666667\n",
       "4                2733.03         2912.08   692.333333\n",
       "...                  ...             ...          ...\n",
       "406129           8841.03         8782.01  1353.250000\n",
       "406130           8841.03         8795.01  1514.631579\n",
       "406131           8841.03         8795.03   843.333333\n",
       "406132           8841.03         8799.01  1213.818182\n",
       "406133           8841.03         8811.01  1116.375000\n",
       "\n",
       "[406134 rows x 3 columns]"
      ]
     },
     "execution_count": 35,
     "metadata": {},
     "output_type": "execute_result"
    }
   ],
   "source": [
    "edge_costs"
   ]
  },
  {
   "cell_type": "code",
   "execution_count": 104,
   "metadata": {},
   "outputs": [
    {
     "name": "stdout",
     "output_type": "stream",
     "text": [
      "674.8571428571429\n",
      "761.0666666666667\n"
     ]
    }
   ],
   "source": [
    "print(get_edge_cost(edge_costs, 2733.03, 2782.02))\n",
    "print(get_edge_cost(edge_costs, 2782.02, 2733.03))"
   ]
  },
  {
   "cell_type": "code",
   "execution_count": 20,
   "metadata": {},
   "outputs": [],
   "source": [
    "stations = df['start_station_id'].unique()"
   ]
  },
  {
   "cell_type": "code",
   "execution_count": 21,
   "metadata": {},
   "outputs": [
    {
     "data": {
      "text/plain": [
       "array([7141.07, 5175.08, 3651.04, ..., 8290.01, 4203.04, 8285.11])"
      ]
     },
     "execution_count": 21,
     "metadata": {},
     "output_type": "execute_result"
    }
   ],
   "source": [
    "stations"
   ]
  },
  {
   "cell_type": "code",
   "execution_count": 22,
   "metadata": {},
   "outputs": [],
   "source": [
    "def get_edge_cost(edge_costs, start_station_id, end_station_id):\n",
    "    cost = edge_costs[(edge_costs[\"start_station_id\"] == start_station_id) \\\n",
    "                      & (edge_costs[\"end_station_id\"] == end_station_id)]\n",
    "    if cost.empty:\n",
    "        return 10000\n",
    "    else:\n",
    "        return cost.get(\"trip_cost\").iloc[0]\n"
   ]
  },
  {
   "cell_type": "code",
   "execution_count": 35,
   "metadata": {},
   "outputs": [],
   "source": [
    "import matplotlib.pyplot as plt\n",
    "\n",
    "MAXCOUNT = 20\n",
    "\n",
    "def calPathDist(edge_costs, path):\n",
    "    sum = 0.0\n",
    "    for i in range(1, len(path)):\n",
    "        sum += get_edge_cost(edge_costs, path[i], path[i - 1])\n",
    "    return sum    \n",
    "\n",
    "def pathCompare(path1, path2):\n",
    "    if calPathDist(edge_costs, path1) <= calPathDist(edge_costs, path2):\n",
    "        return True\n",
    "    return False\n",
    "    \n",
    "def generateRandomPath(path):\n",
    "    a = np.random.randint(len(path))\n",
    "    while True:\n",
    "        b = np.random.randint(len(path))\n",
    "        if np.abs(a - b) > 1:\n",
    "            break\n",
    "    if a > b:\n",
    "        return b, a, path[b:a+1]\n",
    "    else:\n",
    "        return a, b, path[a:b+1]\n",
    "    \n",
    "def reversePath(path):\n",
    "    rePath = path.copy()\n",
    "    rePath[1:-1] = rePath[-2:0:-1]\n",
    "    return rePath\n",
    "    \n",
    "def updateBestPath(bestPath):\n",
    "    count = 0\n",
    "    while count < MAXCOUNT:\n",
    "#         print(bestPath.tolist())\n",
    "        start, end, path = generateRandomPath(bestPath)\n",
    "        rePath = reversePath(path)\n",
    "        if pathCompare(path, rePath):\n",
    "            count += 1\n",
    "            continue\n",
    "        else:\n",
    "            count = 0\n",
    "            bestPath[start:end+1] = rePath\n",
    "    print(\"Best path costs to\", calPathDist(edge_costs, bestPath))\n",
    "    return bestPath\n",
    "    \n",
    "def two_opt(stations):\n",
    "    bestPath = stations\n",
    "    bestPath = np.append(bestPath, stations[0])\n",
    "    bestPath = updateBestPath(bestPath)\n"
   ]
  },
  {
   "cell_type": "markdown",
   "metadata": {},
   "source": [
    "#### 3-opt Algorithm\n",
    "3-opt analysis involves deleting 3 connections (or edges) in a network (or tour), to create 3 sub-tours. Then the 7 different ways of reconnecting the network are analysed to find the optimum one. This process is then repeated for a different set of 3 connections, until all possible combinations have been tried in a network. A single execution of 3-opt has a time complexity of $O(n^{3})$.\n"
   ]
  },
  {
   "cell_type": "code",
   "execution_count": null,
   "metadata": {},
   "outputs": [],
   "source": [
    "def three_opt(route):\n",
    "    # 3-opt implementation here\n",
    "    return"
   ]
  },
  {
   "cell_type": "code",
   "execution_count": 40,
   "metadata": {},
   "outputs": [],
   "source": [
    "def exchange(path, mode, a, c, e):\n",
    "    \"\"\"\n",
    "    path: sequence of station_id with i th being starting and i + 1 th being ending staions\n",
    "    mode: mode of exchanging\n",
    "    a, c, e: index of stations\n",
    "    \"\"\"\n",
    "    b, d, f = a + 1, c + 1, e + 1\n",
    "    \n",
    "    \n",
    "    \n",
    "    if mode == 0:\n",
    "        # remain unchanged\n",
    "        return path, 0\n",
    "    elif mode == 1:\n",
    "        # 2-opt (a, e)[d, c](b, f)\n",
    "        sol = np.concatenate((path[: a + 1], path[e: d - 1: -1], path[c: b - 1: -1], path[f:]))\n",
    "    elif mode == 2:\n",
    "        # 2-opt [a, c](b, d)[e, f]\n",
    "        sol = np.concatenate((path[: a + 1], path[b: c + 1], path[e:d - 1: -1], path[f:]))\n",
    "    elif mode == 3:\n",
    "        # 2-opt (a, c)(b, d)[e, f]\n",
    "        sol = np.concatenate((path[: a + 1], path[c: b - 1: -1], path[d: e + 1], path[f:]))\n",
    "    elif mode == 4:\n",
    "        # 3-opt (a, c)(b, e)(d, f)\n",
    "        sol = np.concatenate((path[: a + 1], path[c: b - 1: -1], path[e: d - 1: -1], path[f:]))\n",
    "    elif mode == 5:\n",
    "        # 3-opt (a, e)(d, b)(c, f)\n",
    "        sol = np.concatenate((path[: a + 1], path[e: d - 1: -1], path[b: c + 1], path[f:]))\n",
    "    elif mode == 6:\n",
    "        # 3-opt (a, d)(e, c)(b, f)\n",
    "        sol = np.concatenate((path[: a + 1], path[d: e + 1], path[c: b - 1: -1], path[f:]))\n",
    "    elif mode == 7:\n",
    "        # 3-opt (a, d)(e, b)(c, f)\n",
    "        sol = np.concatenate((path[: a + 1], path[d: e + 1], path[b: c + 1], path[f:]))\n",
    "    \n",
    "    base = calPathDist(edge_costs, path)\n",
    "    newCost = calPathDist(edge_costs, sol)\n",
    "    return sol, base - newCost\n",
    "\n",
    "def three_opt_search(bestPath):\n",
    "    size = len(bestPath)\n",
    "    bestCost = calPathDist(edge_costs, bestPath)\n",
    "    bestChange = 1\n",
    "    \n",
    "    while bestChange > 0:\n",
    "        saved, bestChange = three_opt_update(bestPath, size)\n",
    "#         print(\"current route cost is\", bestCost)\n",
    "        if bestChange > 0:\n",
    "            a, c, e, mode = saved\n",
    "            bestPath, change = exchange(bestPath, mode, a, c, e)\n",
    "            bestCost -= change\n",
    "    print(\"best route cost is\", bestCost)\n",
    "\n",
    "def three_opt_update(bestPath, size):\n",
    "    bestChange = 0\n",
    "    saved = None\n",
    "    for a in range(size - 5):\n",
    "        for c in range(a + 2, size - 3):\n",
    "            for e in range(c + 2, size - 1):\n",
    "                change = 0\n",
    "#                 print(a, c, e, change, bestChange)\n",
    "                for i in range(8):\n",
    "                    path, change = exchange(bestPath, i, a, c, e)\n",
    "                    \n",
    "                    if change > bestChange:\n",
    "                        saved = a, c, e, i\n",
    "                        bestChange = change\n",
    "    return saved, bestChange\n",
    "        \n",
    "        "
   ]
  },
  {
   "cell_type": "code",
   "execution_count": 37,
   "metadata": {},
   "outputs": [],
   "source": [
    "import random\n",
    "import numpy as np\n",
    "import matplotlib.pyplot as plt\n",
    "# import TWOPT\n",
    "from itertools import combinations, permutations\n",
    "\n",
    "def three_opt(stations):\n",
    "    bestPath = stations\n",
    "    bestPath = np.append(bestPath, stations[0])\n",
    "    bestPath = three_opt_search(bestPath)"
   ]
  },
  {
   "cell_type": "markdown",
   "metadata": {},
   "source": [
    "### Check 2-opt and 3-opt performance"
   ]
  },
  {
   "cell_type": "code",
   "execution_count": 38,
   "metadata": {},
   "outputs": [],
   "source": [
    "def check_performance(fn, stations):\n",
    "    start = time.time()\n",
    "    fn(stations)\n",
    "    end = time.time()\n",
    "    return end - start"
   ]
  },
  {
   "cell_type": "code",
   "execution_count": 41,
   "metadata": {},
   "outputs": [
    {
     "name": "stdout",
     "output_type": "stream",
     "text": [
      "Best path costs to 47846.56589147287\n",
      "best route cost is 37587.732558139534\n",
      "Best path costs to 48486.99255813954\n",
      "best route cost is 38025.214780361755\n",
      "Best path costs to 61874.5846031746\n",
      "best route cost is 41032.214780361755\n",
      "Best path costs to 79458.27358378057\n",
      "best route cost is 42212.71164416104\n",
      "Best path costs to 88694.05769230769\n",
      "best route cost is 48288.99255813954\n"
     ]
    }
   ],
   "source": [
    "two_opt_perf = []\n",
    "three_opt_perf = []\n",
    "for i in range(10,20,2):\n",
    "    two_opt_perf.append(check_performance(two_opt, stations[:i]))\n",
    "    three_opt_perf.append(check_performance(three_opt, stations[:i]))"
   ]
  },
  {
   "cell_type": "code",
   "execution_count": 46,
   "metadata": {},
   "outputs": [
    {
     "data": {
      "image/png": "[encoded data removed]",
      "text/plain": [
       "<Figure size 432x288 with 1 Axes>"
      ]
     },
     "metadata": {
      "needs_background": "light"
     },
     "output_type": "display_data"
    }
   ],
   "source": [
    "# summarize history for runtime\n",
    "x = range(2, 12, 2)\n",
    "plt.plot(x, two_opt_perf)\n",
    "plt.plot(x, three_opt_perf)\n",
    "plt.title('Algorithm Runtime Comparison (2-opt vs. 3-opt)')\n",
    "plt.ylabel('Program Runtime')\n",
    "plt.xlabel('Number of Stations')\n",
    "plt.legend(['two_opt', 'three_opt'], loc='upper left')\n",
    "plt.show()"
   ]
  },
  {
   "cell_type": "code",
   "execution_count": 47,
   "metadata": {},
   "outputs": [
    {
     "data": {
      "image/png": "[encoded data removed]",
      "text/plain": [
       "<Figure size 432x288 with 1 Axes>"
      ]
     },
     "metadata": {
      "needs_background": "light"
     },
     "output_type": "display_data"
    }
   ],
   "source": [
    "# summarize history for path costs\n",
    "two_opt_cost = [47846.56589147287, 48486.99255813954, 61874.5846031746, 79458.27358378057, 88694.05769230769]\n",
    "three_opt_cost = [37587.732558139534, 38025.214780361755, 41032.214780361755, 42212.71164416104, 48288.99255813954]\n",
    "plt.plot(x, two_opt_cost)\n",
    "plt.plot(x, three_opt_cost)\n",
    "plt.title('Optimized Route Cost Comparison (2-opt vs. 3-opt)')\n",
    "plt.ylabel('Route Cost in Time')\n",
    "plt.xlabel('Number of Stations')\n",
    "plt.legend(['two_opt', 'three_opt'], loc='upper left')\n",
    "plt.show()"
   ]
  },
  {
   "cell_type": "code",
   "execution_count": null,
   "metadata": {},
   "outputs": [],
   "source": []
  }
 ],
 "metadata": {
  "kernelspec": {
   "display_name": "Python 3",
   "language": "python",
   "name": "python3"
  },
  "language_info": {
   "codemirror_mode": {
    "name": "ipython",
    "version": 3
   },
   "file_extension": ".py",
   "mimetype": "text/x-python",
   "name": "python",
   "nbconvert_exporter": "python",
   "pygments_lexer": "ipython3",
   "version": "3.7.4"
  }
 },
 "nbformat": 4,
 "nbformat_minor": 5
}
