{
 "cells": [
  {
   "cell_type": "markdown",
   "id": "b1783b49",
   "metadata": {},
   "source": [
    "# CitiBike TSP\n",
    "**Algorithms Group 50**\\\n",
    "Donal Lowsley-Williams \\\n",
    "Joan La Rosa \\\n",
    "Isaac Lichter \\\n",
    "Weidong Gao \n",
    "\n",
    "We will be conducting the traveling salesman problem on New York City citibike data. "
   ]
  },
  {
   "cell_type": "markdown",
   "id": "14458b2e",
   "metadata": {},
   "source": [
    "### Imports\n",
    "Will we be implementing these algorithms by hand, so we just need libraries for data loading and export, matrix manipulation functions, and some data exploration. These are very common libraries, but feel free to use the environment file to create an Anaconda environment for it. "
   ]
  },
  {
   "cell_type": "code",
   "execution_count": null,
   "id": "f59fec9d",
   "metadata": {},
   "outputs": [],
   "source": [
    "import csv\n",
    "import json\n",
    "import numpy as np\n",
    "import pandas as pd"
   ]
  },
  {
   "cell_type": "markdown",
   "id": "b8ea4d0e",
   "metadata": {},
   "source": [
    "### The Data\n",
    "We will get the data from CitiBike's openly available [System Data](https://s3.amazonaws.com/tripdata/index.html). The data we are using was the most recent as of this notebook's creation date, and was published by CitiBike on [**Oct 4th 2021, 01:26:29 pm**](https://s3.amazonaws.com/tripdata/202109-citibike-tripdata.csv.zip). This is the data of all rides taken on the CitiBike system during the month of September 2021. However, the preprocessing should work for any selection of the data from the system data, since they all should follow the same structure. "
   ]
  },
  {
   "cell_type": "code",
   "execution_count": null,
   "id": "11ee2fd3",
   "metadata": {},
   "outputs": [],
   "source": []
  },
  {
   "cell_type": "markdown",
   "id": "11e25f6e",
   "metadata": {},
   "source": [
    "### Preprocessing\n",
    "In order to preprocess the data, "
   ]
  },
  {
   "cell_type": "code",
   "execution_count": null,
   "id": "1ceb961e",
   "metadata": {},
   "outputs": [],
   "source": []
  }
 ],
 "metadata": {
  "kernelspec": {
   "display_name": "Python 3 (ipykernel)",
   "language": "python",
   "name": "python3"
  },
  "language_info": {
   "codemirror_mode": {
    "name": "ipython",
    "version": 3
   },
   "file_extension": ".py",
   "mimetype": "text/x-python",
   "name": "python",
   "nbconvert_exporter": "python",
   "pygments_lexer": "ipython3",
   "version": "3.9.1"
  }
 },
 "nbformat": 4,
 "nbformat_minor": 5
}
